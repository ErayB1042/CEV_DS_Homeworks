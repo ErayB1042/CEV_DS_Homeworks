{
  "nbformat": 4,
  "nbformat_minor": 0,
  "metadata": {
    "colab": {
      "provenance": [],
      "collapsed_sections": []
    },
    "kernelspec": {
      "name": "python3",
      "display_name": "Python 3"
    },
    "language_info": {
      "name": "python"
    }
  },
  "cells": [
    {
      "cell_type": "markdown",
      "source": [
        "# 1.1) Json-Dictionary arasındaki fark nedir?\n",
        "Dictionary bir veri yapısıdır. JSON ise platform ve dilden bağımsız bir biçimde sistemler arası veriyi aktarmanın bir yoludur. O veriyi alır byte olarak encode eder gönderilen veri gene decode edilir. Dictionaryde veriler tutulurken oluşturulan \"key\"ler tekrarlanamzken, JSON'da tekrarlanabilir. Dictionary nesne döndürürken jsonda string döndürmektedir.\n",
        "\n",
        "# 1.2)Dumps Ne işe yarıyor?\n",
        "Pythondaki obje alt kümesini(\"dict, list, string ,int, float, True, False, None\") Json formatında String'e dönüştürmek için kullanılır.\n",
        "# 1.3)Neden encode kullandık? \n",
        "Verilerin verimli şekilde saklanması için veriyi byte'a çevirmemiz gerekir. Bu işleme genel olarak encoding denmekte. \n",
        "# 1.4)Neden data.encode.utf-8n şeklinde kullanmadık?\n",
        "utf-8 bir fonksiyon değil bir karakter kodlamasıdır. Encode ederken vermemiz gerekn bir parametre olabileceğinden encode fonksiyonuna parantez içinde parametre olarak verilir. \" data.encode(\"utf-8\") \" şeklinde.\n",
        "# 2.1) Json dumps nedir?\n",
        "Python verisini Jsona dönüştürmek için kullanılır.\n",
        "# 2.2)json load nedir?\n",
        "Sadece JSON dosyasındaki verileri Python verisine çevirir. Veriyi parametre olarak almamaktadır.\n",
        "# 2.3)json loads nedir?\n",
        "Bir JSON verisini,  Pythonda sözlük(dict.) tipine dönüştürür. Veriyi parametre olarak alır.\n",
        "# 3.1) Dockera girdikten sonra spesific bir container hangi networkta çalışıyor ? \n",
        "Bridge network üzerinden çalışmakta.\n",
        "powershell arayüzünde docker network inspect bridge komutu ile hangi networkte çalıştığını öğrenebiliriz. \n",
        "# 3.2)default ip nasıl bulunacak? Bir satırlık kod olarak yazılacak.\n",
        "docker inspect -f “{{range.NetworkSettings.Networks}}{{.IPAddress}}{{end}}” ContainerID\n",
        "# 4.1) Kod json.dumps değil de json.dump ile deneyerek yazılacak.\n",
        "producer.send( OREDER_KAFKA_TOPİC, with open(\"sample.json\", \"w\") as outfile:    json.dump(data, outfile) f = open(\"demofile.txt\", \"r\") f.read() )\n",
        ">dump fonksiyonu çıktıyı illaki bir dosya içine aktarır. Yani size al bu senin istediğin JSON çıktısı demez. Bunu diyen dumps fonksiyonudur. dumps fonksiyonu str tipinde bir değer döndürürken dump fonksiyonu hiçbir değer döndürmez.(https://python-istihza.yazbel.com/)\n",
        "# 5) Neden UTF-8 kullanıyoruz?\n",
        "Pythonda default parametre olarak encodingde UTF-8 kullanılmakta. UTF-8'in birçok özelliği vardır; \n",
        "Geriye doğru uyumluluk,Çok baytlı ve tek baytlı karakterler arasındaki açık ayrım,Kendini eş zamanlama,Kodlanmış bayt dizilerinin uzunluklarının açıkça belirtiliyor olması,Değişken kod uzunluğu vb özellikler nedeniyle birlikte dünya dillerini kapsıyor oluşu kullanımında etkilidir.\n",
        "# 6) 192.168.0.1 nedir ve 127.00.01 arasındaki fark nedir?\n",
        ">127.0.0.1, bilgisayarın sahip olduğu yerel IP adresi yani bir diğer deyişle Localhost adresidir. Bilgisayarınıza bir web sunucusu veya yazılımı kurduğunuz anda yazılım bilgisayarınızla bu IP adresi üzerinden iletişime geçecektir.(https://wmaraci.com/nedir/127-0-0-1)\n",
        ">192.168.0.1 Modem IP adresi, ülkemizde sıklıkla kullanılan yerel IP adreslerinden biridir. Modem veya router yönetim arayüzüne ulaşmak için bu IP adresi kullanılmaktadır.(https://tr.gadget-info.com/why-is-default-ip-address)\n",
        "\n",
        "\n"
      ],
      "metadata": {
        "id": "DK8wGKlIABrT"
      }
    }
  ]
}