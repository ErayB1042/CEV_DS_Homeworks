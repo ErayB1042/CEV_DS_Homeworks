{
  "cells": [
    {
      "cell_type": "code",
      "execution_count": null,
      "outputs": [],
      "source": [
        "# TASK-9A: Please apply the following feature engineering steps on the numeric features of the AD dataset.\n",
        "#\n",
        "# Divide by NACCBRNV (MRI)\n",
        "# Multiply by NACCAGEB\n",
        "#\n",
        "# TASK-9B: Please apply Gaussian Naive Bayes algorithm on the numeric values (after the transformation) to predict the CDRGLOB values (class-based). Train-test split, train by grid search (k=5) and optimize for the parameter values.\n",
        "#\n",
        "# TASK-9C: Please apply a one-hot encoding method on the categorical data of the AD dataset.\n",
        "#\n",
        "# TASK–9D: Please apply Multinomial Naive Bayes algorithms on the one-hot encoded categorical data of the AD dataset and predict the labels (CDRGLOB).\n",
        "#\n",
        "#TASK-9E: Please merge the normalized numeric values and one-hot encoded categorical values and then apply the following regression methods (Linear, Ridge and Lasso) to predict the labels as numeric values. Please do not forget to optimize them and use R2 for scoring.\n",
        "#\n",
        "#                                                                                                                                                                                                                                                                                                                                                                                                       TASK-9F: Please find and apply the classification versions of the following algorithms (Linear, Ridge and Lasso) with the hyperparameter optimization."
      ],
      "metadata": {
        "id": "_X8-N624F7Ku"
      }
    },
    {
      "cell_type": "code",
      "execution_count": 1,
      "outputs": [],
      "source": [
        "import pandas as pd\n",
        "import numpy as np\n",
        "from sklearn.naive_bayes import GaussianNB\n",
        "from sklearn.model_selection import train_test_split\n",
        "from sklearn.metrics import accuracy_score\n",
        "from sklearn.naive_bayes import GaussianNB\n",
        "from sklearn.model_selection import train_test_split, GridSearchCV"
      ],
      "metadata": {
        "id": "cbr1ya5GF7Kv"
      }
    },
    {
      "cell_type": "code",
      "execution_count": null,
      "outputs": [
        {
          "data": {
            "text/plain": "      SEX  EDUC  MARISTAT  INDEPEND  RESIDENC  NACCFAM  ANYMEDS  SMOKYRS  \\\n0       2    18         1         1         1        1        1        0   \n1       1    11         1         1         1        1        1        0   \n2       2    16         1         1         1        1        1       10   \n3       1    14         1         1         1        0        1        0   \n4       1    16         1         1         2        0        1       50   \n...   ...   ...       ...       ...       ...      ...      ...      ...   \n1349    1    20         1         1         1        1        1        0   \n1350    1    16         1         2         1        0        1        0   \n1351    2    14         2         1         1        1        1        0   \n1352    2    20         3         1         1        1        1       25   \n1353    2    14         1         1         1        1        1       10   \n\n      NACCTBI  DIABETES  ...   RSUPFR  RSUPFRM  RSUPPAR  RSUPPARM  RSUPTEM  \\\n0           0         0  ...  27.9038   2.2157  10.3481    1.7014  13.4250   \n1           0         0  ...  29.0600   2.6900   9.2500    1.6300  14.8800   \n2           0         1  ...  33.0000   2.5400  13.6900    1.5600  16.2300   \n3           0         1  ...  31.6800   2.4100   9.6400    1.4500  15.1100   \n4           0         0  ...  28.0631   1.9501   9.1125    1.0427  13.3763   \n...       ...       ...  ...      ...      ...      ...       ...      ...   \n1349        0         0  ...  24.6892   2.6528  10.5460    2.1712  14.1128   \n1350        0         0  ...  24.7908   2.0993  10.4094    1.4855  10.7880   \n1351        0         0  ...  23.8500   2.1200  12.3900    1.5300  12.6600   \n1352        0         0  ...  31.3500   2.4300  10.8200    1.7000  13.7700   \n1353        0         0  ...  21.9900   2.4100   9.8900    1.7600  13.9600   \n\n      RSUPTEMM  RSUPMAR  RSUPMARM  RTRTEM  RTRTEMM  \n0       1.7419   9.8700    1.6792  0.8906   1.1947  \n1       2.3000   7.2700    1.8900  1.3800   2.0300  \n2       2.0700  10.1100    1.8400  1.0100   1.5000  \n3       1.6400  10.3900    1.8300  0.7400   1.1000  \n4       1.6270   7.5844    1.4595  0.6638   0.8527  \n...        ...      ...       ...     ...      ...  \n1349    2.8833   9.3176    2.3582  0.6735   1.0270  \n1350    1.9027  10.2034    2.0484  0.7267   0.7946  \n1351    1.9900   9.4800    1.7400  1.1800   1.5900  \n1352    2.1000  11.1200    2.1400  1.3100   1.5200  \n1353    2.2000   9.9600    1.8600  0.8300   1.6500  \n\n[1354 rows x 186 columns]",
            "text/html": "<div>\n<style scoped>\n    .dataframe tbody tr th:only-of-type {\n        vertical-align: middle;\n    }\n\n    .dataframe tbody tr th {\n        vertical-align: top;\n    }\n\n    .dataframe thead th {\n        text-align: right;\n    }\n</style>\n<table border=\"1\" class=\"dataframe\">\n  <thead>\n    <tr style=\"text-align: right;\">\n      <th></th>\n      <th>SEX</th>\n      <th>EDUC</th>\n      <th>MARISTAT</th>\n      <th>INDEPEND</th>\n      <th>RESIDENC</th>\n      <th>NACCFAM</th>\n      <th>ANYMEDS</th>\n      <th>SMOKYRS</th>\n      <th>NACCTBI</th>\n      <th>DIABETES</th>\n      <th>...</th>\n      <th>RSUPFR</th>\n      <th>RSUPFRM</th>\n      <th>RSUPPAR</th>\n      <th>RSUPPARM</th>\n      <th>RSUPTEM</th>\n      <th>RSUPTEMM</th>\n      <th>RSUPMAR</th>\n      <th>RSUPMARM</th>\n      <th>RTRTEM</th>\n      <th>RTRTEMM</th>\n    </tr>\n  </thead>\n  <tbody>\n    <tr>\n      <th>0</th>\n      <td>2</td>\n      <td>18</td>\n      <td>1</td>\n      <td>1</td>\n      <td>1</td>\n      <td>1</td>\n      <td>1</td>\n      <td>0</td>\n      <td>0</td>\n      <td>0</td>\n      <td>...</td>\n      <td>27.9038</td>\n      <td>2.2157</td>\n      <td>10.3481</td>\n      <td>1.7014</td>\n      <td>13.4250</td>\n      <td>1.7419</td>\n      <td>9.8700</td>\n      <td>1.6792</td>\n      <td>0.8906</td>\n      <td>1.1947</td>\n    </tr>\n    <tr>\n      <th>1</th>\n      <td>1</td>\n      <td>11</td>\n      <td>1</td>\n      <td>1</td>\n      <td>1</td>\n      <td>1</td>\n      <td>1</td>\n      <td>0</td>\n      <td>0</td>\n      <td>0</td>\n      <td>...</td>\n      <td>29.0600</td>\n      <td>2.6900</td>\n      <td>9.2500</td>\n      <td>1.6300</td>\n      <td>14.8800</td>\n      <td>2.3000</td>\n      <td>7.2700</td>\n      <td>1.8900</td>\n      <td>1.3800</td>\n      <td>2.0300</td>\n    </tr>\n    <tr>\n      <th>2</th>\n      <td>2</td>\n      <td>16</td>\n      <td>1</td>\n      <td>1</td>\n      <td>1</td>\n      <td>1</td>\n      <td>1</td>\n      <td>10</td>\n      <td>0</td>\n      <td>1</td>\n      <td>...</td>\n      <td>33.0000</td>\n      <td>2.5400</td>\n      <td>13.6900</td>\n      <td>1.5600</td>\n      <td>16.2300</td>\n      <td>2.0700</td>\n      <td>10.1100</td>\n      <td>1.8400</td>\n      <td>1.0100</td>\n      <td>1.5000</td>\n    </tr>\n    <tr>\n      <th>3</th>\n      <td>1</td>\n      <td>14</td>\n      <td>1</td>\n      <td>1</td>\n      <td>1</td>\n      <td>0</td>\n      <td>1</td>\n      <td>0</td>\n      <td>0</td>\n      <td>1</td>\n      <td>...</td>\n      <td>31.6800</td>\n      <td>2.4100</td>\n      <td>9.6400</td>\n      <td>1.4500</td>\n      <td>15.1100</td>\n      <td>1.6400</td>\n      <td>10.3900</td>\n      <td>1.8300</td>\n      <td>0.7400</td>\n      <td>1.1000</td>\n    </tr>\n    <tr>\n      <th>4</th>\n      <td>1</td>\n      <td>16</td>\n      <td>1</td>\n      <td>1</td>\n      <td>2</td>\n      <td>0</td>\n      <td>1</td>\n      <td>50</td>\n      <td>0</td>\n      <td>0</td>\n      <td>...</td>\n      <td>28.0631</td>\n      <td>1.9501</td>\n      <td>9.1125</td>\n      <td>1.0427</td>\n      <td>13.3763</td>\n      <td>1.6270</td>\n      <td>7.5844</td>\n      <td>1.4595</td>\n      <td>0.6638</td>\n      <td>0.8527</td>\n    </tr>\n    <tr>\n      <th>...</th>\n      <td>...</td>\n      <td>...</td>\n      <td>...</td>\n      <td>...</td>\n      <td>...</td>\n      <td>...</td>\n      <td>...</td>\n      <td>...</td>\n      <td>...</td>\n      <td>...</td>\n      <td>...</td>\n      <td>...</td>\n      <td>...</td>\n      <td>...</td>\n      <td>...</td>\n      <td>...</td>\n      <td>...</td>\n      <td>...</td>\n      <td>...</td>\n      <td>...</td>\n      <td>...</td>\n    </tr>\n    <tr>\n      <th>1349</th>\n      <td>1</td>\n      <td>20</td>\n      <td>1</td>\n      <td>1</td>\n      <td>1</td>\n      <td>1</td>\n      <td>1</td>\n      <td>0</td>\n      <td>0</td>\n      <td>0</td>\n      <td>...</td>\n      <td>24.6892</td>\n      <td>2.6528</td>\n      <td>10.5460</td>\n      <td>2.1712</td>\n      <td>14.1128</td>\n      <td>2.8833</td>\n      <td>9.3176</td>\n      <td>2.3582</td>\n      <td>0.6735</td>\n      <td>1.0270</td>\n    </tr>\n    <tr>\n      <th>1350</th>\n      <td>1</td>\n      <td>16</td>\n      <td>1</td>\n      <td>2</td>\n      <td>1</td>\n      <td>0</td>\n      <td>1</td>\n      <td>0</td>\n      <td>0</td>\n      <td>0</td>\n      <td>...</td>\n      <td>24.7908</td>\n      <td>2.0993</td>\n      <td>10.4094</td>\n      <td>1.4855</td>\n      <td>10.7880</td>\n      <td>1.9027</td>\n      <td>10.2034</td>\n      <td>2.0484</td>\n      <td>0.7267</td>\n      <td>0.7946</td>\n    </tr>\n    <tr>\n      <th>1351</th>\n      <td>2</td>\n      <td>14</td>\n      <td>2</td>\n      <td>1</td>\n      <td>1</td>\n      <td>1</td>\n      <td>1</td>\n      <td>0</td>\n      <td>0</td>\n      <td>0</td>\n      <td>...</td>\n      <td>23.8500</td>\n      <td>2.1200</td>\n      <td>12.3900</td>\n      <td>1.5300</td>\n      <td>12.6600</td>\n      <td>1.9900</td>\n      <td>9.4800</td>\n      <td>1.7400</td>\n      <td>1.1800</td>\n      <td>1.5900</td>\n    </tr>\n    <tr>\n      <th>1352</th>\n      <td>2</td>\n      <td>20</td>\n      <td>3</td>\n      <td>1</td>\n      <td>1</td>\n      <td>1</td>\n      <td>1</td>\n      <td>25</td>\n      <td>0</td>\n      <td>0</td>\n      <td>...</td>\n      <td>31.3500</td>\n      <td>2.4300</td>\n      <td>10.8200</td>\n      <td>1.7000</td>\n      <td>13.7700</td>\n      <td>2.1000</td>\n      <td>11.1200</td>\n      <td>2.1400</td>\n      <td>1.3100</td>\n      <td>1.5200</td>\n    </tr>\n    <tr>\n      <th>1353</th>\n      <td>2</td>\n      <td>14</td>\n      <td>1</td>\n      <td>1</td>\n      <td>1</td>\n      <td>1</td>\n      <td>1</td>\n      <td>10</td>\n      <td>0</td>\n      <td>0</td>\n      <td>...</td>\n      <td>21.9900</td>\n      <td>2.4100</td>\n      <td>9.8900</td>\n      <td>1.7600</td>\n      <td>13.9600</td>\n      <td>2.2000</td>\n      <td>9.9600</td>\n      <td>1.8600</td>\n      <td>0.8300</td>\n      <td>1.6500</td>\n    </tr>\n  </tbody>\n</table>\n<p>1354 rows × 186 columns</p>\n</div>"
          },
          "execution_count": 125,
          "metadata": {},
          "output_type": "execute_result"
        }
      ],
      "source": [
        "df = pd.read_excel(\"Temporary_data3_Left_Right_Copy.xlsx\")\n",
        "df"
      ],
      "metadata": {
        "id": "6IAi2TuwF7Kv",
        "outputId": "329c7a14-9c43-4118-b1c9-a81fcb6a1473"
      }
    },
    {
      "cell_type": "code",
      "execution_count": null,
      "outputs": [
        {
          "data": {
            "text/plain": "      SEX  EDUC  MARISTAT  INDEPEND  RESIDENC  NACCFAM  ANYMEDS  SMOKYRS  \\\n0       2    18         1         1         1        1        1        0   \n1       1    11         1         1         1        1        1        0   \n2       2    16         1         1         1        1        1       10   \n3       1    14         1         1         1        0        1        0   \n4       1    16         1         1         2        0        1       50   \n...   ...   ...       ...       ...       ...      ...      ...      ...   \n1349    1    20         1         1         1        1        1        0   \n1350    1    16         1         2         1        0        1        0   \n1351    2    14         2         1         1        1        1        0   \n1352    2    20         3         1         1        1        1       25   \n1353    2    14         1         1         1        1        1       10   \n\n      NACCTBI  DIABETES  ...   RSUPFR  RSUPFRM  RSUPPAR  RSUPPARM  RSUPTEM  \\\n0           0         0  ...  27.9038   2.2157  10.3481    1.7014  13.4250   \n1           0         0  ...  29.0600   2.6900   9.2500    1.6300  14.8800   \n2           0         1  ...  33.0000   2.5400  13.6900    1.5600  16.2300   \n3           0         1  ...  31.6800   2.4100   9.6400    1.4500  15.1100   \n4           0         0  ...  28.0631   1.9501   9.1125    1.0427  13.3763   \n...       ...       ...  ...      ...      ...      ...       ...      ...   \n1349        0         0  ...  24.6892   2.6528  10.5460    2.1712  14.1128   \n1350        0         0  ...  24.7908   2.0993  10.4094    1.4855  10.7880   \n1351        0         0  ...  23.8500   2.1200  12.3900    1.5300  12.6600   \n1352        0         0  ...  31.3500   2.4300  10.8200    1.7000  13.7700   \n1353        0         0  ...  21.9900   2.4100   9.8900    1.7600  13.9600   \n\n      RSUPTEMM  RSUPMAR  RSUPMARM  RTRTEM  RTRTEMM  \n0       1.7419   9.8700    1.6792  0.8906   1.1947  \n1       2.3000   7.2700    1.8900  1.3800   2.0300  \n2       2.0700  10.1100    1.8400  1.0100   1.5000  \n3       1.6400  10.3900    1.8300  0.7400   1.1000  \n4       1.6270   7.5844    1.4595  0.6638   0.8527  \n...        ...      ...       ...     ...      ...  \n1349    2.8833   9.3176    2.3582  0.6735   1.0270  \n1350    1.9027  10.2034    2.0484  0.7267   0.7946  \n1351    1.9900   9.4800    1.7400  1.1800   1.5900  \n1352    2.1000  11.1200    2.1400  1.3100   1.5200  \n1353    2.2000   9.9600    1.8600  0.8300   1.6500  \n\n[1354 rows x 186 columns]",
            "text/html": "<div>\n<style scoped>\n    .dataframe tbody tr th:only-of-type {\n        vertical-align: middle;\n    }\n\n    .dataframe tbody tr th {\n        vertical-align: top;\n    }\n\n    .dataframe thead th {\n        text-align: right;\n    }\n</style>\n<table border=\"1\" class=\"dataframe\">\n  <thead>\n    <tr style=\"text-align: right;\">\n      <th></th>\n      <th>SEX</th>\n      <th>EDUC</th>\n      <th>MARISTAT</th>\n      <th>INDEPEND</th>\n      <th>RESIDENC</th>\n      <th>NACCFAM</th>\n      <th>ANYMEDS</th>\n      <th>SMOKYRS</th>\n      <th>NACCTBI</th>\n      <th>DIABETES</th>\n      <th>...</th>\n      <th>RSUPFR</th>\n      <th>RSUPFRM</th>\n      <th>RSUPPAR</th>\n      <th>RSUPPARM</th>\n      <th>RSUPTEM</th>\n      <th>RSUPTEMM</th>\n      <th>RSUPMAR</th>\n      <th>RSUPMARM</th>\n      <th>RTRTEM</th>\n      <th>RTRTEMM</th>\n    </tr>\n  </thead>\n  <tbody>\n    <tr>\n      <th>0</th>\n      <td>2</td>\n      <td>18</td>\n      <td>1</td>\n      <td>1</td>\n      <td>1</td>\n      <td>1</td>\n      <td>1</td>\n      <td>0</td>\n      <td>0</td>\n      <td>0</td>\n      <td>...</td>\n      <td>27.9038</td>\n      <td>2.2157</td>\n      <td>10.3481</td>\n      <td>1.7014</td>\n      <td>13.4250</td>\n      <td>1.7419</td>\n      <td>9.8700</td>\n      <td>1.6792</td>\n      <td>0.8906</td>\n      <td>1.1947</td>\n    </tr>\n    <tr>\n      <th>1</th>\n      <td>1</td>\n      <td>11</td>\n      <td>1</td>\n      <td>1</td>\n      <td>1</td>\n      <td>1</td>\n      <td>1</td>\n      <td>0</td>\n      <td>0</td>\n      <td>0</td>\n      <td>...</td>\n      <td>29.0600</td>\n      <td>2.6900</td>\n      <td>9.2500</td>\n      <td>1.6300</td>\n      <td>14.8800</td>\n      <td>2.3000</td>\n      <td>7.2700</td>\n      <td>1.8900</td>\n      <td>1.3800</td>\n      <td>2.0300</td>\n    </tr>\n    <tr>\n      <th>2</th>\n      <td>2</td>\n      <td>16</td>\n      <td>1</td>\n      <td>1</td>\n      <td>1</td>\n      <td>1</td>\n      <td>1</td>\n      <td>10</td>\n      <td>0</td>\n      <td>1</td>\n      <td>...</td>\n      <td>33.0000</td>\n      <td>2.5400</td>\n      <td>13.6900</td>\n      <td>1.5600</td>\n      <td>16.2300</td>\n      <td>2.0700</td>\n      <td>10.1100</td>\n      <td>1.8400</td>\n      <td>1.0100</td>\n      <td>1.5000</td>\n    </tr>\n    <tr>\n      <th>3</th>\n      <td>1</td>\n      <td>14</td>\n      <td>1</td>\n      <td>1</td>\n      <td>1</td>\n      <td>0</td>\n      <td>1</td>\n      <td>0</td>\n      <td>0</td>\n      <td>1</td>\n      <td>...</td>\n      <td>31.6800</td>\n      <td>2.4100</td>\n      <td>9.6400</td>\n      <td>1.4500</td>\n      <td>15.1100</td>\n      <td>1.6400</td>\n      <td>10.3900</td>\n      <td>1.8300</td>\n      <td>0.7400</td>\n      <td>1.1000</td>\n    </tr>\n    <tr>\n      <th>4</th>\n      <td>1</td>\n      <td>16</td>\n      <td>1</td>\n      <td>1</td>\n      <td>2</td>\n      <td>0</td>\n      <td>1</td>\n      <td>50</td>\n      <td>0</td>\n      <td>0</td>\n      <td>...</td>\n      <td>28.0631</td>\n      <td>1.9501</td>\n      <td>9.1125</td>\n      <td>1.0427</td>\n      <td>13.3763</td>\n      <td>1.6270</td>\n      <td>7.5844</td>\n      <td>1.4595</td>\n      <td>0.6638</td>\n      <td>0.8527</td>\n    </tr>\n    <tr>\n      <th>...</th>\n      <td>...</td>\n      <td>...</td>\n      <td>...</td>\n      <td>...</td>\n      <td>...</td>\n      <td>...</td>\n      <td>...</td>\n      <td>...</td>\n      <td>...</td>\n      <td>...</td>\n      <td>...</td>\n      <td>...</td>\n      <td>...</td>\n      <td>...</td>\n      <td>...</td>\n      <td>...</td>\n      <td>...</td>\n      <td>...</td>\n      <td>...</td>\n      <td>...</td>\n      <td>...</td>\n    </tr>\n    <tr>\n      <th>1349</th>\n      <td>1</td>\n      <td>20</td>\n      <td>1</td>\n      <td>1</td>\n      <td>1</td>\n      <td>1</td>\n      <td>1</td>\n      <td>0</td>\n      <td>0</td>\n      <td>0</td>\n      <td>...</td>\n      <td>24.6892</td>\n      <td>2.6528</td>\n      <td>10.5460</td>\n      <td>2.1712</td>\n      <td>14.1128</td>\n      <td>2.8833</td>\n      <td>9.3176</td>\n      <td>2.3582</td>\n      <td>0.6735</td>\n      <td>1.0270</td>\n    </tr>\n    <tr>\n      <th>1350</th>\n      <td>1</td>\n      <td>16</td>\n      <td>1</td>\n      <td>2</td>\n      <td>1</td>\n      <td>0</td>\n      <td>1</td>\n      <td>0</td>\n      <td>0</td>\n      <td>0</td>\n      <td>...</td>\n      <td>24.7908</td>\n      <td>2.0993</td>\n      <td>10.4094</td>\n      <td>1.4855</td>\n      <td>10.7880</td>\n      <td>1.9027</td>\n      <td>10.2034</td>\n      <td>2.0484</td>\n      <td>0.7267</td>\n      <td>0.7946</td>\n    </tr>\n    <tr>\n      <th>1351</th>\n      <td>2</td>\n      <td>14</td>\n      <td>2</td>\n      <td>1</td>\n      <td>1</td>\n      <td>1</td>\n      <td>1</td>\n      <td>0</td>\n      <td>0</td>\n      <td>0</td>\n      <td>...</td>\n      <td>23.8500</td>\n      <td>2.1200</td>\n      <td>12.3900</td>\n      <td>1.5300</td>\n      <td>12.6600</td>\n      <td>1.9900</td>\n      <td>9.4800</td>\n      <td>1.7400</td>\n      <td>1.1800</td>\n      <td>1.5900</td>\n    </tr>\n    <tr>\n      <th>1352</th>\n      <td>2</td>\n      <td>20</td>\n      <td>3</td>\n      <td>1</td>\n      <td>1</td>\n      <td>1</td>\n      <td>1</td>\n      <td>25</td>\n      <td>0</td>\n      <td>0</td>\n      <td>...</td>\n      <td>31.3500</td>\n      <td>2.4300</td>\n      <td>10.8200</td>\n      <td>1.7000</td>\n      <td>13.7700</td>\n      <td>2.1000</td>\n      <td>11.1200</td>\n      <td>2.1400</td>\n      <td>1.3100</td>\n      <td>1.5200</td>\n    </tr>\n    <tr>\n      <th>1353</th>\n      <td>2</td>\n      <td>14</td>\n      <td>1</td>\n      <td>1</td>\n      <td>1</td>\n      <td>1</td>\n      <td>1</td>\n      <td>10</td>\n      <td>0</td>\n      <td>0</td>\n      <td>...</td>\n      <td>21.9900</td>\n      <td>2.4100</td>\n      <td>9.8900</td>\n      <td>1.7600</td>\n      <td>13.9600</td>\n      <td>2.2000</td>\n      <td>9.9600</td>\n      <td>1.8600</td>\n      <td>0.8300</td>\n      <td>1.6500</td>\n    </tr>\n  </tbody>\n</table>\n<p>1354 rows × 186 columns</p>\n</div>"
          },
          "execution_count": 133,
          "metadata": {},
          "output_type": "execute_result"
        }
      ],
      "source": [
        "numerics = ['int16', 'int32', 'int64', 'float16', 'float32', 'float64']\n",
        "newdf = df.select_dtypes(include=numerics)\n",
        "newdf"
      ],
      "metadata": {
        "id": "RwjFjJ4SF7Kw",
        "outputId": "6727c87d-8a0f-41e2-c1a2-8f76ed7d1f4f"
      }
    },
    {
      "cell_type": "code",
      "execution_count": null,
      "outputs": [],
      "source": [
        "newdf = newdf.div(newdf['NACCBRNV'], axis=0)\n",
        "\n",
        "newdf = newdf.mul(newdf[\"NACCAGEB\"], axis=0)"
      ],
      "metadata": {
        "id": "Gcq15IGaF7Kw"
      }
    },
    {
      "cell_type": "code",
      "execution_count": null,
      "outputs": [
        {
          "ename": "KeyError",
          "evalue": "\"['numeric_features'] not found in axis\"",
          "output_type": "error",
          "traceback": [
            "\u001b[1;31m---------------------------------------------------------------------------\u001b[0m",
            "\u001b[1;31mKeyError\u001b[0m                                  Traceback (most recent call last)",
            "\u001b[1;32m~\\AppData\\Local\\Temp\\ipykernel_37544\\3906791159.py\u001b[0m in \u001b[0;36m<module>\u001b[1;34m\u001b[0m\n\u001b[1;32m----> 1\u001b[1;33m \u001b[0mX\u001b[0m\u001b[1;33m=\u001b[0m \u001b[0mdf\u001b[0m\u001b[1;33m.\u001b[0m\u001b[0mdrop\u001b[0m\u001b[1;33m(\u001b[0m\u001b[1;33m[\u001b[0m\u001b[1;34m\"numeric_features\"\u001b[0m\u001b[1;33m]\u001b[0m\u001b[1;33m,\u001b[0m \u001b[0maxis\u001b[0m\u001b[1;33m=\u001b[0m\u001b[1;36m1\u001b[0m\u001b[1;33m)\u001b[0m\u001b[1;33m\u001b[0m\u001b[1;33m\u001b[0m\u001b[0m\n\u001b[0m\u001b[0;32m      2\u001b[0m \u001b[0my\u001b[0m\u001b[1;33m=\u001b[0m \u001b[0mdf\u001b[0m\u001b[1;33m[\u001b[0m\u001b[1;34m\"CDRGLOB\"\u001b[0m\u001b[1;33m]\u001b[0m\u001b[1;33m\u001b[0m\u001b[1;33m\u001b[0m\u001b[0m\n\u001b[0;32m      3\u001b[0m \u001b[1;33m\u001b[0m\u001b[0m\n\u001b[0;32m      4\u001b[0m \u001b[0mX_train\u001b[0m\u001b[1;33m,\u001b[0m \u001b[0mX_test\u001b[0m\u001b[1;33m,\u001b[0m \u001b[0my_train\u001b[0m\u001b[1;33m,\u001b[0m \u001b[0my_test\u001b[0m \u001b[1;33m=\u001b[0m \u001b[0mtrain_test_split\u001b[0m\u001b[1;33m(\u001b[0m\u001b[0mX\u001b[0m\u001b[1;33m,\u001b[0m \u001b[0my\u001b[0m\u001b[1;33m,\u001b[0m \u001b[0mtest_size\u001b[0m\u001b[1;33m=\u001b[0m\u001b[1;36m0.2\u001b[0m\u001b[1;33m,\u001b[0m \u001b[0mrandom_state\u001b[0m\u001b[1;33m=\u001b[0m\u001b[1;36m42\u001b[0m\u001b[1;33m)\u001b[0m\u001b[1;33m\u001b[0m\u001b[1;33m\u001b[0m\u001b[0m\n",
            "\u001b[1;32m~\\Anaconda3\\lib\\site-packages\\pandas\\util\\_decorators.py\u001b[0m in \u001b[0;36mwrapper\u001b[1;34m(*args, **kwargs)\u001b[0m\n\u001b[0;32m    309\u001b[0m                     \u001b[0mstacklevel\u001b[0m\u001b[1;33m=\u001b[0m\u001b[0mstacklevel\u001b[0m\u001b[1;33m,\u001b[0m\u001b[1;33m\u001b[0m\u001b[1;33m\u001b[0m\u001b[0m\n\u001b[0;32m    310\u001b[0m                 )\n\u001b[1;32m--> 311\u001b[1;33m             \u001b[1;32mreturn\u001b[0m \u001b[0mfunc\u001b[0m\u001b[1;33m(\u001b[0m\u001b[1;33m*\u001b[0m\u001b[0margs\u001b[0m\u001b[1;33m,\u001b[0m \u001b[1;33m**\u001b[0m\u001b[0mkwargs\u001b[0m\u001b[1;33m)\u001b[0m\u001b[1;33m\u001b[0m\u001b[1;33m\u001b[0m\u001b[0m\n\u001b[0m\u001b[0;32m    312\u001b[0m \u001b[1;33m\u001b[0m\u001b[0m\n\u001b[0;32m    313\u001b[0m         \u001b[1;32mreturn\u001b[0m \u001b[0mwrapper\u001b[0m\u001b[1;33m\u001b[0m\u001b[1;33m\u001b[0m\u001b[0m\n",
            "\u001b[1;32m~\\Anaconda3\\lib\\site-packages\\pandas\\core\\frame.py\u001b[0m in \u001b[0;36mdrop\u001b[1;34m(self, labels, axis, index, columns, level, inplace, errors)\u001b[0m\n\u001b[0;32m   4955\u001b[0m                 \u001b[0mweight\u001b[0m  \u001b[1;36m1.0\u001b[0m     \u001b[1;36m0.8\u001b[0m\u001b[1;33m\u001b[0m\u001b[1;33m\u001b[0m\u001b[0m\n\u001b[0;32m   4956\u001b[0m         \"\"\"\n\u001b[1;32m-> 4957\u001b[1;33m         return super().drop(\n\u001b[0m\u001b[0;32m   4958\u001b[0m             \u001b[0mlabels\u001b[0m\u001b[1;33m=\u001b[0m\u001b[0mlabels\u001b[0m\u001b[1;33m,\u001b[0m\u001b[1;33m\u001b[0m\u001b[1;33m\u001b[0m\u001b[0m\n\u001b[0;32m   4959\u001b[0m             \u001b[0maxis\u001b[0m\u001b[1;33m=\u001b[0m\u001b[0maxis\u001b[0m\u001b[1;33m,\u001b[0m\u001b[1;33m\u001b[0m\u001b[1;33m\u001b[0m\u001b[0m\n",
            "\u001b[1;32m~\\Anaconda3\\lib\\site-packages\\pandas\\core\\generic.py\u001b[0m in \u001b[0;36mdrop\u001b[1;34m(self, labels, axis, index, columns, level, inplace, errors)\u001b[0m\n\u001b[0;32m   4265\u001b[0m         \u001b[1;32mfor\u001b[0m \u001b[0maxis\u001b[0m\u001b[1;33m,\u001b[0m \u001b[0mlabels\u001b[0m \u001b[1;32min\u001b[0m \u001b[0maxes\u001b[0m\u001b[1;33m.\u001b[0m\u001b[0mitems\u001b[0m\u001b[1;33m(\u001b[0m\u001b[1;33m)\u001b[0m\u001b[1;33m:\u001b[0m\u001b[1;33m\u001b[0m\u001b[1;33m\u001b[0m\u001b[0m\n\u001b[0;32m   4266\u001b[0m             \u001b[1;32mif\u001b[0m \u001b[0mlabels\u001b[0m \u001b[1;32mis\u001b[0m \u001b[1;32mnot\u001b[0m \u001b[1;32mNone\u001b[0m\u001b[1;33m:\u001b[0m\u001b[1;33m\u001b[0m\u001b[1;33m\u001b[0m\u001b[0m\n\u001b[1;32m-> 4267\u001b[1;33m                 \u001b[0mobj\u001b[0m \u001b[1;33m=\u001b[0m \u001b[0mobj\u001b[0m\u001b[1;33m.\u001b[0m\u001b[0m_drop_axis\u001b[0m\u001b[1;33m(\u001b[0m\u001b[0mlabels\u001b[0m\u001b[1;33m,\u001b[0m \u001b[0maxis\u001b[0m\u001b[1;33m,\u001b[0m \u001b[0mlevel\u001b[0m\u001b[1;33m=\u001b[0m\u001b[0mlevel\u001b[0m\u001b[1;33m,\u001b[0m \u001b[0merrors\u001b[0m\u001b[1;33m=\u001b[0m\u001b[0merrors\u001b[0m\u001b[1;33m)\u001b[0m\u001b[1;33m\u001b[0m\u001b[1;33m\u001b[0m\u001b[0m\n\u001b[0m\u001b[0;32m   4268\u001b[0m \u001b[1;33m\u001b[0m\u001b[0m\n\u001b[0;32m   4269\u001b[0m         \u001b[1;32mif\u001b[0m \u001b[0minplace\u001b[0m\u001b[1;33m:\u001b[0m\u001b[1;33m\u001b[0m\u001b[1;33m\u001b[0m\u001b[0m\n",
            "\u001b[1;32m~\\Anaconda3\\lib\\site-packages\\pandas\\core\\generic.py\u001b[0m in \u001b[0;36m_drop_axis\u001b[1;34m(self, labels, axis, level, errors, consolidate, only_slice)\u001b[0m\n\u001b[0;32m   4309\u001b[0m                 \u001b[0mnew_axis\u001b[0m \u001b[1;33m=\u001b[0m \u001b[0maxis\u001b[0m\u001b[1;33m.\u001b[0m\u001b[0mdrop\u001b[0m\u001b[1;33m(\u001b[0m\u001b[0mlabels\u001b[0m\u001b[1;33m,\u001b[0m \u001b[0mlevel\u001b[0m\u001b[1;33m=\u001b[0m\u001b[0mlevel\u001b[0m\u001b[1;33m,\u001b[0m \u001b[0merrors\u001b[0m\u001b[1;33m=\u001b[0m\u001b[0merrors\u001b[0m\u001b[1;33m)\u001b[0m\u001b[1;33m\u001b[0m\u001b[1;33m\u001b[0m\u001b[0m\n\u001b[0;32m   4310\u001b[0m             \u001b[1;32melse\u001b[0m\u001b[1;33m:\u001b[0m\u001b[1;33m\u001b[0m\u001b[1;33m\u001b[0m\u001b[0m\n\u001b[1;32m-> 4311\u001b[1;33m                 \u001b[0mnew_axis\u001b[0m \u001b[1;33m=\u001b[0m \u001b[0maxis\u001b[0m\u001b[1;33m.\u001b[0m\u001b[0mdrop\u001b[0m\u001b[1;33m(\u001b[0m\u001b[0mlabels\u001b[0m\u001b[1;33m,\u001b[0m \u001b[0merrors\u001b[0m\u001b[1;33m=\u001b[0m\u001b[0merrors\u001b[0m\u001b[1;33m)\u001b[0m\u001b[1;33m\u001b[0m\u001b[1;33m\u001b[0m\u001b[0m\n\u001b[0m\u001b[0;32m   4312\u001b[0m             \u001b[0mindexer\u001b[0m \u001b[1;33m=\u001b[0m \u001b[0maxis\u001b[0m\u001b[1;33m.\u001b[0m\u001b[0mget_indexer\u001b[0m\u001b[1;33m(\u001b[0m\u001b[0mnew_axis\u001b[0m\u001b[1;33m)\u001b[0m\u001b[1;33m\u001b[0m\u001b[1;33m\u001b[0m\u001b[0m\n\u001b[0;32m   4313\u001b[0m \u001b[1;33m\u001b[0m\u001b[0m\n",
            "\u001b[1;32m~\\Anaconda3\\lib\\site-packages\\pandas\\core\\indexes\\base.py\u001b[0m in \u001b[0;36mdrop\u001b[1;34m(self, labels, errors)\u001b[0m\n\u001b[0;32m   6659\u001b[0m         \u001b[1;32mif\u001b[0m \u001b[0mmask\u001b[0m\u001b[1;33m.\u001b[0m\u001b[0many\u001b[0m\u001b[1;33m(\u001b[0m\u001b[1;33m)\u001b[0m\u001b[1;33m:\u001b[0m\u001b[1;33m\u001b[0m\u001b[1;33m\u001b[0m\u001b[0m\n\u001b[0;32m   6660\u001b[0m             \u001b[1;32mif\u001b[0m \u001b[0merrors\u001b[0m \u001b[1;33m!=\u001b[0m \u001b[1;34m\"ignore\"\u001b[0m\u001b[1;33m:\u001b[0m\u001b[1;33m\u001b[0m\u001b[1;33m\u001b[0m\u001b[0m\n\u001b[1;32m-> 6661\u001b[1;33m                 \u001b[1;32mraise\u001b[0m \u001b[0mKeyError\u001b[0m\u001b[1;33m(\u001b[0m\u001b[1;34mf\"{list(labels[mask])} not found in axis\"\u001b[0m\u001b[1;33m)\u001b[0m\u001b[1;33m\u001b[0m\u001b[1;33m\u001b[0m\u001b[0m\n\u001b[0m\u001b[0;32m   6662\u001b[0m             \u001b[0mindexer\u001b[0m \u001b[1;33m=\u001b[0m \u001b[0mindexer\u001b[0m\u001b[1;33m[\u001b[0m\u001b[1;33m~\u001b[0m\u001b[0mmask\u001b[0m\u001b[1;33m]\u001b[0m\u001b[1;33m\u001b[0m\u001b[1;33m\u001b[0m\u001b[0m\n\u001b[0;32m   6663\u001b[0m         \u001b[1;32mreturn\u001b[0m \u001b[0mself\u001b[0m\u001b[1;33m.\u001b[0m\u001b[0mdelete\u001b[0m\u001b[1;33m(\u001b[0m\u001b[0mindexer\u001b[0m\u001b[1;33m)\u001b[0m\u001b[1;33m\u001b[0m\u001b[1;33m\u001b[0m\u001b[0m\n",
            "\u001b[1;31mKeyError\u001b[0m: \"['numeric_features'] not found in axis\""
          ]
        }
      ],
      "source": [
        "X= df.drop([\"numeric_features\"], axis=1)\n",
        "y= df[\"CDRGLOB\"]\n",
        "\n",
        "X_train, X_test, y_train, y_test = train_test_split(X, y, test_size=0.2, random_state=42)"
      ],
      "metadata": {
        "id": "EybvtEc4F7Kw",
        "outputId": "d01eaab7-6aac-40d2-ee55-401301a89b8d"
      }
    },
    {
      "cell_type": "code",
      "execution_count": null,
      "outputs": [],
      "source": [
        "gnb = GaussianNB()\n",
        "gnb.fit(X_train, y_train)\n",
        "y_pred = gnb.predict(X_test.astype(int))"
      ],
      "metadata": {
        "id": "wrnCidBdF7Kx"
      }
    },
    {
      "cell_type": "code",
      "execution_count": null,
      "outputs": [],
      "source": [
        "param_grid = {'var_smoothing': np.logspace(0,-9, num=100)}\n",
        "grid_search = GridSearchCV(gnb, param_grid, cv=5)\n",
        "grid_search.fit(X_train, y_train)\n",
        "\n",
        "#apply the best parameters to the model\n",
        "\n",
        "gnb = GaussianNB()\n",
        "gnb.fit(X_train.astype(int), y_train.astype(int))\n",
        "y_pred = gnb.predict(X_test.astype(int))"
      ],
      "metadata": {
        "id": "P5PcRQOMF7Kx"
      }
    },
    {
      "cell_type": "code",
      "execution_count": null,
      "outputs": [],
      "source": [
        "accuracy_score(y_test, y_pred)"
      ],
      "metadata": {
        "id": "6qwceCHbF7Kx"
      }
    }
  ],
  "metadata": {
    "kernelspec": {
      "display_name": "Python 3",
      "language": "python",
      "name": "python3"
    },
    "language_info": {
      "codemirror_mode": {
        "name": "ipython",
        "version": 2
      },
      "file_extension": ".py",
      "mimetype": "text/x-python",
      "name": "python",
      "nbconvert_exporter": "python",
      "pygments_lexer": "ipython2",
      "version": "2.7.6"
    },
    "colab": {
      "provenance": []
    }
  },
  "nbformat": 4,
  "nbformat_minor": 0
}