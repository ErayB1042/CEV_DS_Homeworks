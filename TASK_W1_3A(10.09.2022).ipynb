{
  "nbformat": 4,
  "nbformat_minor": 0,
  "metadata": {
    "colab": {
      "provenance": [],
      "collapsed_sections": []
    },
    "kernelspec": {
      "name": "python3",
      "display_name": "Python 3"
    },
    "language_info": {
      "name": "python"
    }
  },
  "cells": [
    {
      "cell_type": "markdown",
      "source": [
        "Task-W1-3A:Please write a piece of code that will generate numbers for a coupon in Sayisal Loto that should inlude 8 colons and each column should have 6 random numbers.\n",
        "\n",
        "Please control the colons in terms of having no repetitions."
      ],
      "metadata": {
        "id": "x2STR5CUpRl8"
      }
    },
    {
      "cell_type": "markdown",
      "source": [
        "8 Satır x 6 Sütundan oluşan bir array oluşturuyoruz. Bu array'in içereceği elemanlar [1-50] olacaktır."
      ],
      "metadata": {
        "id": "38KoBSkwU9gV"
      }
    },
    {
      "cell_type": "code",
      "source": [
        "import numpy as np\n",
        "coupon= np.random.randint(1,50,size=(8,6))\n",
        "coupon"
      ],
      "metadata": {
        "colab": {
          "base_uri": "https://localhost:8080/"
        },
        "id": "9qCLCUJppkXC",
        "outputId": "240af00b-acf2-463f-d097-00fc234504a6"
      },
      "execution_count": 31,
      "outputs": [
        {
          "output_type": "execute_result",
          "data": {
            "text/plain": [
              "array([[ 1, 32, 43, 42, 11, 47],\n",
              "       [32, 20,  8, 25,  9, 24],\n",
              "       [ 2, 15, 41,  2, 42, 12],\n",
              "       [46,  4, 14, 13, 38, 28],\n",
              "       [43, 28, 10, 32, 32, 11],\n",
              "       [12,  4,  8, 12, 29, 11],\n",
              "       [ 8, 28, 47,  1,  6,  3],\n",
              "       [ 8, 43, 47, 18, 11, 44]])"
            ]
          },
          "metadata": {},
          "execution_count": 31
        }
      ]
    },
    {
      "cell_type": "markdown",
      "source": [
        "Satır bazlı tekrarlamayı önlemek için \"np.random.randint(1,50,1)\" şeklinde tekrar eden elemanı değiştirmek yerine önce tüm elemanları tekrarsız bir şekilde bir listeye alıyorum.\n",
        "Not: \"np.random.randint(1,50,1)\" kullanıldığı takdirde satır bazlı yinelemeler bulunmakta."
      ],
      "metadata": {
        "id": "phis23f9VShn"
      }
    },
    {
      "cell_type": "code",
      "source": [
        "Value=[]\n",
        "for i in range(1,50):\n",
        "  Value.append(i)"
      ],
      "metadata": {
        "id": "6MQrNIxtrj99"
      },
      "execution_count": 42,
      "outputs": []
    },
    {
      "cell_type": "markdown",
      "source": [
        "Ardından önceden oluştuduğum \"coupon\" arrayimi satır bazlı kontrol ederken eğer o satırdaki herhangi bir elemanda tekrar varsa \"dntpck\" adlı listeye tüm o satırda bulunan elemanları ekletiyorum. Daha sonra \"dntpck\" adlı listede bulunan elemanları \"Value\" adlı listeden çıkartıyorum. Geriye kalanları \"pck_a_num\" adlı listeye ekleyerek tekrar eden elemanlardan birinin değerini bu listedeki random bir elemanın değeriyle değiştirerek satır tekrarını önlemiş oluyorum."
      ],
      "metadata": {
        "id": "QDRaBBNiXEXz"
      }
    },
    {
      "cell_type": "code",
      "source": [
        "for i in range(8):\n",
        "  for j in range(6):\n",
        "    for k in range(1,6):\n",
        "      if coupon[i,j]==coupon[i,k]:\n",
        "        dntpck=[]\n",
        "        pck_a_num=[]\n",
        "        for l in range(6):\n",
        "          dntpck.append(coupon[i,l])\n",
        "        for eleman in Value:\n",
        "          if eleman not in dntpck:\n",
        "            pck_a_num.append(eleman)\n",
        "        coupon[i,j]=np.random.choice(pck_a_num)\n",
        "coupon"
      ],
      "metadata": {
        "colab": {
          "base_uri": "https://localhost:8080/"
        },
        "id": "sNwIqyX9RdY0",
        "outputId": "4329df45-428b-4b45-a552-f14e0a2b7274"
      },
      "execution_count": 43,
      "outputs": [
        {
          "output_type": "execute_result",
          "data": {
            "text/plain": [
              "array([[ 1, 27, 24, 10, 38,  9],\n",
              "       [32,  5,  6,  8, 24, 22],\n",
              "       [29, 27, 39, 36,  7,  5],\n",
              "       [46, 24, 49, 30, 41, 27],\n",
              "       [43, 29, 39, 42, 20, 15],\n",
              "       [42,  8, 19, 21, 31,  4],\n",
              "       [ 8, 15, 33, 21, 10, 12],\n",
              "       [ 8, 46,  2, 19, 28, 20]])"
            ]
          },
          "metadata": {},
          "execution_count": 43
        }
      ]
    }
  ]
}