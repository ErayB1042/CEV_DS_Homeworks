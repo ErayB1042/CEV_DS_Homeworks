{
  "nbformat": 4,
  "nbformat_minor": 0,
  "metadata": {
    "colab": {
      "provenance": [],
      "collapsed_sections": []
    },
    "kernelspec": {
      "name": "python3",
      "display_name": "Python 3"
    },
    "language_info": {
      "name": "python"
    }
  },
  "cells": [
    {
      "cell_type": "markdown",
      "source": [
        "Task-W1-3A:Please write a piece of code that will generate numbers for a coupon in Sayisal Loto that should inlude 8 colons and each column should have 6 random numbers.\n",
        "\n",
        "Please control the colons in terms of having no repetitions."
      ],
      "metadata": {
        "id": "x2STR5CUpRl8"
      }
    },
    {
      "cell_type": "code",
      "source": [
        "import numpy as np\n",
        "kupon= np.random.randint(1,50,size=(6,8))\n",
        "kupon"
      ],
      "metadata": {
        "colab": {
          "base_uri": "https://localhost:8080/"
        },
        "id": "9qCLCUJppkXC",
        "outputId": "3e3b33f0-e056-4295-b372-8c88e37261f2"
      },
      "execution_count": 86,
      "outputs": [
        {
          "output_type": "execute_result",
          "data": {
            "text/plain": [
              "array([[19, 25, 43, 17, 32, 25, 30, 27],\n",
              "       [36,  2, 43, 44, 47, 41, 35,  2],\n",
              "       [ 4, 49, 47, 20, 48, 12, 15,  1],\n",
              "       [10, 43, 18, 32, 46, 34, 44,  5],\n",
              "       [23, 12, 47, 23, 31, 22,  6, 29],\n",
              "       [ 8, 15, 40, 29,  2, 42, 18,  3]])"
            ]
          },
          "metadata": {},
          "execution_count": 86
        }
      ]
    },
    {
      "cell_type": "code",
      "source": [
        "#for i,j in range(6),range(8):\n",
        "#kupon[i,j]!=kupon[i+1,j+1] and kupon[i,j]!=kupon[i+1,j] and kupon[i,j]!=kupon[i,j+1])\n",
        "for j in (0,7):\n",
        "  for i in range(0,5):\n",
        "    for k in range(1,6):\n",
        "      if(kupon[i,j]==kupon[k,j]):\n",
        "        kupon[i,j]=np.random.randint(1,50,1)\n",
        "\n",
        "kupon\n"
      ],
      "metadata": {
        "colab": {
          "base_uri": "https://localhost:8080/"
        },
        "id": "6MQrNIxtrj99",
        "outputId": "044062eb-9dd6-46a7-ff46-3e1f14235f58"
      },
      "execution_count": 111,
      "outputs": [
        {
          "output_type": "execute_result",
          "data": {
            "text/plain": [
              "array([[27, 25,  7,  8, 47, 25, 30, 28],\n",
              "       [21,  7, 46, 24, 23,  5, 35, 38],\n",
              "       [ 3, 23, 21, 21,  8, 43, 15, 48],\n",
              "       [ 1, 37, 35, 41, 38,  4, 44, 18],\n",
              "       [27, 41, 13, 31, 41, 33,  6, 44],\n",
              "       [ 8, 15, 40, 29,  2, 42, 18,  3]])"
            ]
          },
          "metadata": {},
          "execution_count": 111
        }
      ]
    },
    {
      "cell_type": "markdown",
      "source": [
        "\"for j in range(7):\"\n",
        "  \"for i in range(5):\"\n",
        "    while (kupon[i,j]==kupon[i+1,j]):\n",
        "      \"kupon[i,j]=np.random.randint(1,50,1)\""
      ],
      "metadata": {
        "id": "Sh4dl__-7hRM"
      }
    }
  ]
}