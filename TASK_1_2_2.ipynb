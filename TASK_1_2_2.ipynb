{
  "nbformat": 4,
  "nbformat_minor": 0,
  "metadata": {
    "colab": {
      "provenance": [],
      "collapsed_sections": []
    },
    "kernelspec": {
      "name": "python3",
      "display_name": "Python 3"
    },
    "language_info": {
      "name": "python"
    }
  },
  "cells": [
    {
      "cell_type": "markdown",
      "source": [
        "TASK-1.2.2:\n",
        "First 100 prime numbers: use for instead of while "
      ],
      "metadata": {
        "id": "wkP1_OHCeB7w"
      }
    },
    {
      "cell_type": "code",
      "execution_count": 10,
      "metadata": {
        "id": "HznxO2uYf4iZ"
      },
      "outputs": [],
      "source": [
        "def is_prime (num):\n",
        "  if (num<2):\n",
        "    return False\n",
        "  elif (num==2):\n",
        "    return True\n",
        "  elif(num%2 == 0):\n",
        "    return False\n",
        "  for i in range(3,int(num/2),2):\n",
        "    if (num%i == 0):\n",
        "      return False\n",
        "  return True"
      ]
    },
    {
      "cell_type": "code",
      "source": [
        "def nth_prime_number(n):  \n",
        "  prime_num=[2]\n",
        "  for Number in range (3, n*10):\n",
        "      if len(prime_num)!=n: \n",
        "        if is_prime(Number):\n",
        "          prime_num.append(Number)\n",
        "  return prime_num"
      ],
      "metadata": {
        "id": "d9FjcURdgNJv"
      },
      "execution_count": 21,
      "outputs": []
    },
    {
      "cell_type": "code",
      "source": [
        "nth_prime_number(100)"
      ],
      "metadata": {
        "colab": {
          "base_uri": "https://localhost:8080/"
        },
        "id": "hiPNHpWghOMM",
        "outputId": "60f60826-8747-44d4-b930-382c0669e6fd"
      },
      "execution_count": 22,
      "outputs": [
        {
          "output_type": "execute_result",
          "data": {
            "text/plain": [
              "[2,\n",
              " 3,\n",
              " 5,\n",
              " 7,\n",
              " 11,\n",
              " 13,\n",
              " 17,\n",
              " 19,\n",
              " 23,\n",
              " 29,\n",
              " 31,\n",
              " 37,\n",
              " 41,\n",
              " 43,\n",
              " 47,\n",
              " 53,\n",
              " 59,\n",
              " 61,\n",
              " 67,\n",
              " 71,\n",
              " 73,\n",
              " 79,\n",
              " 83,\n",
              " 89,\n",
              " 97,\n",
              " 101,\n",
              " 103,\n",
              " 107,\n",
              " 109,\n",
              " 113,\n",
              " 127,\n",
              " 131,\n",
              " 137,\n",
              " 139,\n",
              " 149,\n",
              " 151,\n",
              " 157,\n",
              " 163,\n",
              " 167,\n",
              " 173,\n",
              " 179,\n",
              " 181,\n",
              " 191,\n",
              " 193,\n",
              " 197,\n",
              " 199,\n",
              " 211,\n",
              " 223,\n",
              " 227,\n",
              " 229,\n",
              " 233,\n",
              " 239,\n",
              " 241,\n",
              " 251,\n",
              " 257,\n",
              " 263,\n",
              " 269,\n",
              " 271,\n",
              " 277,\n",
              " 281,\n",
              " 283,\n",
              " 293,\n",
              " 307,\n",
              " 311,\n",
              " 313,\n",
              " 317,\n",
              " 331,\n",
              " 337,\n",
              " 347,\n",
              " 349,\n",
              " 353,\n",
              " 359,\n",
              " 367,\n",
              " 373,\n",
              " 379,\n",
              " 383,\n",
              " 389,\n",
              " 397,\n",
              " 401,\n",
              " 409,\n",
              " 419,\n",
              " 421,\n",
              " 431,\n",
              " 433,\n",
              " 439,\n",
              " 443,\n",
              " 449,\n",
              " 457,\n",
              " 461,\n",
              " 463,\n",
              " 467,\n",
              " 479,\n",
              " 487,\n",
              " 491,\n",
              " 499,\n",
              " 503,\n",
              " 509,\n",
              " 521,\n",
              " 523,\n",
              " 541]"
            ]
          },
          "metadata": {},
          "execution_count": 22
        }
      ]
    },
    {
      "cell_type": "code",
      "source": [
        "len(nth_prime_number(100))"
      ],
      "metadata": {
        "colab": {
          "base_uri": "https://localhost:8080/"
        },
        "id": "ZfpiqD8gizyu",
        "outputId": "9212a26f-e421-40be-d346-ccf2ed5188a2"
      },
      "execution_count": 23,
      "outputs": [
        {
          "output_type": "execute_result",
          "data": {
            "text/plain": [
              "100"
            ]
          },
          "metadata": {},
          "execution_count": 23
        }
      ]
    }
  ]
}