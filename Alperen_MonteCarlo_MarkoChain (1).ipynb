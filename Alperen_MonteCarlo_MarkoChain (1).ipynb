{
  "nbformat": 4,
  "nbformat_minor": 0,
  "metadata": {
    "colab": {
      "provenance": []
    },
    "kernelspec": {
      "name": "python3",
      "display_name": "Python 3"
    },
    "language_info": {
      "name": "python"
    }
  },
  "cells": [
    {
      "cell_type": "markdown",
      "source": [
        "Soru1)\n",
        "Dersteki pi sayısını bulma tarzında monte carlo yöntemleri gibi\n",
        "1 zarı 10000 kere atıp 1 2 3 4 5 6 sayılarını gelme olasılıkları\n",
        "\n"
      ],
      "metadata": {
        "id": "wQIKTzLCzKos"
      }
    },
    {
      "cell_type": "code",
      "source": [
        "import pandas as pd\n",
        "import numpy as np\n",
        "import random\n",
        "sayılar = list()\n",
        "\n",
        "for i in range(10000):\n",
        "  sayılar.append(random.randint(1, 6))\n",
        "\n",
        "print(\"1'in gelme oranı: {}\".format((sayılar.count(1))/len(sayılar)))\n",
        "print(\"2'nin gelme oranı: {}\".format((sayılar.count(2))/len(sayılar)))\n",
        "print(\"3'ün gelme oranı: {}\".format((sayılar.count(3))/len(sayılar)))\n",
        "print(\"4'ün gelme oranı: {}\".format((sayılar.count(4))/len(sayılar)))\n",
        "print(\"5'in gelme oranı: {}\".format((sayılar.count(5))/len(sayılar)))\n",
        "print(\"6'nın gelme oranı: {}\".format((sayılar.count(6))/len(sayılar)))"
      ],
      "metadata": {
        "colab": {
          "base_uri": "https://localhost:8080/"
        },
        "id": "UTuyVrPSzK_Z",
        "outputId": "c1499f87-8e21-4cef-a6d0-cbdabaf53d31"
      },
      "execution_count": null,
      "outputs": [
        {
          "output_type": "stream",
          "name": "stdout",
          "text": [
            "1'in gelme oranı: 0.1621\n",
            "2'nin gelme oranı: 0.166\n",
            "3'ün gelme oranı: 0.1642\n",
            "4'ün gelme oranı: 0.1736\n",
            "5'in gelme oranı: 0.1668\n",
            "6'nın gelme oranı: 0.1673\n"
          ]
        }
      ]
    },
    {
      "cell_type": "markdown",
      "source": [
        "Soru2) Marko chain yöntemlerini kullanarak 1 yıllık bir kişinin yemek yeme datasını oluşturarak rastgele (hamburger,pizza, lahmancun olacak sadece)\n",
        "Hamburger-hamburger,\n",
        "hamburger-pizza,\n",
        "hamburger lahmancun gelme olaslıklarını hesaplayınız.\n",
        "not bunu pizza ve lahmacun içinde yapınız"
      ],
      "metadata": {
        "id": "MJ9L09JxzNPn"
      }
    },
    {
      "cell_type": "code",
      "source": [
        "import random\n",
        "\n",
        "y = [1]\n",
        "yemek = [[0,0,0],[0,0,0],[0,0,0]]\n",
        "#ilk hamburgel geldiği kabulüne göre...\n",
        "for i in range(365):\n",
        "    x = random.randint(1,3)\n",
        "    if y[-1]==x:\n",
        "      if x==1:\n",
        "        yemek[0][0]+=1\n",
        "      elif x==2:\n",
        "        yemek[1][1]+=1\n",
        "      elif x==3:\n",
        "        yemek[2][2]+=1\n",
        "    elif y[-1]!=x and y[-1]==1:\n",
        "      if x==2:\n",
        "        yemek[0][1]+=1\n",
        "      elif x==3:\n",
        "        yemek[0][2]+=1\n",
        "    elif y[-1]!=x and y[-1]==2:\n",
        "      if x==1:\n",
        "        yemek[1][0]+=1\n",
        "      elif x==3:\n",
        "        yemek[1][2]+=1\n",
        "    elif y[-1]!=x and y[-1]==3:\n",
        "      if x==1:\n",
        "        yemek[2][0]+=1\n",
        "      elif x==2:\n",
        "        yemek[2][1]+=1\n",
        "    y.append(x)"
      ],
      "metadata": {
        "id": "Xw-hBqFlzK1L"
      },
      "execution_count": null,
      "outputs": []
    },
    {
      "cell_type": "code",
      "source": [
        "print(\"Hamburger gelme olasılığı: \",((yemek[0][0]+yemek[1][0]+yemek[2][0])/365))\n",
        "print(\"Pizza gelme olasılığı: \",((yemek[0][1]+yemek[1][1]+yemek[2][1])/365))\n",
        "print(\"Lahmacun gelme olasılığı: \",((yemek[0][2]+yemek[1][2]+yemek[2][2])/365))\n",
        "\n",
        "\n",
        "print(\"Hamburgerden sonra hamburger gelme olasılığı: \",(yemek[0][0]/(yemek[0][0]+yemek[0][1]+yemek[0][2])))\n",
        "print(\"Hamburgerden sonra pizza gelme olasılığı: \",(yemek[0][1]/(yemek[0][0]+yemek[0][1]+yemek[0][2])))\n",
        "print(\"Hamburgerden sonra lahmacun gelme olasılığı: \",(yemek[0][2]/(yemek[0][0]+yemek[0][1]+yemek[0][2])))\n",
        "\n",
        "\n",
        "print(\"Pizzadan sonra pizza gelme olasılığı: \",(yemek[1][1]/(yemek[1][0]+yemek[1][1]+yemek[1][2])))\n",
        "print(\"Pizzadan sonra lahmacun gelme olasılığı: \",(yemek[1][2]/(yemek[1][0]+yemek[1][1]+yemek[1][2])))\n",
        "print(\"Pizzadan sonra hamburger gelme olasılığı: \",(yemek[1][0]/(yemek[1][0]+yemek[1][1]+yemek[1][2])))\n",
        "\n",
        "print(\"Lahmacundan sonra lahmacun gelme olasılığı: \",(yemek[2][2]/(yemek[2][0]+yemek[2][1]+yemek[2][2])))\n",
        "print(\"Lahmacundan sonra hamburger gelme olasılığı: \",(yemek[2][0]/(yemek[2][0]+yemek[2][1]+yemek[2][2])))\n",
        "print(\"Lahmacundan sonra pizza gelme olasılığı: \",(yemek[2][1]/(yemek[2][0]+yemek[2][1]+yemek[2][2])))"
      ],
      "metadata": {
        "colab": {
          "base_uri": "https://localhost:8080/"
        },
        "id": "HuPCAxPJ-5hv",
        "outputId": "8b9fd8eb-a1b9-47d9-a9d9-b351a721023d"
      },
      "execution_count": null,
      "outputs": [
        {
          "output_type": "stream",
          "name": "stdout",
          "text": [
            "Hamburger gelme olasılığı:  0.34794520547945207\n",
            "Pizza gelme olasılığı:  0.3287671232876712\n",
            "Lahmacun gelme olasılığı:  0.3232876712328767\n",
            "Hamburgerden sonra hamburger gelme olasılığı:  0.359375\n",
            "Hamburgerden sonra pizza gelme olasılığı:  0.3203125\n",
            "Hamburgerden sonra lahmacun gelme olasılığı:  0.3203125\n",
            "Pizzadan sonra pizza gelme olasılığı:  0.35294117647058826\n",
            "Pizzadan sonra lahmacun gelme olasılığı:  0.31092436974789917\n",
            "Pizzadan sonra hamburger gelme olasılığı:  0.33613445378151263\n",
            "Lahmacundan sonra lahmacun gelme olasılığı:  0.3389830508474576\n",
            "Lahmacundan sonra hamburger gelme olasılığı:  0.3474576271186441\n",
            "Lahmacundan sonra pizza gelme olasılığı:  0.3135593220338983\n"
          ]
        }
      ]
    },
    {
      "cell_type": "markdown",
      "source": [
        "Soru3) 2 yıllık altın fiyatı oluşturunuz rastgele 800 ve 1000 arasında\n",
        "    Yine markov chain artış azalış sabit kalma 3 durum. olasılıklarınız çıkarınız.\n",
        "Örnek ilk veriniz 800 sonraki veriniz 810 bu artış\n",
        "ilk veriniz 900 sonraki veriniz 850 azalış\n",
        "850 - 850 ise sabit şekilde kategorik hale getirip markov chain uygulayınız"
      ],
      "metadata": {
        "id": "__9Of4bJzPV7"
      }
    },
    {
      "cell_type": "code",
      "source": [
        "import random\n",
        "\n",
        "durumlar= [\"artış\",\"azalış\",\"sabit\"]\n",
        "durum = [[0,0,0],[0,0,0],[0,0,0]]\n",
        "L=[\"S\"]\n",
        "xt=[800,800]\n",
        "x_t1=[]\n",
        "\n",
        "for i in range(730):\n",
        "    x_t1=random.randint(800,1000)\n",
        "    if xt[-1]==x_t1:\n",
        "      if L[-1]==\"S\":\n",
        "        durum[2][2]+=1\n",
        "        L.append(\"S\")\n",
        "      elif L[-1]==\"Ar\":\n",
        "        durum[0][2]+=1\n",
        "        L.append(\"S\")\n",
        "      elif L[-1]==\"Az\":\n",
        "        durum[1][2]+=1\n",
        "        L.append(\"S\")\n",
        "    elif xt[-1] > x_t1:\n",
        "      if L[-1]==\"S\":\n",
        "        durum[2][1]+=1\n",
        "        L.append(\"Az\")\n",
        "      elif L[-1]==\"Ar\":\n",
        "        durum[0][1]+=1\n",
        "        L.append(\"Az\")\n",
        "      elif L[-1]==\"Az\":\n",
        "        durum[1][1]+=1\n",
        "        L.append(\"Az\")\n",
        "    elif xt[-1] < x_t1:\n",
        "      if L[-1]==\"Ar\":\n",
        "        durum[0][0]+=1\n",
        "        L.append(\"Ar\")\n",
        "      elif L[-1]==\"Az\":\n",
        "        durum[1][0]+=1\n",
        "        L.append(\"Ar\")\n",
        "      elif L[-1]==\"S\":\n",
        "        durum[2][0]+=1\n",
        "        L.append(\"Ar\")\n",
        "    xt.append(x_t1)\n",
        "print(\"Artış gelme olasılığı: \",(durum[0][0]+durum[1][0]+durum[2][0])/730)\n",
        "print(\"Azalış gelme olasılığı: \",(durum[0][1]+durum[1][1]+durum[2][1])/730)\n",
        "print(\"Sabit gelme olasılığı: \",(durum[0][2]+durum[1][2]+durum[2][2])/730)\n",
        "\n",
        "\n",
        "print(\"Artıştan sonra artış gelme olasılığı: \",(durum[0][0])/(durum[0][0]+durum[0][1]+durum[0][2]))\n",
        "print(\"Artıştan sonra azalış gelme olasılığı: \",(durum[0][1])/(durum[0][0]+durum[0][1]+durum[0][2]))\n",
        "print(\"Artıştan sonra sabit gelme olasılığı: \",(durum[0][2])/(durum[0][0]+durum[0][1]+durum[0][2]))\n",
        "\n",
        "\n",
        "print(\"Azalış sonra Artış gelme olasılığı: \",(durum[1][0])/(durum[1][0]+durum[1][1]+durum[1][2]))\n",
        "print(\"Azalış sonra Azalış gelme olasılığı: \",(durum[1][1])/(durum[1][0]+durum[1][1]+durum[1][2]))\n",
        "print(\"Azalış sonra Serbest gelme olasılığı: \",(durum[1][2])/(durum[1][0]+durum[1][1]+durum[1][2]))\n",
        "\n",
        "\n",
        "print(\"Sabitten sonra Artış gelme olasılığı: \",(durum[2][0])/(durum[2][0]+durum[2][1]+durum[2][2]))\n",
        "print(\"Sabitten sonra Azalış gelme olasılığı: \",(durum[2][1])/(durum[2][0]+durum[2][1]+durum[2][2]))\n",
        "print(\"Sabitten sonra Serbest gelme olasılığı: \",(durum[2][2])/(durum[2][0]+durum[2][1]+durum[2][2]))"
      ],
      "metadata": {
        "colab": {
          "base_uri": "https://localhost:8080/"
        },
        "id": "FcWr6HNEzKaJ",
        "outputId": "4d867cb2-41a3-4622-e38c-7d57f7f195d2"
      },
      "execution_count": null,
      "outputs": [
        {
          "output_type": "stream",
          "name": "stdout",
          "text": [
            "Artış gelme olasılığı:  0.4917808219178082\n",
            "Azalış gelme olasılığı:  0.5054794520547945\n",
            "Sabit gelme olasılığı:  0.0027397260273972603\n",
            "Artıştan sonra artış gelme olasılığı:  0.31754874651810583\n",
            "Artıştan sonra azalış gelme olasılığı:  0.6824512534818942\n",
            "Artıştan sonra sabit gelme olasılığı:  0.0\n",
            "Azalış sonra Artış gelme olasılığı:  0.6603260869565217\n",
            "Azalış sonra Azalış gelme olasılığı:  0.3342391304347826\n",
            "Azalış sonra Serbest gelme olasılığı:  0.005434782608695652\n",
            "Sabitten sonra Artış gelme olasılığı:  0.6666666666666666\n",
            "Sabitten sonra Azalış gelme olasılığı:  0.3333333333333333\n",
            "Sabitten sonra Serbest gelme olasılığı:  0.0\n"
          ]
        }
      ]
    },
    {
      "cell_type": "markdown",
      "source": [
        "Soru4) 60 adet cümle bularak yada yazarak biribine benzer olursa güzel olur.\n",
        "Bunları sparse matrix haline dönüştürmeniz gerekmektedir.\n",
        "Sonuçta\n",
        "hangi kelimeden sonra hangi kelimenin gelme olasılığı"
      ],
      "metadata": {
        "id": "B4poiMTbzPmq"
      }
    },
    {
      "cell_type": "code",
      "execution_count": null,
      "metadata": {
        "id": "QZZJaDLUy_6T"
      },
      "outputs": [],
      "source": []
    }
  ]
}