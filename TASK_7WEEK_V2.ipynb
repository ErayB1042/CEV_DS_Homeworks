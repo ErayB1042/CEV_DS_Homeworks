{
 "cells": [
  {
   "cell_type": "markdown",
   "metadata": {
    "id": "6fJjwNc8oPws"
   },
   "source": [
    "\n",
    "# NOTE: You can work with your teammates to solve the given tasks however you should prepare the report by yourself and in your own words to get points.\n",
    "\n"
   ]
  },
  {
   "cell_type": "code",
   "execution_count": 1,
   "metadata": {
    "colab": {
     "base_uri": "https://localhost:8080/",
     "height": 270
    },
    "id": "1JB-dSerkjHv",
    "outputId": "6ef3ad11-fdcb-4b13-94db-1b22b7631a64"
   },
   "outputs": [
    {
     "data": {
      "text/html": [
       "<div>\n",
       "<style scoped>\n",
       "    .dataframe tbody tr th:only-of-type {\n",
       "        vertical-align: middle;\n",
       "    }\n",
       "\n",
       "    .dataframe tbody tr th {\n",
       "        vertical-align: top;\n",
       "    }\n",
       "\n",
       "    .dataframe thead th {\n",
       "        text-align: right;\n",
       "    }\n",
       "</style>\n",
       "<table border=\"1\" class=\"dataframe\">\n",
       "  <thead>\n",
       "    <tr style=\"text-align: right;\">\n",
       "      <th></th>\n",
       "      <th>SEX</th>\n",
       "      <th>EDUC</th>\n",
       "      <th>MARISTAT</th>\n",
       "      <th>INDEPEND</th>\n",
       "      <th>RESIDENC</th>\n",
       "      <th>...</th>\n",
       "      <th>RSUPTEMM</th>\n",
       "      <th>RSUPMAR</th>\n",
       "      <th>RSUPMARM</th>\n",
       "      <th>RTRTEM</th>\n",
       "      <th>RTRTEMM</th>\n",
       "    </tr>\n",
       "  </thead>\n",
       "  <tbody>\n",
       "    <tr>\n",
       "      <th>0</th>\n",
       "      <td>2</td>\n",
       "      <td>18</td>\n",
       "      <td>1</td>\n",
       "      <td>1</td>\n",
       "      <td>1</td>\n",
       "      <td>...</td>\n",
       "      <td>1.7419</td>\n",
       "      <td>9.8700</td>\n",
       "      <td>1.6792</td>\n",
       "      <td>0.8906</td>\n",
       "      <td>1.1947</td>\n",
       "    </tr>\n",
       "    <tr>\n",
       "      <th>1</th>\n",
       "      <td>1</td>\n",
       "      <td>11</td>\n",
       "      <td>1</td>\n",
       "      <td>1</td>\n",
       "      <td>1</td>\n",
       "      <td>...</td>\n",
       "      <td>2.3000</td>\n",
       "      <td>7.2700</td>\n",
       "      <td>1.8900</td>\n",
       "      <td>1.3800</td>\n",
       "      <td>2.0300</td>\n",
       "    </tr>\n",
       "    <tr>\n",
       "      <th>2</th>\n",
       "      <td>2</td>\n",
       "      <td>16</td>\n",
       "      <td>1</td>\n",
       "      <td>1</td>\n",
       "      <td>1</td>\n",
       "      <td>...</td>\n",
       "      <td>2.0700</td>\n",
       "      <td>10.1100</td>\n",
       "      <td>1.8400</td>\n",
       "      <td>1.0100</td>\n",
       "      <td>1.5000</td>\n",
       "    </tr>\n",
       "    <tr>\n",
       "      <th>3</th>\n",
       "      <td>1</td>\n",
       "      <td>14</td>\n",
       "      <td>1</td>\n",
       "      <td>1</td>\n",
       "      <td>1</td>\n",
       "      <td>...</td>\n",
       "      <td>1.6400</td>\n",
       "      <td>10.3900</td>\n",
       "      <td>1.8300</td>\n",
       "      <td>0.7400</td>\n",
       "      <td>1.1000</td>\n",
       "    </tr>\n",
       "    <tr>\n",
       "      <th>4</th>\n",
       "      <td>1</td>\n",
       "      <td>16</td>\n",
       "      <td>1</td>\n",
       "      <td>1</td>\n",
       "      <td>2</td>\n",
       "      <td>...</td>\n",
       "      <td>1.6270</td>\n",
       "      <td>7.5844</td>\n",
       "      <td>1.4595</td>\n",
       "      <td>0.6638</td>\n",
       "      <td>0.8527</td>\n",
       "    </tr>\n",
       "  </tbody>\n",
       "</table>\n",
       "<p>5 rows × 186 columns</p>\n",
       "</div>"
      ],
      "text/plain": [
       "   SEX  \\\n",
       "0    2   \n",
       "1    1   \n",
       "2    2   \n",
       "3    1   \n",
       "4    1   \n",
       "\n",
       "   EDUC  \\\n",
       "0    18   \n",
       "1    11   \n",
       "2    16   \n",
       "3    14   \n",
       "4    16   \n",
       "\n",
       "   MARISTAT  \\\n",
       "0         1   \n",
       "1         1   \n",
       "2         1   \n",
       "3         1   \n",
       "4         1   \n",
       "\n",
       "   INDEPEND  \\\n",
       "0         1   \n",
       "1         1   \n",
       "2         1   \n",
       "3         1   \n",
       "4         1   \n",
       "\n",
       "   RESIDENC  \\\n",
       "0         1   \n",
       "1         1   \n",
       "2         1   \n",
       "3         1   \n",
       "4         2   \n",
       "\n",
       "   ...  \\\n",
       "0  ...   \n",
       "1  ...   \n",
       "2  ...   \n",
       "3  ...   \n",
       "4  ...   \n",
       "\n",
       "   RSUPTEMM  \\\n",
       "0    1.7419   \n",
       "1    2.3000   \n",
       "2    2.0700   \n",
       "3    1.6400   \n",
       "4    1.6270   \n",
       "\n",
       "   RSUPMAR  \\\n",
       "0   9.8700   \n",
       "1   7.2700   \n",
       "2  10.1100   \n",
       "3  10.3900   \n",
       "4   7.5844   \n",
       "\n",
       "   RSUPMARM  \\\n",
       "0    1.6792   \n",
       "1    1.8900   \n",
       "2    1.8400   \n",
       "3    1.8300   \n",
       "4    1.4595   \n",
       "\n",
       "   RTRTEM  \\\n",
       "0  0.8906   \n",
       "1  1.3800   \n",
       "2  1.0100   \n",
       "3  0.7400   \n",
       "4  0.6638   \n",
       "\n",
       "   RTRTEMM  \n",
       "0   1.1947  \n",
       "1   2.0300  \n",
       "2   1.5000  \n",
       "3   1.1000  \n",
       "4   0.8527  \n",
       "\n",
       "[5 rows x 186 columns]"
      ]
     },
     "execution_count": 1,
     "metadata": {},
     "output_type": "execute_result"
    }
   ],
   "source": [
    "import numpy as np\n",
    "import pandas as pd\n",
    "import seaborn as sns\n",
    "import matplotlib.pyplot as plt\n",
    "data=pd.read_excel(r\"C:\\Users\\eray_\\OneDrive\\Masaüstü\\Temporary_data3_Left_Right_Copy.xlsx\")\n",
    "datacorr = data.corr()\n",
    "pd.set_option(\"display.max_columns\", 10)\n",
    "pd.set_option(\"display.max_row\", 10)\n",
    "pd.set_option(\"display.width\", 10)\n",
    "df=pd.DataFrame(data)\n",
    "df.head()"
   ]
  },
  {
   "cell_type": "markdown",
   "metadata": {
    "id": "8XWbVOGu0Mas"
   },
   "source": [
    ">**TASK-7A: Please apply one-hot encoding method on one of the categorical variables (not SEX/gender) for the given AD dataset. Please explain what kind of transformation occured on the dataset.**"
   ]
  },
  {
   "cell_type": "code",
   "execution_count": 2,
   "metadata": {
    "colab": {
     "base_uri": "https://localhost:8080/",
     "height": 270
    },
    "id": "TbI22ZE2ow9S",
    "outputId": "a6b5355a-2bc6-48f4-9e44-122883708b68"
   },
   "outputs": [
    {
     "data": {
      "text/html": [
       "<div>\n",
       "<style scoped>\n",
       "    .dataframe tbody tr th:only-of-type {\n",
       "        vertical-align: middle;\n",
       "    }\n",
       "\n",
       "    .dataframe tbody tr th {\n",
       "        vertical-align: top;\n",
       "    }\n",
       "\n",
       "    .dataframe thead th {\n",
       "        text-align: right;\n",
       "    }\n",
       "</style>\n",
       "<table border=\"1\" class=\"dataframe\">\n",
       "  <thead>\n",
       "    <tr style=\"text-align: right;\">\n",
       "      <th></th>\n",
       "      <th>SEX</th>\n",
       "      <th>EDUC</th>\n",
       "      <th>MARISTAT</th>\n",
       "      <th>INDEPEND</th>\n",
       "      <th>RESIDENC</th>\n",
       "      <th>...</th>\n",
       "      <th>1</th>\n",
       "      <th>2</th>\n",
       "      <th>3</th>\n",
       "      <th>4</th>\n",
       "      <th>5</th>\n",
       "    </tr>\n",
       "  </thead>\n",
       "  <tbody>\n",
       "    <tr>\n",
       "      <th>0</th>\n",
       "      <td>2</td>\n",
       "      <td>18</td>\n",
       "      <td>1</td>\n",
       "      <td>1</td>\n",
       "      <td>1</td>\n",
       "      <td>...</td>\n",
       "      <td>0.0</td>\n",
       "      <td>1.0</td>\n",
       "      <td>0.0</td>\n",
       "      <td>0.0</td>\n",
       "      <td>0.0</td>\n",
       "    </tr>\n",
       "    <tr>\n",
       "      <th>1</th>\n",
       "      <td>1</td>\n",
       "      <td>11</td>\n",
       "      <td>1</td>\n",
       "      <td>1</td>\n",
       "      <td>1</td>\n",
       "      <td>...</td>\n",
       "      <td>0.0</td>\n",
       "      <td>0.0</td>\n",
       "      <td>0.0</td>\n",
       "      <td>0.0</td>\n",
       "      <td>0.0</td>\n",
       "    </tr>\n",
       "    <tr>\n",
       "      <th>2</th>\n",
       "      <td>2</td>\n",
       "      <td>16</td>\n",
       "      <td>1</td>\n",
       "      <td>1</td>\n",
       "      <td>1</td>\n",
       "      <td>...</td>\n",
       "      <td>0.0</td>\n",
       "      <td>0.0</td>\n",
       "      <td>0.0</td>\n",
       "      <td>0.0</td>\n",
       "      <td>0.0</td>\n",
       "    </tr>\n",
       "    <tr>\n",
       "      <th>3</th>\n",
       "      <td>1</td>\n",
       "      <td>14</td>\n",
       "      <td>1</td>\n",
       "      <td>1</td>\n",
       "      <td>1</td>\n",
       "      <td>...</td>\n",
       "      <td>0.0</td>\n",
       "      <td>0.0</td>\n",
       "      <td>0.0</td>\n",
       "      <td>0.0</td>\n",
       "      <td>0.0</td>\n",
       "    </tr>\n",
       "    <tr>\n",
       "      <th>4</th>\n",
       "      <td>1</td>\n",
       "      <td>16</td>\n",
       "      <td>1</td>\n",
       "      <td>1</td>\n",
       "      <td>2</td>\n",
       "      <td>...</td>\n",
       "      <td>0.0</td>\n",
       "      <td>0.0</td>\n",
       "      <td>0.0</td>\n",
       "      <td>0.0</td>\n",
       "      <td>0.0</td>\n",
       "    </tr>\n",
       "  </tbody>\n",
       "</table>\n",
       "<p>5 rows × 192 columns</p>\n",
       "</div>"
      ],
      "text/plain": [
       "   SEX  \\\n",
       "0    2   \n",
       "1    1   \n",
       "2    2   \n",
       "3    1   \n",
       "4    1   \n",
       "\n",
       "   EDUC  \\\n",
       "0    18   \n",
       "1    11   \n",
       "2    16   \n",
       "3    14   \n",
       "4    16   \n",
       "\n",
       "   MARISTAT  \\\n",
       "0         1   \n",
       "1         1   \n",
       "2         1   \n",
       "3         1   \n",
       "4         1   \n",
       "\n",
       "   INDEPEND  \\\n",
       "0         1   \n",
       "1         1   \n",
       "2         1   \n",
       "3         1   \n",
       "4         1   \n",
       "\n",
       "   RESIDENC  \\\n",
       "0         1   \n",
       "1         1   \n",
       "2         1   \n",
       "3         1   \n",
       "4         2   \n",
       "\n",
       "   ...  \\\n",
       "0  ...   \n",
       "1  ...   \n",
       "2  ...   \n",
       "3  ...   \n",
       "4  ...   \n",
       "\n",
       "     1  \\\n",
       "0  0.0   \n",
       "1  0.0   \n",
       "2  0.0   \n",
       "3  0.0   \n",
       "4  0.0   \n",
       "\n",
       "     2  \\\n",
       "0  1.0   \n",
       "1  0.0   \n",
       "2  0.0   \n",
       "3  0.0   \n",
       "4  0.0   \n",
       "\n",
       "     3  \\\n",
       "0  0.0   \n",
       "1  0.0   \n",
       "2  0.0   \n",
       "3  0.0   \n",
       "4  0.0   \n",
       "\n",
       "     4  \\\n",
       "0  0.0   \n",
       "1  0.0   \n",
       "2  0.0   \n",
       "3  0.0   \n",
       "4  0.0   \n",
       "\n",
       "     5  \n",
       "0  0.0  \n",
       "1  0.0  \n",
       "2  0.0  \n",
       "3  0.0  \n",
       "4  0.0  \n",
       "\n",
       "[5 rows x 192 columns]"
      ]
     },
     "execution_count": 2,
     "metadata": {},
     "output_type": "execute_result"
    }
   ],
   "source": [
    "# apply one-hot encoding method on one of the categorical variables\n",
    "from sklearn.preprocessing import OneHotEncoder\n",
    "from sklearn.preprocessing import StandardScaler\n",
    "encoder = OneHotEncoder(handle_unknown=\"ignore\")\n",
    "encoder_df = pd.DataFrame(encoder.fit_transform(df[[\"NACCAPOE\"]]).toarray())\n",
    "data_encoded=df.join(encoder_df)\n",
    "data_encoded.head()"
   ]
  },
  {
   "cell_type": "markdown",
   "metadata": {
    "id": "UcwxpWST0ZVu"
   },
   "source": [
    ">**TASK-7B: Please provide a couple of pivot tables in order to illustrate how SEX variable is influential on our target array (CDRGLOB). Please provide a few multidimensional analyses (not limited to two variables).**"
   ]
  },
  {
   "cell_type": "code",
   "execution_count": 3,
   "metadata": {
    "colab": {
     "base_uri": "https://localhost:8080/",
     "height": 332
    },
    "id": "hNmqDSfC0ZIA",
    "outputId": "205dc5d6-0fe3-4612-d634-067bbc028d01"
   },
   "outputs": [
    {
     "data": {
      "text/html": [
       "<div>\n",
       "<style scoped>\n",
       "    .dataframe tbody tr th:only-of-type {\n",
       "        vertical-align: middle;\n",
       "    }\n",
       "\n",
       "    .dataframe tbody tr th {\n",
       "        vertical-align: top;\n",
       "    }\n",
       "\n",
       "    .dataframe thead th {\n",
       "        text-align: right;\n",
       "    }\n",
       "</style>\n",
       "<table border=\"1\" class=\"dataframe\">\n",
       "  <thead>\n",
       "    <tr style=\"text-align: right;\">\n",
       "      <th></th>\n",
       "      <th>CSFVOL</th>\n",
       "      <th>(203.863, 281.494]</th>\n",
       "      <th>(281.494, 310.631]</th>\n",
       "      <th>(310.631, 341.468]</th>\n",
       "      <th>(341.468, 374.627]</th>\n",
       "      <th>(374.627, 413.118]</th>\n",
       "      <th>(413.118, 611.79]</th>\n",
       "    </tr>\n",
       "    <tr>\n",
       "      <th>CDRGLOB</th>\n",
       "      <th>SEX</th>\n",
       "      <th></th>\n",
       "      <th></th>\n",
       "      <th></th>\n",
       "      <th></th>\n",
       "      <th></th>\n",
       "      <th></th>\n",
       "    </tr>\n",
       "  </thead>\n",
       "  <tbody>\n",
       "    <tr>\n",
       "      <th rowspan=\"2\" valign=\"top\">0</th>\n",
       "      <th>1</th>\n",
       "      <td>3.112767</td>\n",
       "      <td>3.290715</td>\n",
       "      <td>3.413018</td>\n",
       "      <td>3.373607</td>\n",
       "      <td>3.411097</td>\n",
       "      <td>3.349690</td>\n",
       "    </tr>\n",
       "    <tr>\n",
       "      <th>2</th>\n",
       "      <td>3.114644</td>\n",
       "      <td>3.209066</td>\n",
       "      <td>3.135438</td>\n",
       "      <td>3.195362</td>\n",
       "      <td>3.132632</td>\n",
       "      <td>3.129084</td>\n",
       "    </tr>\n",
       "    <tr>\n",
       "      <th rowspan=\"2\" valign=\"top\">1</th>\n",
       "      <th>1</th>\n",
       "      <td>2.966510</td>\n",
       "      <td>3.118732</td>\n",
       "      <td>3.065056</td>\n",
       "      <td>2.916851</td>\n",
       "      <td>3.136600</td>\n",
       "      <td>3.105589</td>\n",
       "    </tr>\n",
       "    <tr>\n",
       "      <th>2</th>\n",
       "      <td>2.806638</td>\n",
       "      <td>2.821352</td>\n",
       "      <td>2.762043</td>\n",
       "      <td>2.841369</td>\n",
       "      <td>2.795255</td>\n",
       "      <td>2.753838</td>\n",
       "    </tr>\n",
       "    <tr>\n",
       "      <th rowspan=\"2\" valign=\"top\">2</th>\n",
       "      <th>1</th>\n",
       "      <td>NaN</td>\n",
       "      <td>2.785800</td>\n",
       "      <td>2.952091</td>\n",
       "      <td>2.535860</td>\n",
       "      <td>2.755104</td>\n",
       "      <td>2.924018</td>\n",
       "    </tr>\n",
       "    <tr>\n",
       "      <th>2</th>\n",
       "      <td>2.603343</td>\n",
       "      <td>2.291075</td>\n",
       "      <td>2.592880</td>\n",
       "      <td>2.571182</td>\n",
       "      <td>2.477140</td>\n",
       "      <td>2.582483</td>\n",
       "    </tr>\n",
       "    <tr>\n",
       "      <th rowspan=\"2\" valign=\"top\">3</th>\n",
       "      <th>1</th>\n",
       "      <td>NaN</td>\n",
       "      <td>2.730150</td>\n",
       "      <td>2.788100</td>\n",
       "      <td>2.461900</td>\n",
       "      <td>2.287171</td>\n",
       "      <td>2.678094</td>\n",
       "    </tr>\n",
       "    <tr>\n",
       "      <th>2</th>\n",
       "      <td>NaN</td>\n",
       "      <td>2.091900</td>\n",
       "      <td>2.242300</td>\n",
       "      <td>2.445200</td>\n",
       "      <td>2.442540</td>\n",
       "      <td>2.866567</td>\n",
       "    </tr>\n",
       "  </tbody>\n",
       "</table>\n",
       "</div>"
      ],
      "text/plain": [
       "CSFVOL       (203.863, 281.494]  \\\n",
       "CDRGLOB SEX                       \n",
       "0       1              3.112767   \n",
       "        2              3.114644   \n",
       "1       1              2.966510   \n",
       "        2              2.806638   \n",
       "2       1                   NaN   \n",
       "        2              2.603343   \n",
       "3       1                   NaN   \n",
       "        2                   NaN   \n",
       "\n",
       "CSFVOL       (281.494, 310.631]  \\\n",
       "CDRGLOB SEX                       \n",
       "0       1              3.290715   \n",
       "        2              3.209066   \n",
       "1       1              3.118732   \n",
       "        2              2.821352   \n",
       "2       1              2.785800   \n",
       "        2              2.291075   \n",
       "3       1              2.730150   \n",
       "        2              2.091900   \n",
       "\n",
       "CSFVOL       (310.631, 341.468]  \\\n",
       "CDRGLOB SEX                       \n",
       "0       1              3.413018   \n",
       "        2              3.135438   \n",
       "1       1              3.065056   \n",
       "        2              2.762043   \n",
       "2       1              2.952091   \n",
       "        2              2.592880   \n",
       "3       1              2.788100   \n",
       "        2              2.242300   \n",
       "\n",
       "CSFVOL       (341.468, 374.627]  \\\n",
       "CDRGLOB SEX                       \n",
       "0       1              3.373607   \n",
       "        2              3.195362   \n",
       "1       1              2.916851   \n",
       "        2              2.841369   \n",
       "2       1              2.535860   \n",
       "        2              2.571182   \n",
       "3       1              2.461900   \n",
       "        2              2.445200   \n",
       "\n",
       "CSFVOL       (374.627, 413.118]  \\\n",
       "CDRGLOB SEX                       \n",
       "0       1              3.411097   \n",
       "        2              3.132632   \n",
       "1       1              3.136600   \n",
       "        2              2.795255   \n",
       "2       1              2.755104   \n",
       "        2              2.477140   \n",
       "3       1              2.287171   \n",
       "        2              2.442540   \n",
       "\n",
       "CSFVOL       (413.118, 611.79]  \n",
       "CDRGLOB SEX                     \n",
       "0       1             3.349690  \n",
       "        2             3.129084  \n",
       "1       1             3.105589  \n",
       "        2             2.753838  \n",
       "2       1             2.924018  \n",
       "        2             2.582483  \n",
       "3       1             2.678094  \n",
       "        2             2.866567  "
      ]
     },
     "execution_count": 3,
     "metadata": {},
     "output_type": "execute_result"
    }
   ],
   "source": [
    "rsumfrm=pd.qcut(data['RSUPFRM'],4)\n",
    "csfvol=pd.qcut(data['CSFVOL'],6)\n",
    "data_encoded.pivot_table('RHIPPO',index=['CDRGLOB','SEX'],columns=csfvol)"
   ]
  },
  {
   "cell_type": "code",
   "execution_count": 4,
   "metadata": {
    "colab": {
     "base_uri": "https://localhost:8080/",
     "height": 332
    },
    "id": "xZWkHBok3DoX",
    "outputId": "5fa34399-eb7b-4d01-bd0f-351faf842857"
   },
   "outputs": [
    {
     "data": {
      "text/html": [
       "<div>\n",
       "<style scoped>\n",
       "    .dataframe tbody tr th:only-of-type {\n",
       "        vertical-align: middle;\n",
       "    }\n",
       "\n",
       "    .dataframe tbody tr th {\n",
       "        vertical-align: top;\n",
       "    }\n",
       "\n",
       "    .dataframe thead th {\n",
       "        text-align: right;\n",
       "    }\n",
       "</style>\n",
       "<table border=\"1\" class=\"dataframe\">\n",
       "  <thead>\n",
       "    <tr style=\"text-align: right;\">\n",
       "      <th></th>\n",
       "      <th>CSFVOL</th>\n",
       "      <th>(203.863, 281.494]</th>\n",
       "      <th>(281.494, 310.631]</th>\n",
       "      <th>(310.631, 341.468]</th>\n",
       "      <th>(341.468, 374.627]</th>\n",
       "      <th>(374.627, 413.118]</th>\n",
       "      <th>(413.118, 611.79]</th>\n",
       "    </tr>\n",
       "    <tr>\n",
       "      <th>SEX</th>\n",
       "      <th>RSUPFRM</th>\n",
       "      <th></th>\n",
       "      <th></th>\n",
       "      <th></th>\n",
       "      <th></th>\n",
       "      <th></th>\n",
       "      <th></th>\n",
       "    </tr>\n",
       "  </thead>\n",
       "  <tbody>\n",
       "    <tr>\n",
       "      <th rowspan=\"4\" valign=\"top\">1</th>\n",
       "      <th>(0.901, 1.988]</th>\n",
       "      <td>0.600000</td>\n",
       "      <td>1.052632</td>\n",
       "      <td>1.074074</td>\n",
       "      <td>0.640000</td>\n",
       "      <td>1.371429</td>\n",
       "      <td>1.393443</td>\n",
       "    </tr>\n",
       "    <tr>\n",
       "      <th>(1.988, 2.198]</th>\n",
       "      <td>0.714286</td>\n",
       "      <td>0.409091</td>\n",
       "      <td>0.571429</td>\n",
       "      <td>0.733333</td>\n",
       "      <td>1.093023</td>\n",
       "      <td>1.391304</td>\n",
       "    </tr>\n",
       "    <tr>\n",
       "      <th>(2.198, 2.376]</th>\n",
       "      <td>0.000000</td>\n",
       "      <td>0.500000</td>\n",
       "      <td>0.461538</td>\n",
       "      <td>0.517241</td>\n",
       "      <td>0.818182</td>\n",
       "      <td>1.204545</td>\n",
       "    </tr>\n",
       "    <tr>\n",
       "      <th>(2.376, 4.06]</th>\n",
       "      <td>0.666667</td>\n",
       "      <td>0.300000</td>\n",
       "      <td>0.476190</td>\n",
       "      <td>0.421053</td>\n",
       "      <td>0.551724</td>\n",
       "      <td>0.441176</td>\n",
       "    </tr>\n",
       "    <tr>\n",
       "      <th rowspan=\"4\" valign=\"top\">2</th>\n",
       "      <th>(0.901, 1.988]</th>\n",
       "      <td>0.605263</td>\n",
       "      <td>0.974359</td>\n",
       "      <td>0.857143</td>\n",
       "      <td>1.117647</td>\n",
       "      <td>1.352941</td>\n",
       "      <td>1.250000</td>\n",
       "    </tr>\n",
       "    <tr>\n",
       "      <th>(1.988, 2.198]</th>\n",
       "      <td>0.463415</td>\n",
       "      <td>0.372549</td>\n",
       "      <td>0.702703</td>\n",
       "      <td>1.117647</td>\n",
       "      <td>0.875000</td>\n",
       "      <td>1.666667</td>\n",
       "    </tr>\n",
       "    <tr>\n",
       "      <th>(2.198, 2.376]</th>\n",
       "      <td>0.239437</td>\n",
       "      <td>0.394737</td>\n",
       "      <td>0.380952</td>\n",
       "      <td>0.807692</td>\n",
       "      <td>1.000000</td>\n",
       "      <td>1.285714</td>\n",
       "    </tr>\n",
       "    <tr>\n",
       "      <th>(2.376, 4.06]</th>\n",
       "      <td>0.175439</td>\n",
       "      <td>0.257143</td>\n",
       "      <td>0.413793</td>\n",
       "      <td>0.363636</td>\n",
       "      <td>0.617647</td>\n",
       "      <td>0.416667</td>\n",
       "    </tr>\n",
       "  </tbody>\n",
       "</table>\n",
       "</div>"
      ],
      "text/plain": [
       "CSFVOL              (203.863, 281.494]  \\\n",
       "SEX RSUPFRM                              \n",
       "1   (0.901, 1.988]            0.600000   \n",
       "    (1.988, 2.198]            0.714286   \n",
       "    (2.198, 2.376]            0.000000   \n",
       "    (2.376, 4.06]             0.666667   \n",
       "2   (0.901, 1.988]            0.605263   \n",
       "    (1.988, 2.198]            0.463415   \n",
       "    (2.198, 2.376]            0.239437   \n",
       "    (2.376, 4.06]             0.175439   \n",
       "\n",
       "CSFVOL              (281.494, 310.631]  \\\n",
       "SEX RSUPFRM                              \n",
       "1   (0.901, 1.988]            1.052632   \n",
       "    (1.988, 2.198]            0.409091   \n",
       "    (2.198, 2.376]            0.500000   \n",
       "    (2.376, 4.06]             0.300000   \n",
       "2   (0.901, 1.988]            0.974359   \n",
       "    (1.988, 2.198]            0.372549   \n",
       "    (2.198, 2.376]            0.394737   \n",
       "    (2.376, 4.06]             0.257143   \n",
       "\n",
       "CSFVOL              (310.631, 341.468]  \\\n",
       "SEX RSUPFRM                              \n",
       "1   (0.901, 1.988]            1.074074   \n",
       "    (1.988, 2.198]            0.571429   \n",
       "    (2.198, 2.376]            0.461538   \n",
       "    (2.376, 4.06]             0.476190   \n",
       "2   (0.901, 1.988]            0.857143   \n",
       "    (1.988, 2.198]            0.702703   \n",
       "    (2.198, 2.376]            0.380952   \n",
       "    (2.376, 4.06]             0.413793   \n",
       "\n",
       "CSFVOL              (341.468, 374.627]  \\\n",
       "SEX RSUPFRM                              \n",
       "1   (0.901, 1.988]            0.640000   \n",
       "    (1.988, 2.198]            0.733333   \n",
       "    (2.198, 2.376]            0.517241   \n",
       "    (2.376, 4.06]             0.421053   \n",
       "2   (0.901, 1.988]            1.117647   \n",
       "    (1.988, 2.198]            1.117647   \n",
       "    (2.198, 2.376]            0.807692   \n",
       "    (2.376, 4.06]             0.363636   \n",
       "\n",
       "CSFVOL              (374.627, 413.118]  \\\n",
       "SEX RSUPFRM                              \n",
       "1   (0.901, 1.988]            1.371429   \n",
       "    (1.988, 2.198]            1.093023   \n",
       "    (2.198, 2.376]            0.818182   \n",
       "    (2.376, 4.06]             0.551724   \n",
       "2   (0.901, 1.988]            1.352941   \n",
       "    (1.988, 2.198]            0.875000   \n",
       "    (2.198, 2.376]            1.000000   \n",
       "    (2.376, 4.06]             0.617647   \n",
       "\n",
       "CSFVOL              (413.118, 611.79]  \n",
       "SEX RSUPFRM                            \n",
       "1   (0.901, 1.988]           1.393443  \n",
       "    (1.988, 2.198]           1.391304  \n",
       "    (2.198, 2.376]           1.204545  \n",
       "    (2.376, 4.06]            0.441176  \n",
       "2   (0.901, 1.988]           1.250000  \n",
       "    (1.988, 2.198]           1.666667  \n",
       "    (2.198, 2.376]           1.285714  \n",
       "    (2.376, 4.06]            0.416667  "
      ]
     },
     "execution_count": 4,
     "metadata": {},
     "output_type": "execute_result"
    }
   ],
   "source": [
    "rsumfrm=pd.qcut(data['RSUPFRM'],4)\n",
    "csfvol=pd.qcut(data['CSFVOL'],6)\n",
    "data_encoded.pivot_table('CDRGLOB',index=['SEX',rsumfrm],columns=csfvol)"
   ]
  },
  {
   "cell_type": "code",
   "execution_count": 5,
   "metadata": {
    "colab": {
     "base_uri": "https://localhost:8080/",
     "height": 143
    },
    "id": "kqMBupO6369O",
    "outputId": "4685e290-6c75-4481-c2fb-375aa6162b18"
   },
   "outputs": [
    {
     "data": {
      "text/html": [
       "<div>\n",
       "<style scoped>\n",
       "    .dataframe tbody tr th:only-of-type {\n",
       "        vertical-align: middle;\n",
       "    }\n",
       "\n",
       "    .dataframe tbody tr th {\n",
       "        vertical-align: top;\n",
       "    }\n",
       "\n",
       "    .dataframe thead th {\n",
       "        text-align: right;\n",
       "    }\n",
       "</style>\n",
       "<table border=\"1\" class=\"dataframe\">\n",
       "  <thead>\n",
       "    <tr style=\"text-align: right;\">\n",
       "      <th>CSFVOL</th>\n",
       "      <th>(203.863, 281.494]</th>\n",
       "      <th>(281.494, 310.631]</th>\n",
       "      <th>(310.631, 341.468]</th>\n",
       "      <th>(341.468, 374.627]</th>\n",
       "      <th>(374.627, 413.118]</th>\n",
       "      <th>(413.118, 611.79]</th>\n",
       "    </tr>\n",
       "    <tr>\n",
       "      <th>SEX</th>\n",
       "      <th></th>\n",
       "      <th></th>\n",
       "      <th></th>\n",
       "      <th></th>\n",
       "      <th></th>\n",
       "      <th></th>\n",
       "    </tr>\n",
       "  </thead>\n",
       "  <tbody>\n",
       "    <tr>\n",
       "      <th>1</th>\n",
       "      <td>0.526316</td>\n",
       "      <td>0.603175</td>\n",
       "      <td>0.695122</td>\n",
       "      <td>0.568182</td>\n",
       "      <td>0.985714</td>\n",
       "      <td>1.172973</td>\n",
       "    </tr>\n",
       "    <tr>\n",
       "      <th>2</th>\n",
       "      <td>0.333333</td>\n",
       "      <td>0.496933</td>\n",
       "      <td>0.587413</td>\n",
       "      <td>0.818841</td>\n",
       "      <td>0.894118</td>\n",
       "      <td>0.829268</td>\n",
       "    </tr>\n",
       "  </tbody>\n",
       "</table>\n",
       "</div>"
      ],
      "text/plain": [
       "CSFVOL  (203.863, 281.494]  \\\n",
       "SEX                          \n",
       "1                 0.526316   \n",
       "2                 0.333333   \n",
       "\n",
       "CSFVOL  (281.494, 310.631]  \\\n",
       "SEX                          \n",
       "1                 0.603175   \n",
       "2                 0.496933   \n",
       "\n",
       "CSFVOL  (310.631, 341.468]  \\\n",
       "SEX                          \n",
       "1                 0.695122   \n",
       "2                 0.587413   \n",
       "\n",
       "CSFVOL  (341.468, 374.627]  \\\n",
       "SEX                          \n",
       "1                 0.568182   \n",
       "2                 0.818841   \n",
       "\n",
       "CSFVOL  (374.627, 413.118]  \\\n",
       "SEX                          \n",
       "1                 0.985714   \n",
       "2                 0.894118   \n",
       "\n",
       "CSFVOL  (413.118, 611.79]  \n",
       "SEX                        \n",
       "1                1.172973  \n",
       "2                0.829268  "
      ]
     },
     "execution_count": 5,
     "metadata": {},
     "output_type": "execute_result"
    }
   ],
   "source": [
    "rsumfrm=pd.qcut(data['RSUPFRM'],4)\n",
    "csfvol=pd.qcut(data['CSFVOL'],6)\n",
    "data_encoded.pivot_table('CDRGLOB',index=['SEX'],columns=csfvol)"
   ]
  },
  {
   "cell_type": "markdown",
   "metadata": {
    "id": "i_LN31Nk4EM2"
   },
   "source": [
    ">**TASK-7C: Referring to the problem in part B, please provide a potential solution to the gender-based issue that appears as a bottleneck for the model development phase. One possible solution might be to provide normalization of the numeric columns with respect to the total brain volume (NACCBRNV column).**"
   ]
  },
  {
   "cell_type": "code",
   "execution_count": 6,
   "metadata": {
    "colab": {
     "base_uri": "https://localhost:8080/",
     "height": 1000
    },
    "id": "6u3GUjSM4lNI",
    "outputId": "02263476-2761-4d92-8788-368e391387cc"
   },
   "outputs": [
    {
     "data": {
      "text/html": [
       "<div>\n",
       "<style scoped>\n",
       "    .dataframe tbody tr th:only-of-type {\n",
       "        vertical-align: middle;\n",
       "    }\n",
       "\n",
       "    .dataframe tbody tr th {\n",
       "        vertical-align: top;\n",
       "    }\n",
       "\n",
       "    .dataframe thead th {\n",
       "        text-align: right;\n",
       "    }\n",
       "</style>\n",
       "<table border=\"1\" class=\"dataframe\">\n",
       "  <thead>\n",
       "    <tr style=\"text-align: right;\">\n",
       "      <th></th>\n",
       "      <th>NACCICV</th>\n",
       "      <th>NACCBRNV</th>\n",
       "      <th>NACCWMVL</th>\n",
       "      <th>CSFVOL</th>\n",
       "      <th>GRAYVOL</th>\n",
       "      <th>...</th>\n",
       "      <th>RSUPTEMM</th>\n",
       "      <th>RSUPMAR</th>\n",
       "      <th>RSUPMARM</th>\n",
       "      <th>RTRTEM</th>\n",
       "      <th>RTRTEMM</th>\n",
       "    </tr>\n",
       "  </thead>\n",
       "  <tbody>\n",
       "    <tr>\n",
       "      <th>0</th>\n",
       "      <td>1399.056</td>\n",
       "      <td>1118.929</td>\n",
       "      <td>481.802</td>\n",
       "      <td>279.718</td>\n",
       "      <td>637.536</td>\n",
       "      <td>...</td>\n",
       "      <td>1.7419</td>\n",
       "      <td>9.8700</td>\n",
       "      <td>1.6792</td>\n",
       "      <td>0.8906</td>\n",
       "      <td>1.1947</td>\n",
       "    </tr>\n",
       "    <tr>\n",
       "      <th>1</th>\n",
       "      <td>1578.180</td>\n",
       "      <td>1107.680</td>\n",
       "      <td>477.910</td>\n",
       "      <td>468.740</td>\n",
       "      <td>631.530</td>\n",
       "      <td>...</td>\n",
       "      <td>2.3000</td>\n",
       "      <td>7.2700</td>\n",
       "      <td>1.8900</td>\n",
       "      <td>1.3800</td>\n",
       "      <td>2.0300</td>\n",
       "    </tr>\n",
       "    <tr>\n",
       "      <th>2</th>\n",
       "      <td>1455.550</td>\n",
       "      <td>1187.760</td>\n",
       "      <td>527.470</td>\n",
       "      <td>266.410</td>\n",
       "      <td>661.670</td>\n",
       "      <td>...</td>\n",
       "      <td>2.0700</td>\n",
       "      <td>10.1100</td>\n",
       "      <td>1.8400</td>\n",
       "      <td>1.0100</td>\n",
       "      <td>1.5000</td>\n",
       "    </tr>\n",
       "    <tr>\n",
       "      <th>3</th>\n",
       "      <td>1494.650</td>\n",
       "      <td>1115.330</td>\n",
       "      <td>478.960</td>\n",
       "      <td>376.840</td>\n",
       "      <td>638.850</td>\n",
       "      <td>...</td>\n",
       "      <td>1.6400</td>\n",
       "      <td>10.3900</td>\n",
       "      <td>1.8300</td>\n",
       "      <td>0.7400</td>\n",
       "      <td>1.1000</td>\n",
       "    </tr>\n",
       "    <tr>\n",
       "      <th>4</th>\n",
       "      <td>1494.067</td>\n",
       "      <td>1014.743</td>\n",
       "      <td>444.578</td>\n",
       "      <td>471.128</td>\n",
       "      <td>578.361</td>\n",
       "      <td>...</td>\n",
       "      <td>1.6270</td>\n",
       "      <td>7.5844</td>\n",
       "      <td>1.4595</td>\n",
       "      <td>0.6638</td>\n",
       "      <td>0.8527</td>\n",
       "    </tr>\n",
       "    <tr>\n",
       "      <th>...</th>\n",
       "      <td>...</td>\n",
       "      <td>...</td>\n",
       "      <td>...</td>\n",
       "      <td>...</td>\n",
       "      <td>...</td>\n",
       "      <td>...</td>\n",
       "      <td>...</td>\n",
       "      <td>...</td>\n",
       "      <td>...</td>\n",
       "      <td>...</td>\n",
       "      <td>...</td>\n",
       "    </tr>\n",
       "    <tr>\n",
       "      <th>1349</th>\n",
       "      <td>1472.904</td>\n",
       "      <td>1141.103</td>\n",
       "      <td>519.282</td>\n",
       "      <td>329.904</td>\n",
       "      <td>623.718</td>\n",
       "      <td>...</td>\n",
       "      <td>2.8833</td>\n",
       "      <td>9.3176</td>\n",
       "      <td>2.3582</td>\n",
       "      <td>0.6735</td>\n",
       "      <td>1.0270</td>\n",
       "    </tr>\n",
       "    <tr>\n",
       "      <th>1350</th>\n",
       "      <td>1723.724</td>\n",
       "      <td>1192.320</td>\n",
       "      <td>535.784</td>\n",
       "      <td>521.124</td>\n",
       "      <td>666.816</td>\n",
       "      <td>...</td>\n",
       "      <td>1.9027</td>\n",
       "      <td>10.2034</td>\n",
       "      <td>2.0484</td>\n",
       "      <td>0.7267</td>\n",
       "      <td>0.7946</td>\n",
       "    </tr>\n",
       "    <tr>\n",
       "      <th>1351</th>\n",
       "      <td>1450.360</td>\n",
       "      <td>1068.170</td>\n",
       "      <td>449.420</td>\n",
       "      <td>373.560</td>\n",
       "      <td>627.380</td>\n",
       "      <td>...</td>\n",
       "      <td>1.9900</td>\n",
       "      <td>9.4800</td>\n",
       "      <td>1.7400</td>\n",
       "      <td>1.1800</td>\n",
       "      <td>1.5900</td>\n",
       "    </tr>\n",
       "    <tr>\n",
       "      <th>1352</th>\n",
       "      <td>1528.400</td>\n",
       "      <td>1105.820</td>\n",
       "      <td>487.800</td>\n",
       "      <td>391.970</td>\n",
       "      <td>648.630</td>\n",
       "      <td>...</td>\n",
       "      <td>2.1000</td>\n",
       "      <td>11.1200</td>\n",
       "      <td>2.1400</td>\n",
       "      <td>1.3100</td>\n",
       "      <td>1.5200</td>\n",
       "    </tr>\n",
       "    <tr>\n",
       "      <th>1353</th>\n",
       "      <td>1286.170</td>\n",
       "      <td>996.810</td>\n",
       "      <td>424.920</td>\n",
       "      <td>279.550</td>\n",
       "      <td>581.700</td>\n",
       "      <td>...</td>\n",
       "      <td>2.2000</td>\n",
       "      <td>9.9600</td>\n",
       "      <td>1.8600</td>\n",
       "      <td>0.8300</td>\n",
       "      <td>1.6500</td>\n",
       "    </tr>\n",
       "  </tbody>\n",
       "</table>\n",
       "<p>1354 rows × 149 columns</p>\n",
       "</div>"
      ],
      "text/plain": [
       "       NACCICV  \\\n",
       "0     1399.056   \n",
       "1     1578.180   \n",
       "2     1455.550   \n",
       "3     1494.650   \n",
       "4     1494.067   \n",
       "...        ...   \n",
       "1349  1472.904   \n",
       "1350  1723.724   \n",
       "1351  1450.360   \n",
       "1352  1528.400   \n",
       "1353  1286.170   \n",
       "\n",
       "      NACCBRNV  \\\n",
       "0     1118.929   \n",
       "1     1107.680   \n",
       "2     1187.760   \n",
       "3     1115.330   \n",
       "4     1014.743   \n",
       "...        ...   \n",
       "1349  1141.103   \n",
       "1350  1192.320   \n",
       "1351  1068.170   \n",
       "1352  1105.820   \n",
       "1353   996.810   \n",
       "\n",
       "      NACCWMVL  \\\n",
       "0      481.802   \n",
       "1      477.910   \n",
       "2      527.470   \n",
       "3      478.960   \n",
       "4      444.578   \n",
       "...        ...   \n",
       "1349   519.282   \n",
       "1350   535.784   \n",
       "1351   449.420   \n",
       "1352   487.800   \n",
       "1353   424.920   \n",
       "\n",
       "       CSFVOL  \\\n",
       "0     279.718   \n",
       "1     468.740   \n",
       "2     266.410   \n",
       "3     376.840   \n",
       "4     471.128   \n",
       "...       ...   \n",
       "1349  329.904   \n",
       "1350  521.124   \n",
       "1351  373.560   \n",
       "1352  391.970   \n",
       "1353  279.550   \n",
       "\n",
       "      GRAYVOL  \\\n",
       "0     637.536   \n",
       "1     631.530   \n",
       "2     661.670   \n",
       "3     638.850   \n",
       "4     578.361   \n",
       "...       ...   \n",
       "1349  623.718   \n",
       "1350  666.816   \n",
       "1351  627.380   \n",
       "1352  648.630   \n",
       "1353  581.700   \n",
       "\n",
       "      ...  \\\n",
       "0     ...   \n",
       "1     ...   \n",
       "2     ...   \n",
       "3     ...   \n",
       "4     ...   \n",
       "...   ...   \n",
       "1349  ...   \n",
       "1350  ...   \n",
       "1351  ...   \n",
       "1352  ...   \n",
       "1353  ...   \n",
       "\n",
       "      RSUPTEMM  \\\n",
       "0       1.7419   \n",
       "1       2.3000   \n",
       "2       2.0700   \n",
       "3       1.6400   \n",
       "4       1.6270   \n",
       "...        ...   \n",
       "1349    2.8833   \n",
       "1350    1.9027   \n",
       "1351    1.9900   \n",
       "1352    2.1000   \n",
       "1353    2.2000   \n",
       "\n",
       "      RSUPMAR  \\\n",
       "0      9.8700   \n",
       "1      7.2700   \n",
       "2     10.1100   \n",
       "3     10.3900   \n",
       "4      7.5844   \n",
       "...       ...   \n",
       "1349   9.3176   \n",
       "1350  10.2034   \n",
       "1351   9.4800   \n",
       "1352  11.1200   \n",
       "1353   9.9600   \n",
       "\n",
       "      RSUPMARM  \\\n",
       "0       1.6792   \n",
       "1       1.8900   \n",
       "2       1.8400   \n",
       "3       1.8300   \n",
       "4       1.4595   \n",
       "...        ...   \n",
       "1349    2.3582   \n",
       "1350    2.0484   \n",
       "1351    1.7400   \n",
       "1352    2.1400   \n",
       "1353    1.8600   \n",
       "\n",
       "      RTRTEM  \\\n",
       "0     0.8906   \n",
       "1     1.3800   \n",
       "2     1.0100   \n",
       "3     0.7400   \n",
       "4     0.6638   \n",
       "...      ...   \n",
       "1349  0.6735   \n",
       "1350  0.7267   \n",
       "1351  1.1800   \n",
       "1352  1.3100   \n",
       "1353  0.8300   \n",
       "\n",
       "      RTRTEMM  \n",
       "0      1.1947  \n",
       "1      2.0300  \n",
       "2      1.5000  \n",
       "3      1.1000  \n",
       "4      0.8527  \n",
       "...       ...  \n",
       "1349   1.0270  \n",
       "1350   0.7946  \n",
       "1351   1.5900  \n",
       "1352   1.5200  \n",
       "1353   1.6500  \n",
       "\n",
       "[1354 rows x 149 columns]"
      ]
     },
     "execution_count": 6,
     "metadata": {},
     "output_type": "execute_result"
    }
   ],
   "source": [
    "data_encoded_1=data_encoded.loc[:,'NACCICV':'RTRTEMM']\n",
    "data_encoded_1"
   ]
  },
  {
   "cell_type": "code",
   "execution_count": 7,
   "metadata": {
    "colab": {
     "base_uri": "https://localhost:8080/"
    },
    "id": "C9tIT7eY6iZc",
    "outputId": "2fefeb4d-7bc5-4a6e-9b54-d59c02e95e5e"
   },
   "outputs": [
    {
     "data": {
      "text/plain": [
       "0       1118.929\n",
       "1       1107.680\n",
       "2       1187.760\n",
       "3       1115.330\n",
       "4       1014.743\n",
       "          ...   \n",
       "1349    1141.103\n",
       "1350    1192.320\n",
       "1351    1068.170\n",
       "1352    1105.820\n",
       "1353     996.810\n",
       "Name: NACCBRNV, Length: 1354, dtype: float64"
      ]
     },
     "execution_count": 7,
     "metadata": {},
     "output_type": "execute_result"
    }
   ],
   "source": [
    "data_encoded_2=data_encoded['NACCBRNV']\n",
    "data_encoded_2"
   ]
  },
  {
   "cell_type": "code",
   "execution_count": 8,
   "metadata": {
    "colab": {
     "base_uri": "https://localhost:8080/",
     "height": 1000
    },
    "id": "DCYUkReA7iKo",
    "outputId": "cd46cb50-56aa-4844-d2de-6c54c29d2ee2",
    "scrolled": true
   },
   "outputs": [
    {
     "data": {
      "text/html": [
       "<div>\n",
       "<style scoped>\n",
       "    .dataframe tbody tr th:only-of-type {\n",
       "        vertical-align: middle;\n",
       "    }\n",
       "\n",
       "    .dataframe tbody tr th {\n",
       "        vertical-align: top;\n",
       "    }\n",
       "\n",
       "    .dataframe thead th {\n",
       "        text-align: right;\n",
       "    }\n",
       "</style>\n",
       "<table border=\"1\" class=\"dataframe\">\n",
       "  <thead>\n",
       "    <tr style=\"text-align: right;\">\n",
       "      <th></th>\n",
       "      <th>SEX</th>\n",
       "      <th>EDUC</th>\n",
       "      <th>MARISTAT</th>\n",
       "      <th>INDEPEND</th>\n",
       "      <th>RESIDENC</th>\n",
       "      <th>...</th>\n",
       "      <th>1</th>\n",
       "      <th>2</th>\n",
       "      <th>3</th>\n",
       "      <th>4</th>\n",
       "      <th>5</th>\n",
       "    </tr>\n",
       "  </thead>\n",
       "  <tbody>\n",
       "    <tr>\n",
       "      <th>0</th>\n",
       "      <td>2</td>\n",
       "      <td>18</td>\n",
       "      <td>1</td>\n",
       "      <td>1</td>\n",
       "      <td>1</td>\n",
       "      <td>...</td>\n",
       "      <td>0.0</td>\n",
       "      <td>1.0</td>\n",
       "      <td>0.0</td>\n",
       "      <td>0.0</td>\n",
       "      <td>0.0</td>\n",
       "    </tr>\n",
       "    <tr>\n",
       "      <th>1</th>\n",
       "      <td>1</td>\n",
       "      <td>11</td>\n",
       "      <td>1</td>\n",
       "      <td>1</td>\n",
       "      <td>1</td>\n",
       "      <td>...</td>\n",
       "      <td>0.0</td>\n",
       "      <td>0.0</td>\n",
       "      <td>0.0</td>\n",
       "      <td>0.0</td>\n",
       "      <td>0.0</td>\n",
       "    </tr>\n",
       "    <tr>\n",
       "      <th>2</th>\n",
       "      <td>2</td>\n",
       "      <td>16</td>\n",
       "      <td>1</td>\n",
       "      <td>1</td>\n",
       "      <td>1</td>\n",
       "      <td>...</td>\n",
       "      <td>0.0</td>\n",
       "      <td>0.0</td>\n",
       "      <td>0.0</td>\n",
       "      <td>0.0</td>\n",
       "      <td>0.0</td>\n",
       "    </tr>\n",
       "    <tr>\n",
       "      <th>3</th>\n",
       "      <td>1</td>\n",
       "      <td>14</td>\n",
       "      <td>1</td>\n",
       "      <td>1</td>\n",
       "      <td>1</td>\n",
       "      <td>...</td>\n",
       "      <td>0.0</td>\n",
       "      <td>0.0</td>\n",
       "      <td>0.0</td>\n",
       "      <td>0.0</td>\n",
       "      <td>0.0</td>\n",
       "    </tr>\n",
       "    <tr>\n",
       "      <th>4</th>\n",
       "      <td>1</td>\n",
       "      <td>16</td>\n",
       "      <td>1</td>\n",
       "      <td>1</td>\n",
       "      <td>2</td>\n",
       "      <td>...</td>\n",
       "      <td>0.0</td>\n",
       "      <td>0.0</td>\n",
       "      <td>0.0</td>\n",
       "      <td>0.0</td>\n",
       "      <td>0.0</td>\n",
       "    </tr>\n",
       "    <tr>\n",
       "      <th>...</th>\n",
       "      <td>...</td>\n",
       "      <td>...</td>\n",
       "      <td>...</td>\n",
       "      <td>...</td>\n",
       "      <td>...</td>\n",
       "      <td>...</td>\n",
       "      <td>...</td>\n",
       "      <td>...</td>\n",
       "      <td>...</td>\n",
       "      <td>...</td>\n",
       "      <td>...</td>\n",
       "    </tr>\n",
       "    <tr>\n",
       "      <th>1349</th>\n",
       "      <td>1</td>\n",
       "      <td>20</td>\n",
       "      <td>1</td>\n",
       "      <td>1</td>\n",
       "      <td>1</td>\n",
       "      <td>...</td>\n",
       "      <td>0.0</td>\n",
       "      <td>0.0</td>\n",
       "      <td>0.0</td>\n",
       "      <td>0.0</td>\n",
       "      <td>0.0</td>\n",
       "    </tr>\n",
       "    <tr>\n",
       "      <th>1350</th>\n",
       "      <td>1</td>\n",
       "      <td>16</td>\n",
       "      <td>1</td>\n",
       "      <td>2</td>\n",
       "      <td>1</td>\n",
       "      <td>...</td>\n",
       "      <td>0.0</td>\n",
       "      <td>0.0</td>\n",
       "      <td>0.0</td>\n",
       "      <td>0.0</td>\n",
       "      <td>0.0</td>\n",
       "    </tr>\n",
       "    <tr>\n",
       "      <th>1351</th>\n",
       "      <td>2</td>\n",
       "      <td>14</td>\n",
       "      <td>2</td>\n",
       "      <td>1</td>\n",
       "      <td>1</td>\n",
       "      <td>...</td>\n",
       "      <td>0.0</td>\n",
       "      <td>0.0</td>\n",
       "      <td>0.0</td>\n",
       "      <td>0.0</td>\n",
       "      <td>0.0</td>\n",
       "    </tr>\n",
       "    <tr>\n",
       "      <th>1352</th>\n",
       "      <td>2</td>\n",
       "      <td>20</td>\n",
       "      <td>3</td>\n",
       "      <td>1</td>\n",
       "      <td>1</td>\n",
       "      <td>...</td>\n",
       "      <td>0.0</td>\n",
       "      <td>0.0</td>\n",
       "      <td>0.0</td>\n",
       "      <td>0.0</td>\n",
       "      <td>0.0</td>\n",
       "    </tr>\n",
       "    <tr>\n",
       "      <th>1353</th>\n",
       "      <td>2</td>\n",
       "      <td>14</td>\n",
       "      <td>1</td>\n",
       "      <td>1</td>\n",
       "      <td>1</td>\n",
       "      <td>...</td>\n",
       "      <td>0.0</td>\n",
       "      <td>0.0</td>\n",
       "      <td>1.0</td>\n",
       "      <td>0.0</td>\n",
       "      <td>0.0</td>\n",
       "    </tr>\n",
       "  </tbody>\n",
       "</table>\n",
       "<p>1354 rows × 192 columns</p>\n",
       "</div>"
      ],
      "text/plain": [
       "      SEX  \\\n",
       "0       2   \n",
       "1       1   \n",
       "2       2   \n",
       "3       1   \n",
       "4       1   \n",
       "...   ...   \n",
       "1349    1   \n",
       "1350    1   \n",
       "1351    2   \n",
       "1352    2   \n",
       "1353    2   \n",
       "\n",
       "      EDUC  \\\n",
       "0       18   \n",
       "1       11   \n",
       "2       16   \n",
       "3       14   \n",
       "4       16   \n",
       "...    ...   \n",
       "1349    20   \n",
       "1350    16   \n",
       "1351    14   \n",
       "1352    20   \n",
       "1353    14   \n",
       "\n",
       "      MARISTAT  \\\n",
       "0            1   \n",
       "1            1   \n",
       "2            1   \n",
       "3            1   \n",
       "4            1   \n",
       "...        ...   \n",
       "1349         1   \n",
       "1350         1   \n",
       "1351         2   \n",
       "1352         3   \n",
       "1353         1   \n",
       "\n",
       "      INDEPEND  \\\n",
       "0            1   \n",
       "1            1   \n",
       "2            1   \n",
       "3            1   \n",
       "4            1   \n",
       "...        ...   \n",
       "1349         1   \n",
       "1350         2   \n",
       "1351         1   \n",
       "1352         1   \n",
       "1353         1   \n",
       "\n",
       "      RESIDENC  \\\n",
       "0            1   \n",
       "1            1   \n",
       "2            1   \n",
       "3            1   \n",
       "4            2   \n",
       "...        ...   \n",
       "1349         1   \n",
       "1350         1   \n",
       "1351         1   \n",
       "1352         1   \n",
       "1353         1   \n",
       "\n",
       "      ...  \\\n",
       "0     ...   \n",
       "1     ...   \n",
       "2     ...   \n",
       "3     ...   \n",
       "4     ...   \n",
       "...   ...   \n",
       "1349  ...   \n",
       "1350  ...   \n",
       "1351  ...   \n",
       "1352  ...   \n",
       "1353  ...   \n",
       "\n",
       "        1  \\\n",
       "0     0.0   \n",
       "1     0.0   \n",
       "2     0.0   \n",
       "3     0.0   \n",
       "4     0.0   \n",
       "...   ...   \n",
       "1349  0.0   \n",
       "1350  0.0   \n",
       "1351  0.0   \n",
       "1352  0.0   \n",
       "1353  0.0   \n",
       "\n",
       "        2  \\\n",
       "0     1.0   \n",
       "1     0.0   \n",
       "2     0.0   \n",
       "3     0.0   \n",
       "4     0.0   \n",
       "...   ...   \n",
       "1349  0.0   \n",
       "1350  0.0   \n",
       "1351  0.0   \n",
       "1352  0.0   \n",
       "1353  0.0   \n",
       "\n",
       "        3  \\\n",
       "0     0.0   \n",
       "1     0.0   \n",
       "2     0.0   \n",
       "3     0.0   \n",
       "4     0.0   \n",
       "...   ...   \n",
       "1349  0.0   \n",
       "1350  0.0   \n",
       "1351  0.0   \n",
       "1352  0.0   \n",
       "1353  1.0   \n",
       "\n",
       "        4  \\\n",
       "0     0.0   \n",
       "1     0.0   \n",
       "2     0.0   \n",
       "3     0.0   \n",
       "4     0.0   \n",
       "...   ...   \n",
       "1349  0.0   \n",
       "1350  0.0   \n",
       "1351  0.0   \n",
       "1352  0.0   \n",
       "1353  0.0   \n",
       "\n",
       "        5  \n",
       "0     0.0  \n",
       "1     0.0  \n",
       "2     0.0  \n",
       "3     0.0  \n",
       "4     0.0  \n",
       "...   ...  \n",
       "1349  0.0  \n",
       "1350  0.0  \n",
       "1351  0.0  \n",
       "1352  0.0  \n",
       "1353  0.0  \n",
       "\n",
       "[1354 rows x 192 columns]"
      ]
     },
     "execution_count": 8,
     "metadata": {},
     "output_type": "execute_result"
    }
   ],
   "source": [
    "data_encoded.loc[:,'NACCICV':'RTRTEMM']=data_encoded.loc[:,'NACCICV':'RTRTEMM'].div(data_encoded['NACCBRNV'], axis=0)\n",
    "data_encoded"
   ]
  },
  {
   "cell_type": "markdown",
   "metadata": {
    "id": "-ijFL1p9Op8Q"
   },
   "source": [
    ">**TASK-7D: After the normalization process, please provide a correlation matrix to report the critical features that have high correlation (positive or negative) with the target array (CDRGLOB).**"
   ]
  },
  {
   "cell_type": "code",
   "execution_count": 9,
   "metadata": {
    "colab": {
     "base_uri": "https://localhost:8080/",
     "height": 1000
    },
    "id": "mlazFb8WOgFA",
    "outputId": "cda435e4-51a3-4d17-a699-ca188d4de87c"
   },
   "outputs": [
    {
     "data": {
      "text/html": [
       "<div>\n",
       "<style scoped>\n",
       "    .dataframe tbody tr th:only-of-type {\n",
       "        vertical-align: middle;\n",
       "    }\n",
       "\n",
       "    .dataframe tbody tr th {\n",
       "        vertical-align: top;\n",
       "    }\n",
       "\n",
       "    .dataframe thead th {\n",
       "        text-align: right;\n",
       "    }\n",
       "</style>\n",
       "<table border=\"1\" class=\"dataframe\">\n",
       "  <thead>\n",
       "    <tr style=\"text-align: right;\">\n",
       "      <th></th>\n",
       "      <th>SEX</th>\n",
       "      <th>EDUC</th>\n",
       "      <th>MARISTAT</th>\n",
       "      <th>INDEPEND</th>\n",
       "      <th>RESIDENC</th>\n",
       "      <th>...</th>\n",
       "      <th>1</th>\n",
       "      <th>2</th>\n",
       "      <th>3</th>\n",
       "      <th>4</th>\n",
       "      <th>5</th>\n",
       "    </tr>\n",
       "  </thead>\n",
       "  <tbody>\n",
       "    <tr>\n",
       "      <th>SEX</th>\n",
       "      <td>1.000000</td>\n",
       "      <td>-0.129742</td>\n",
       "      <td>0.244620</td>\n",
       "      <td>-0.098873</td>\n",
       "      <td>0.054726</td>\n",
       "      <td>...</td>\n",
       "      <td>-0.007900</td>\n",
       "      <td>0.050068</td>\n",
       "      <td>-0.054363</td>\n",
       "      <td>-0.043060</td>\n",
       "      <td>0.033144</td>\n",
       "    </tr>\n",
       "    <tr>\n",
       "      <th>EDUC</th>\n",
       "      <td>-0.129742</td>\n",
       "      <td>1.000000</td>\n",
       "      <td>-0.021607</td>\n",
       "      <td>-0.108642</td>\n",
       "      <td>-0.030139</td>\n",
       "      <td>...</td>\n",
       "      <td>-0.007370</td>\n",
       "      <td>-0.012938</td>\n",
       "      <td>0.048943</td>\n",
       "      <td>-0.010509</td>\n",
       "      <td>0.008736</td>\n",
       "    </tr>\n",
       "    <tr>\n",
       "      <th>MARISTAT</th>\n",
       "      <td>0.244620</td>\n",
       "      <td>-0.021607</td>\n",
       "      <td>1.000000</td>\n",
       "      <td>-0.099897</td>\n",
       "      <td>0.101406</td>\n",
       "      <td>...</td>\n",
       "      <td>-0.005670</td>\n",
       "      <td>0.057612</td>\n",
       "      <td>-0.064449</td>\n",
       "      <td>-0.009965</td>\n",
       "      <td>0.011549</td>\n",
       "    </tr>\n",
       "    <tr>\n",
       "      <th>INDEPEND</th>\n",
       "      <td>-0.098873</td>\n",
       "      <td>-0.108642</td>\n",
       "      <td>-0.099897</td>\n",
       "      <td>1.000000</td>\n",
       "      <td>0.115258</td>\n",
       "      <td>...</td>\n",
       "      <td>0.092268</td>\n",
       "      <td>-0.091942</td>\n",
       "      <td>0.118297</td>\n",
       "      <td>0.009882</td>\n",
       "      <td>-0.020320</td>\n",
       "    </tr>\n",
       "    <tr>\n",
       "      <th>RESIDENC</th>\n",
       "      <td>0.054726</td>\n",
       "      <td>-0.030139</td>\n",
       "      <td>0.101406</td>\n",
       "      <td>0.115258</td>\n",
       "      <td>1.000000</td>\n",
       "      <td>...</td>\n",
       "      <td>-0.023711</td>\n",
       "      <td>0.031099</td>\n",
       "      <td>-0.048752</td>\n",
       "      <td>-0.024136</td>\n",
       "      <td>-0.012064</td>\n",
       "    </tr>\n",
       "    <tr>\n",
       "      <th>...</th>\n",
       "      <td>...</td>\n",
       "      <td>...</td>\n",
       "      <td>...</td>\n",
       "      <td>...</td>\n",
       "      <td>...</td>\n",
       "      <td>...</td>\n",
       "      <td>...</td>\n",
       "      <td>...</td>\n",
       "      <td>...</td>\n",
       "      <td>...</td>\n",
       "      <td>...</td>\n",
       "    </tr>\n",
       "    <tr>\n",
       "      <th>1</th>\n",
       "      <td>-0.007900</td>\n",
       "      <td>-0.007370</td>\n",
       "      <td>-0.005670</td>\n",
       "      <td>0.092268</td>\n",
       "      <td>-0.023711</td>\n",
       "      <td>...</td>\n",
       "      <td>1.000000</td>\n",
       "      <td>-0.209707</td>\n",
       "      <td>-0.175417</td>\n",
       "      <td>-0.107437</td>\n",
       "      <td>-0.025747</td>\n",
       "    </tr>\n",
       "    <tr>\n",
       "      <th>2</th>\n",
       "      <td>0.050068</td>\n",
       "      <td>-0.012938</td>\n",
       "      <td>0.057612</td>\n",
       "      <td>-0.091942</td>\n",
       "      <td>0.031099</td>\n",
       "      <td>...</td>\n",
       "      <td>-0.209707</td>\n",
       "      <td>1.000000</td>\n",
       "      <td>-0.082089</td>\n",
       "      <td>-0.050276</td>\n",
       "      <td>-0.012049</td>\n",
       "    </tr>\n",
       "    <tr>\n",
       "      <th>3</th>\n",
       "      <td>-0.054363</td>\n",
       "      <td>0.048943</td>\n",
       "      <td>-0.064449</td>\n",
       "      <td>0.118297</td>\n",
       "      <td>-0.048752</td>\n",
       "      <td>...</td>\n",
       "      <td>-0.175417</td>\n",
       "      <td>-0.082089</td>\n",
       "      <td>1.000000</td>\n",
       "      <td>-0.042056</td>\n",
       "      <td>-0.010079</td>\n",
       "    </tr>\n",
       "    <tr>\n",
       "      <th>4</th>\n",
       "      <td>-0.043060</td>\n",
       "      <td>-0.010509</td>\n",
       "      <td>-0.009965</td>\n",
       "      <td>0.009882</td>\n",
       "      <td>-0.024136</td>\n",
       "      <td>...</td>\n",
       "      <td>-0.107437</td>\n",
       "      <td>-0.050276</td>\n",
       "      <td>-0.042056</td>\n",
       "      <td>1.000000</td>\n",
       "      <td>-0.006173</td>\n",
       "    </tr>\n",
       "    <tr>\n",
       "      <th>5</th>\n",
       "      <td>0.033144</td>\n",
       "      <td>0.008736</td>\n",
       "      <td>0.011549</td>\n",
       "      <td>-0.020320</td>\n",
       "      <td>-0.012064</td>\n",
       "      <td>...</td>\n",
       "      <td>-0.025747</td>\n",
       "      <td>-0.012049</td>\n",
       "      <td>-0.010079</td>\n",
       "      <td>-0.006173</td>\n",
       "      <td>1.000000</td>\n",
       "    </tr>\n",
       "  </tbody>\n",
       "</table>\n",
       "<p>192 rows × 192 columns</p>\n",
       "</div>"
      ],
      "text/plain": [
       "               SEX  \\\n",
       "SEX       1.000000   \n",
       "EDUC     -0.129742   \n",
       "MARISTAT  0.244620   \n",
       "INDEPEND -0.098873   \n",
       "RESIDENC  0.054726   \n",
       "...            ...   \n",
       "1        -0.007900   \n",
       "2         0.050068   \n",
       "3        -0.054363   \n",
       "4        -0.043060   \n",
       "5         0.033144   \n",
       "\n",
       "              EDUC  \\\n",
       "SEX      -0.129742   \n",
       "EDUC      1.000000   \n",
       "MARISTAT -0.021607   \n",
       "INDEPEND -0.108642   \n",
       "RESIDENC -0.030139   \n",
       "...            ...   \n",
       "1        -0.007370   \n",
       "2        -0.012938   \n",
       "3         0.048943   \n",
       "4        -0.010509   \n",
       "5         0.008736   \n",
       "\n",
       "          MARISTAT  \\\n",
       "SEX       0.244620   \n",
       "EDUC     -0.021607   \n",
       "MARISTAT  1.000000   \n",
       "INDEPEND -0.099897   \n",
       "RESIDENC  0.101406   \n",
       "...            ...   \n",
       "1        -0.005670   \n",
       "2         0.057612   \n",
       "3        -0.064449   \n",
       "4        -0.009965   \n",
       "5         0.011549   \n",
       "\n",
       "          INDEPEND  \\\n",
       "SEX      -0.098873   \n",
       "EDUC     -0.108642   \n",
       "MARISTAT -0.099897   \n",
       "INDEPEND  1.000000   \n",
       "RESIDENC  0.115258   \n",
       "...            ...   \n",
       "1         0.092268   \n",
       "2        -0.091942   \n",
       "3         0.118297   \n",
       "4         0.009882   \n",
       "5        -0.020320   \n",
       "\n",
       "          RESIDENC  \\\n",
       "SEX       0.054726   \n",
       "EDUC     -0.030139   \n",
       "MARISTAT  0.101406   \n",
       "INDEPEND  0.115258   \n",
       "RESIDENC  1.000000   \n",
       "...            ...   \n",
       "1        -0.023711   \n",
       "2         0.031099   \n",
       "3        -0.048752   \n",
       "4        -0.024136   \n",
       "5        -0.012064   \n",
       "\n",
       "          ...  \\\n",
       "SEX       ...   \n",
       "EDUC      ...   \n",
       "MARISTAT  ...   \n",
       "INDEPEND  ...   \n",
       "RESIDENC  ...   \n",
       "...       ...   \n",
       "1         ...   \n",
       "2         ...   \n",
       "3         ...   \n",
       "4         ...   \n",
       "5         ...   \n",
       "\n",
       "                 1  \\\n",
       "SEX      -0.007900   \n",
       "EDUC     -0.007370   \n",
       "MARISTAT -0.005670   \n",
       "INDEPEND  0.092268   \n",
       "RESIDENC -0.023711   \n",
       "...            ...   \n",
       "1         1.000000   \n",
       "2        -0.209707   \n",
       "3        -0.175417   \n",
       "4        -0.107437   \n",
       "5        -0.025747   \n",
       "\n",
       "                 2  \\\n",
       "SEX       0.050068   \n",
       "EDUC     -0.012938   \n",
       "MARISTAT  0.057612   \n",
       "INDEPEND -0.091942   \n",
       "RESIDENC  0.031099   \n",
       "...            ...   \n",
       "1        -0.209707   \n",
       "2         1.000000   \n",
       "3        -0.082089   \n",
       "4        -0.050276   \n",
       "5        -0.012049   \n",
       "\n",
       "                 3  \\\n",
       "SEX      -0.054363   \n",
       "EDUC      0.048943   \n",
       "MARISTAT -0.064449   \n",
       "INDEPEND  0.118297   \n",
       "RESIDENC -0.048752   \n",
       "...            ...   \n",
       "1        -0.175417   \n",
       "2        -0.082089   \n",
       "3         1.000000   \n",
       "4        -0.042056   \n",
       "5        -0.010079   \n",
       "\n",
       "                 4  \\\n",
       "SEX      -0.043060   \n",
       "EDUC     -0.010509   \n",
       "MARISTAT -0.009965   \n",
       "INDEPEND  0.009882   \n",
       "RESIDENC -0.024136   \n",
       "...            ...   \n",
       "1        -0.107437   \n",
       "2        -0.050276   \n",
       "3        -0.042056   \n",
       "4         1.000000   \n",
       "5        -0.006173   \n",
       "\n",
       "                 5  \n",
       "SEX       0.033144  \n",
       "EDUC      0.008736  \n",
       "MARISTAT  0.011549  \n",
       "INDEPEND -0.020320  \n",
       "RESIDENC -0.012064  \n",
       "...            ...  \n",
       "1        -0.025747  \n",
       "2        -0.012049  \n",
       "3        -0.010079  \n",
       "4        -0.006173  \n",
       "5         1.000000  \n",
       "\n",
       "[192 rows x 192 columns]"
      ]
     },
     "execution_count": 9,
     "metadata": {},
     "output_type": "execute_result"
    }
   ],
   "source": [
    "data_encoded_corr=data_encoded.corr()\n",
    "data_encoded_corr"
   ]
  },
  {
   "cell_type": "code",
   "execution_count": 10,
   "metadata": {
    "colab": {
     "base_uri": "https://localhost:8080/"
    },
    "id": "u6DUvsfadTUn",
    "outputId": "94236501-7099-453f-c543-2b9b4c8161b8"
   },
   "outputs": [
    {
     "data": {
      "text/plain": [
       "INDEPEND    True\n",
       "CDRGLOB     True\n",
       "APA         True\n",
       "NACCMMSE    True\n",
       "NACCICV     True\n",
       "CSFVOL      True\n",
       "CERECSF     True\n",
       "LLATVENT    True\n",
       "RLATVENT    True\n",
       "Name: CDRGLOB, dtype: bool"
      ]
     },
     "execution_count": 10,
     "metadata": {},
     "output_type": "execute_result"
    }
   ],
   "source": [
    "data_encoded_corr_cdrglobclm=data_encoded_corr.loc['CDRGLOB'].abs()>0.4\n",
    "data_encoded_corr_cdrglobclm[data_encoded_corr_cdrglobclm==True]"
   ]
  },
  {
   "cell_type": "code",
   "execution_count": 11,
   "metadata": {
    "colab": {
     "base_uri": "https://localhost:8080/"
    },
    "id": "x0v3Bg9Gidmr",
    "outputId": "1b1480c2-1cf3-4741-f949-2255b5b09016"
   },
   "outputs": [
    {
     "data": {
      "text/plain": [
       "INDEPEND    0.693881\n",
       "CDRGLOB     1.000000\n",
       "APA         0.448558\n",
       "NACCMMSE   -0.746660\n",
       "NACCICV     0.429561\n",
       "CSFVOL      0.408708\n",
       "CERECSF     0.420518\n",
       "LLATVENT    0.443272\n",
       "RLATVENT    0.435256\n",
       "Name: CDRGLOB, dtype: float64"
      ]
     },
     "execution_count": 11,
     "metadata": {},
     "output_type": "execute_result"
    }
   ],
   "source": [
    "data_crr_b4=data_encoded_corr[data_encoded_corr.loc['CDRGLOB'].abs()>0.4]['CDRGLOB']\n",
    "data_crr_b4"
   ]
  },
  {
   "cell_type": "markdown",
   "metadata": {
    "id": "kZqsws1xj-kI"
   },
   "source": [
    ">**TASK-7E: Please develop 3 distinct formulas (in other words derived features like BMI score) that involve the critical features in Part-7D and then ensure that these derived features could be used as predictive variables for CDRGLOB (again correlation analysis will give you insight).**"
   ]
  },
  {
   "cell_type": "code",
   "execution_count": 12,
   "metadata": {
    "id": "PqQ7n4Imj96c"
   },
   "outputs": [],
   "source": [
    "def f1(x,z):\n",
    "  return x*z\n",
    "\n",
    "def f2(x,y,z,k):\n",
    "  return (k*y)+(z+x)\n",
    "\n",
    "def f3(x,y):\n",
    "  return (2*x)*(1/y)"
   ]
  },
  {
   "cell_type": "code",
   "execution_count": 13,
   "metadata": {
    "id": "pOMIDrjjmem2"
   },
   "outputs": [],
   "source": [
    "f1_data=f1(data_encoded['APA'],data_encoded['CSFVOL'])"
   ]
  },
  {
   "cell_type": "code",
   "execution_count": 14,
   "metadata": {
    "id": "qSPPBR6GoK47"
   },
   "outputs": [],
   "source": [
    "f2_data=f2(data_encoded['RLATVENT'],data_encoded['CERECSF'],data_encoded['LLATVENT'],data_encoded['INDEPEND'])"
   ]
  },
  {
   "cell_type": "code",
   "execution_count": 15,
   "metadata": {
    "id": "rcuVQ1PLptMq"
   },
   "outputs": [],
   "source": [
    "f3_data=f3(data_encoded['NACCICV'],data_encoded['NACCMMSE'])"
   ]
  },
  {
   "cell_type": "code",
   "execution_count": 16,
   "metadata": {
    "id": "mh1sDo2jrRTW"
   },
   "outputs": [],
   "source": [
    "f1_data_norm= (f1_data - f1_data.min()) / (f1_data.max() - f1_data.min())\n",
    "f2_data_norm= (f2_data - f2_data.min()) / (f2_data.max() - f2_data.min())\n",
    "f3_data_norm= (f3_data - f3_data.min()) / (f3_data.max() - f3_data.min())"
   ]
  },
  {
   "cell_type": "code",
   "execution_count": 17,
   "metadata": {
    "id": "Uq_rWF-itQKV"
   },
   "outputs": [],
   "source": [
    "data_w3_glb=pd.DataFrame((f1_data_norm,f2_data_norm,f3_data_norm,data_encoded[\"CDRGLOB\"])).T\n",
    "data_w3_glb.rename(columns={'Unnamed 0': 'F1', 'Unnamed 1': 'F2','Unnamed 2': 'F3'}, inplace=True)"
   ]
  },
  {
   "cell_type": "code",
   "execution_count": 18,
   "metadata": {
    "colab": {
     "base_uri": "https://localhost:8080/"
    },
    "id": "cgsr8xDluaGv",
    "outputId": "ad8982f5-09d2-4ee9-b786-2b3cde3ecaf0"
   },
   "outputs": [
    {
     "data": {
      "text/plain": [
       "F1         0.469864\n",
       "F2         0.701780\n",
       "F3         0.670099\n",
       "CDRGLOB    1.000000\n",
       "Name: CDRGLOB, dtype: float64"
      ]
     },
     "execution_count": 18,
     "metadata": {},
     "output_type": "execute_result"
    }
   ],
   "source": [
    "data_w3_glb.corr()['CDRGLOB']"
   ]
  },
  {
   "cell_type": "code",
   "execution_count": 19,
   "metadata": {
    "colab": {
     "base_uri": "https://localhost:8080/",
     "height": 175
    },
    "id": "l231xSroz0ci",
    "outputId": "f41cb2c4-4c4c-432b-cce7-3dac3bf0308c",
    "scrolled": true
   },
   "outputs": [
    {
     "data": {
      "text/html": [
       "<div>\n",
       "<style scoped>\n",
       "    .dataframe tbody tr th:only-of-type {\n",
       "        vertical-align: middle;\n",
       "    }\n",
       "\n",
       "    .dataframe tbody tr th {\n",
       "        vertical-align: top;\n",
       "    }\n",
       "\n",
       "    .dataframe thead th {\n",
       "        text-align: right;\n",
       "    }\n",
       "</style>\n",
       "<table border=\"1\" class=\"dataframe\">\n",
       "  <thead>\n",
       "    <tr style=\"text-align: right;\">\n",
       "      <th></th>\n",
       "      <th>F1</th>\n",
       "      <th>F2</th>\n",
       "      <th>F3</th>\n",
       "      <th>CDRGLOB</th>\n",
       "    </tr>\n",
       "  </thead>\n",
       "  <tbody>\n",
       "    <tr>\n",
       "      <th>F1</th>\n",
       "      <td>1.000000</td>\n",
       "      <td>0.469020</td>\n",
       "      <td>0.402908</td>\n",
       "      <td>0.469864</td>\n",
       "    </tr>\n",
       "    <tr>\n",
       "      <th>F2</th>\n",
       "      <td>0.469020</td>\n",
       "      <td>1.000000</td>\n",
       "      <td>0.666418</td>\n",
       "      <td>0.701780</td>\n",
       "    </tr>\n",
       "    <tr>\n",
       "      <th>F3</th>\n",
       "      <td>0.402908</td>\n",
       "      <td>0.666418</td>\n",
       "      <td>1.000000</td>\n",
       "      <td>0.670099</td>\n",
       "    </tr>\n",
       "    <tr>\n",
       "      <th>CDRGLOB</th>\n",
       "      <td>0.469864</td>\n",
       "      <td>0.701780</td>\n",
       "      <td>0.670099</td>\n",
       "      <td>1.000000</td>\n",
       "    </tr>\n",
       "  </tbody>\n",
       "</table>\n",
       "</div>"
      ],
      "text/plain": [
       "               F1  \\\n",
       "F1       1.000000   \n",
       "F2       0.469020   \n",
       "F3       0.402908   \n",
       "CDRGLOB  0.469864   \n",
       "\n",
       "               F2  \\\n",
       "F1       0.469020   \n",
       "F2       1.000000   \n",
       "F3       0.666418   \n",
       "CDRGLOB  0.701780   \n",
       "\n",
       "               F3  \\\n",
       "F1       0.402908   \n",
       "F2       0.666418   \n",
       "F3       1.000000   \n",
       "CDRGLOB  0.670099   \n",
       "\n",
       "          CDRGLOB  \n",
       "F1       0.469864  \n",
       "F2       0.701780  \n",
       "F3       0.670099  \n",
       "CDRGLOB  1.000000  "
      ]
     },
     "execution_count": 19,
     "metadata": {},
     "output_type": "execute_result"
    }
   ],
   "source": [
    "data_w3_glb.corr()"
   ]
  },
  {
   "cell_type": "code",
   "execution_count": 20,
   "metadata": {},
   "outputs": [
    {
     "data": {
      "image/png": "[encoded data removed]",
      "text/plain": [
       "<Figure size 432x288 with 2 Axes>"
      ]
     },
     "metadata": {
      "needs_background": "light"
     },
     "output_type": "display_data"
    }
   ],
   "source": [
    "ax=sns.heatmap(data_w3_glb.corr(),annot=True,fmt=\".3f\",linewidth=.5)\n",
    "ax.xaxis.tick_top()"
   ]
  },
  {
   "cell_type": "markdown",
   "metadata": {
    "id": "5Q_oLXJjx6rM"
   },
   "source": [
    ">**TASK-7F: Then please develop a machine learning model with the 3 derived features that you obtain in 7E via the use of train-test split (be careful about stratify parameter in this function) and gridsearchCV function as well as a classification algorithm (such as Gaussian Naive Bayes) but please do not forget to optimize its hyperparameters. Finally, please report your findings via the use of classification report function (also a sklearn function).**"
   ]
  },
  {
   "cell_type": "raw",
   "metadata": {},
   "source": [
    "# Öncelikle verileri X ve Y olarak ayırmamız gerekiyor."
   ]
  },
  {
   "cell_type": "code",
   "execution_count": 21,
   "metadata": {},
   "outputs": [],
   "source": [
    "X=data_w3_glb.loc[:,'F1':'F3']\n",
    "Y=data_w3_glb['CDRGLOB']"
   ]
  },
  {
   "cell_type": "markdown",
   "metadata": {},
   "source": [
    "Veriyi Train ve Test olarak ayırmamız gerekiyor."
   ]
  },
  {
   "cell_type": "code",
   "execution_count": 22,
   "metadata": {},
   "outputs": [],
   "source": [
    "from sklearn.model_selection import train_test_split\n",
    "X1, X2, y1, y2 = train_test_split(X, Y,train_size=0.70,stratify=Y)"
   ]
  },
  {
   "cell_type": "markdown",
   "metadata": {},
   "source": [
    "1.a) Gaussian Naive Bayes Classifier Kullanırsak:"
   ]
  },
  {
   "cell_type": "code",
   "execution_count": 23,
   "metadata": {},
   "outputs": [],
   "source": [
    "from sklearn.naive_bayes import GaussianNB\n",
    "from sklearn.metrics import accuracy_score\n",
    "from sklearn.metrics import classification_report\n",
    "from sklearn.model_selection import cross_val_score\n",
    "model=GaussianNB()"
   ]
  },
  {
   "cell_type": "markdown",
   "metadata": {},
   "source": [
    "#Cross-Validation yöntemiyle çalıştırıca Gaussian Naive Bayes'i bu nedenle CV değerini de bulmaya çalışıcaz."
   ]
  },
  {
   "cell_type": "code",
   "execution_count": 24,
   "metadata": {},
   "outputs": [],
   "source": [
    "from sklearn.model_selection import GridSearchCV\n",
    "vr_smth=[]\n",
    "for i in range(0,21):\n",
    "    a=10**(-i)\n",
    "    vr_smth.append(a)\n",
    "\n",
    "param_grid = {'var_smoothing':vr_smth}\n",
    "grid = GridSearchCV(model, param_grid, cv=3)"
   ]
  },
  {
   "cell_type": "code",
   "execution_count": 25,
   "metadata": {},
   "outputs": [
    {
     "data": {
      "text/plain": [
       "GridSearchCV(cv=3, estimator=GaussianNB(),\n",
       "             param_grid={'var_smoothing': [1, 0.1, 0.01, 0.001, 0.0001, 1e-05,\n",
       "                                           1e-06, 1e-07, 1e-08, 1e-09, 1e-10,\n",
       "                                           1e-11, 1e-12, 1e-13, 1e-14, 1e-15,\n",
       "                                           1e-16, 1e-17, 1e-18, 1e-19, 1e-20]})"
      ]
     },
     "execution_count": 25,
     "metadata": {},
     "output_type": "execute_result"
    }
   ],
   "source": [
    "grid.fit(X1, y1)"
   ]
  },
  {
   "cell_type": "code",
   "execution_count": 26,
   "metadata": {},
   "outputs": [
    {
     "data": {
      "text/plain": [
       "{'var_smoothing': 0.0001}"
      ]
     },
     "execution_count": 26,
     "metadata": {},
     "output_type": "execute_result"
    }
   ],
   "source": [
    "grid.best_params_"
   ]
  },
  {
   "cell_type": "code",
   "execution_count": 27,
   "metadata": {},
   "outputs": [
    {
     "data": {
      "text/plain": [
       "0.7085794655414909"
      ]
     },
     "execution_count": 27,
     "metadata": {},
     "output_type": "execute_result"
    }
   ],
   "source": [
    "%matplotlib inline\n",
    "import matplotlib.pyplot as plt\n",
    "import seaborn; seaborn.set()  # plot formatting\n",
    "from sklearn.metrics import accuracy_score\n",
    "model = grid.best_estimator_\n",
    "y2_pred = model.fit(X1, y1).predict(X2)\n",
    "score=cross_val_score(model, X1, y1, cv=3)\n",
    "score.mean()"
   ]
  },
  {
   "cell_type": "code",
   "execution_count": 28,
   "metadata": {},
   "outputs": [
    {
     "data": {
      "text/plain": [
       "0.7002457002457002"
      ]
     },
     "execution_count": 28,
     "metadata": {},
     "output_type": "execute_result"
    }
   ],
   "source": [
    "accuracy_score(y2_pred,y2)"
   ]
  },
  {
   "cell_type": "code",
   "execution_count": 29,
   "metadata": {},
   "outputs": [
    {
     "data": {
      "image/png": "[encoded data removed]",
      "text/plain": [
       "<Figure size 432x288 with 2 Axes>"
      ]
     },
     "metadata": {},
     "output_type": "display_data"
    }
   ],
   "source": [
    "from sklearn.metrics import confusion_matrix\n",
    "mat = confusion_matrix(y2,y2_pred)\n",
    "sns.heatmap(mat, square=True, annot=True,cmap=plt.cm.Blues, cbar=True,fmt=\".1f\",linewidth=.5)\n",
    "plt.xlabel('predicted value')\n",
    "plt.ylabel('true value');"
   ]
  },
  {
   "cell_type": "code",
   "execution_count": 30,
   "metadata": {},
   "outputs": [
    {
     "name": "stdout",
     "output_type": "stream",
     "text": [
      "              precision    recall  f1-score   support\n",
      "\n",
      "     class 0       0.74      0.94      0.83       194\n",
      "     class 1       0.71      0.50      0.59       149\n",
      "     class 2       0.50      0.40      0.44        50\n",
      "    class 3        0.47      0.50      0.48        14\n",
      "\n",
      "    accuracy                           0.70       407\n",
      "   macro avg       0.61      0.59      0.59       407\n",
      "weighted avg       0.69      0.70      0.68       407\n",
      "\n"
     ]
    }
   ],
   "source": [
    "from sklearn.metrics import classification_report\n",
    "target_names = ['class 0', 'class 1', 'class 2','class 3 ']\n",
    "print(classification_report(y2, y2_pred, target_names=target_names))"
   ]
  },
  {
   "cell_type": "markdown",
   "metadata": {},
   "source": [
    "#1.b) KNeighbors Classifier Kullanırsak:"
   ]
  },
  {
   "cell_type": "code",
   "execution_count": 31,
   "metadata": {},
   "outputs": [],
   "source": [
    "from sklearn.neighbors import KNeighborsClassifier\n",
    "from sklearn.metrics import accuracy_score\n",
    "from sklearn.metrics import classification_report\n",
    "model2=KNeighborsClassifier()"
   ]
  },
  {
   "cell_type": "markdown",
   "metadata": {},
   "source": [
    "#Cross-Validation yöntemiyle çalıştırıca KNeighbors Classifier'i bu nedenle CV değerini de bulmaya çalışıcaz."
   ]
  },
  {
   "cell_type": "code",
   "execution_count": 32,
   "metadata": {},
   "outputs": [],
   "source": [
    "from sklearn.model_selection import GridSearchCV\n",
    "\n",
    "param_grid = {'weights':['uniform', 'distance'],\n",
    "              'algorithm':['auto', 'ball_tree','kd_tree','brute'],\n",
    "              'p':[1,2]}\n",
    "grid = GridSearchCV(model2, param_grid, cv=5)"
   ]
  },
  {
   "cell_type": "code",
   "execution_count": 33,
   "metadata": {},
   "outputs": [
    {
     "data": {
      "text/plain": [
       "GridSearchCV(cv=5, estimator=KNeighborsClassifier(),\n",
       "             param_grid={'algorithm': ['auto', 'ball_tree', 'kd_tree', 'brute'],\n",
       "                         'p': [1, 2], 'weights': ['uniform', 'distance']})"
      ]
     },
     "execution_count": 33,
     "metadata": {},
     "output_type": "execute_result"
    }
   ],
   "source": [
    "grid.fit(X1, y1)"
   ]
  },
  {
   "cell_type": "code",
   "execution_count": 34,
   "metadata": {},
   "outputs": [
    {
     "data": {
      "text/plain": [
       "{'algorithm': 'auto', 'p': 1, 'weights': 'uniform'}"
      ]
     },
     "execution_count": 34,
     "metadata": {},
     "output_type": "execute_result"
    }
   ],
   "source": [
    "grid.best_params_"
   ]
  },
  {
   "cell_type": "code",
   "execution_count": 35,
   "metadata": {},
   "outputs": [
    {
     "data": {
      "text/plain": [
       "0.6557832697073204"
      ]
     },
     "execution_count": 35,
     "metadata": {},
     "output_type": "execute_result"
    }
   ],
   "source": [
    "%matplotlib inline\n",
    "import matplotlib.pyplot as plt\n",
    "import seaborn; seaborn.set()  # plot formatting\n",
    "from sklearn.metrics import accuracy_score\n",
    "model2 = grid.best_estimator_\n",
    "y2_pred = model2.fit(X1, y1).predict(X2)\n",
    "score=cross_val_score(model2, X1, y1, cv=3)\n",
    "score.mean()"
   ]
  },
  {
   "cell_type": "code",
   "execution_count": 36,
   "metadata": {},
   "outputs": [
    {
     "data": {
      "text/plain": [
       "0.7002457002457002"
      ]
     },
     "execution_count": 36,
     "metadata": {},
     "output_type": "execute_result"
    }
   ],
   "source": [
    "accuracy_score(y2_pred,y2)"
   ]
  },
  {
   "cell_type": "code",
   "execution_count": 37,
   "metadata": {},
   "outputs": [
    {
     "data": {
      "image/png": "[encoded data removed]",
      "text/plain": [
       "<Figure size 432x288 with 2 Axes>"
      ]
     },
     "metadata": {},
     "output_type": "display_data"
    }
   ],
   "source": [
    "from sklearn.metrics import confusion_matrix\n",
    "mat = confusion_matrix(y2,y2_pred)\n",
    "sns.heatmap(mat, square=True, annot=True, cmap = \"OrRd\",cbar=True,fmt=\".1f\",linewidth=.5)\n",
    "plt.xlabel('predicted value')\n",
    "plt.ylabel('true value');"
   ]
  },
  {
   "cell_type": "code",
   "execution_count": 38,
   "metadata": {},
   "outputs": [
    {
     "name": "stdout",
     "output_type": "stream",
     "text": [
      "              precision    recall  f1-score   support\n",
      "\n",
      "     class 0       0.78      0.85      0.81       194\n",
      "     class 1       0.62      0.64      0.63       149\n",
      "     class 2       0.55      0.42      0.48        50\n",
      "    class 3        0.83      0.36      0.50        14\n",
      "\n",
      "    accuracy                           0.70       407\n",
      "   macro avg       0.70      0.57      0.60       407\n",
      "weighted avg       0.70      0.70      0.69       407\n",
      "\n"
     ]
    }
   ],
   "source": [
    "from sklearn.metrics import classification_report\n",
    "target_names = ['class 0', 'class 1', 'class 2','class 3 ']\n",
    "print(classification_report(y2, y2_pred, target_names=target_names))"
   ]
  },
  {
   "cell_type": "markdown",
   "metadata": {},
   "source": [
    "#1.c)SVM Classifier Kullanırsak:"
   ]
  },
  {
   "cell_type": "code",
   "execution_count": 39,
   "metadata": {},
   "outputs": [],
   "source": [
    "from sklearn.svm import SVC\n",
    "from sklearn.metrics import accuracy_score\n",
    "from sklearn.metrics import classification_report\n",
    "model3=SVC()"
   ]
  },
  {
   "cell_type": "code",
   "execution_count": 40,
   "metadata": {},
   "outputs": [],
   "source": [
    "from sklearn.model_selection import GridSearchCV\n",
    "param_grid = {'kernel':['poly', 'rbf', 'sigmoid'],\n",
    "              'gamma': ['scale', 'auto'],\n",
    "              'shrinking':[True,False]}\n",
    "grid = GridSearchCV(model3, param_grid, cv=3)"
   ]
  },
  {
   "cell_type": "code",
   "execution_count": 41,
   "metadata": {},
   "outputs": [
    {
     "data": {
      "text/plain": [
       "GridSearchCV(cv=3, estimator=SVC(),\n",
       "             param_grid={'gamma': ['scale', 'auto'],\n",
       "                         'kernel': ['poly', 'rbf', 'sigmoid'],\n",
       "                         'shrinking': [True, False]})"
      ]
     },
     "execution_count": 41,
     "metadata": {},
     "output_type": "execute_result"
    }
   ],
   "source": [
    "grid.fit(X1, y1)"
   ]
  },
  {
   "cell_type": "code",
   "execution_count": 42,
   "metadata": {},
   "outputs": [
    {
     "data": {
      "text/plain": [
       "{'gamma': 'scale', 'kernel': 'rbf', 'shrinking': True}"
      ]
     },
     "execution_count": 42,
     "metadata": {},
     "output_type": "execute_result"
    }
   ],
   "source": [
    "grid.best_params_"
   ]
  },
  {
   "cell_type": "code",
   "execution_count": 43,
   "metadata": {},
   "outputs": [
    {
     "data": {
      "text/plain": [
       "0.6884937378608265"
      ]
     },
     "execution_count": 43,
     "metadata": {},
     "output_type": "execute_result"
    }
   ],
   "source": [
    "%matplotlib inline\n",
    "import matplotlib.pyplot as plt\n",
    "import seaborn; seaborn.set()  # plot formatting\n",
    "from sklearn.metrics import accuracy_score\n",
    "model3 = grid.best_estimator_\n",
    "y2_pred = model3.fit(X1, y1).predict(X2)\n",
    "score=cross_val_score(model3, X1, y1, cv=3)\n",
    "score.mean()"
   ]
  },
  {
   "cell_type": "code",
   "execution_count": 44,
   "metadata": {},
   "outputs": [
    {
     "data": {
      "text/plain": [
       "0.7051597051597052"
      ]
     },
     "execution_count": 44,
     "metadata": {},
     "output_type": "execute_result"
    }
   ],
   "source": [
    "accuracy_score(y2_pred,y2)"
   ]
  },
  {
   "cell_type": "code",
   "execution_count": 45,
   "metadata": {},
   "outputs": [
    {
     "data": {
      "image/png": "[encoded data removed]",
      "text/plain": [
       "<Figure size 432x288 with 2 Axes>"
      ]
     },
     "metadata": {},
     "output_type": "display_data"
    }
   ],
   "source": [
    "from sklearn.metrics import confusion_matrix\n",
    "mat = confusion_matrix(y2,y2_pred)\n",
    "sns.heatmap(mat, square=True, annot=True, cmap = \"Greens_r\",cbar=True,fmt=\".1f\",linewidth=.5)\n",
    "plt.xlabel('predicted value')\n",
    "plt.ylabel('true value');"
   ]
  },
  {
   "cell_type": "code",
   "execution_count": 46,
   "metadata": {},
   "outputs": [
    {
     "name": "stdout",
     "output_type": "stream",
     "text": [
      "              precision    recall  f1-score   support\n",
      "\n",
      "     class 0       0.74      0.94      0.83       194\n",
      "     class 1       0.69      0.53      0.60       149\n",
      "     class 2       0.56      0.40      0.47        50\n",
      "    class 3        0.56      0.36      0.43        14\n",
      "\n",
      "    accuracy                           0.71       407\n",
      "   macro avg       0.64      0.56      0.58       407\n",
      "weighted avg       0.69      0.71      0.69       407\n",
      "\n"
     ]
    }
   ],
   "source": [
    "from sklearn.metrics import classification_report\n",
    "target_names = ['class 0', 'class 1', 'class 2','class 3 ']\n",
    "print(classification_report(y2, y2_pred, target_names=target_names))"
   ]
  },
  {
   "cell_type": "markdown",
   "metadata": {},
   "source": [
    "#!!!EKSTRA!!! --- Classlar arasında Class 3'ün - yani CDRGLOB değerinin 3 olduğu- verilerinini diğerlerine göre çok azınlıkta kalmasından kaynaklı Class 3'leri Class 2 olarak değiştirerek model eğitilmesi yaklaşımı kullanılacaktır."
   ]
  },
  {
   "cell_type": "code",
   "execution_count": 47,
   "metadata": {
    "scrolled": true
   },
   "outputs": [
    {
     "data": {
      "text/plain": [
       "0       0\n",
       "1       2\n",
       "2       0\n",
       "3       0\n",
       "4       1\n",
       "       ..\n",
       "1349    1\n",
       "1350    2\n",
       "1351    0\n",
       "1352    0\n",
       "1353    0\n",
       "Name: CDRGLOB, Length: 1354, dtype: int64"
      ]
     },
     "execution_count": 47,
     "metadata": {},
     "output_type": "execute_result"
    }
   ],
   "source": [
    "data_encoded[data_encoded.loc[:,'CDRGLOB']==3]=2\n",
    "data_encoded['CDRGLOB']"
   ]
  },
  {
   "cell_type": "code",
   "execution_count": 48,
   "metadata": {},
   "outputs": [],
   "source": [
    "data_w3_glb2=pd.DataFrame((f1_data_norm,f2_data_norm,f3_data_norm,data_encoded[\"CDRGLOB\"])).T\n",
    "data_w3_glb2.rename(columns={'Unnamed 0': 'F1', 'Unnamed 1': 'F2','Unnamed 2': 'F3'}, inplace=True)"
   ]
  },
  {
   "cell_type": "code",
   "execution_count": 49,
   "metadata": {},
   "outputs": [
    {
     "data": {
      "text/plain": [
       "F1         0.472280\n",
       "F2         0.654154\n",
       "F3         0.598333\n",
       "CDRGLOB    1.000000\n",
       "Name: CDRGLOB, dtype: float64"
      ]
     },
     "execution_count": 49,
     "metadata": {},
     "output_type": "execute_result"
    }
   ],
   "source": [
    "data_w3_glb2.corr()['CDRGLOB']"
   ]
  },
  {
   "cell_type": "code",
   "execution_count": 50,
   "metadata": {},
   "outputs": [
    {
     "data": {
      "text/html": [
       "<div>\n",
       "<style scoped>\n",
       "    .dataframe tbody tr th:only-of-type {\n",
       "        vertical-align: middle;\n",
       "    }\n",
       "\n",
       "    .dataframe tbody tr th {\n",
       "        vertical-align: top;\n",
       "    }\n",
       "\n",
       "    .dataframe thead th {\n",
       "        text-align: right;\n",
       "    }\n",
       "</style>\n",
       "<table border=\"1\" class=\"dataframe\">\n",
       "  <thead>\n",
       "    <tr style=\"text-align: right;\">\n",
       "      <th></th>\n",
       "      <th>F1</th>\n",
       "      <th>F2</th>\n",
       "      <th>F3</th>\n",
       "      <th>CDRGLOB</th>\n",
       "    </tr>\n",
       "  </thead>\n",
       "  <tbody>\n",
       "    <tr>\n",
       "      <th>F1</th>\n",
       "      <td>1.000000</td>\n",
       "      <td>0.469020</td>\n",
       "      <td>0.402908</td>\n",
       "      <td>0.472280</td>\n",
       "    </tr>\n",
       "    <tr>\n",
       "      <th>F2</th>\n",
       "      <td>0.469020</td>\n",
       "      <td>1.000000</td>\n",
       "      <td>0.666418</td>\n",
       "      <td>0.654154</td>\n",
       "    </tr>\n",
       "    <tr>\n",
       "      <th>F3</th>\n",
       "      <td>0.402908</td>\n",
       "      <td>0.666418</td>\n",
       "      <td>1.000000</td>\n",
       "      <td>0.598333</td>\n",
       "    </tr>\n",
       "    <tr>\n",
       "      <th>CDRGLOB</th>\n",
       "      <td>0.472280</td>\n",
       "      <td>0.654154</td>\n",
       "      <td>0.598333</td>\n",
       "      <td>1.000000</td>\n",
       "    </tr>\n",
       "  </tbody>\n",
       "</table>\n",
       "</div>"
      ],
      "text/plain": [
       "               F1  \\\n",
       "F1       1.000000   \n",
       "F2       0.469020   \n",
       "F3       0.402908   \n",
       "CDRGLOB  0.472280   \n",
       "\n",
       "               F2  \\\n",
       "F1       0.469020   \n",
       "F2       1.000000   \n",
       "F3       0.666418   \n",
       "CDRGLOB  0.654154   \n",
       "\n",
       "               F3  \\\n",
       "F1       0.402908   \n",
       "F2       0.666418   \n",
       "F3       1.000000   \n",
       "CDRGLOB  0.598333   \n",
       "\n",
       "          CDRGLOB  \n",
       "F1       0.472280  \n",
       "F2       0.654154  \n",
       "F3       0.598333  \n",
       "CDRGLOB  1.000000  "
      ]
     },
     "execution_count": 50,
     "metadata": {},
     "output_type": "execute_result"
    }
   ],
   "source": [
    "data_w3_glb2.corr()"
   ]
  },
  {
   "cell_type": "code",
   "execution_count": 51,
   "metadata": {},
   "outputs": [
    {
     "data": {
      "image/png": "[encoded data removed]",
      "text/plain": [
       "<Figure size 432x288 with 2 Axes>"
      ]
     },
     "metadata": {},
     "output_type": "display_data"
    }
   ],
   "source": [
    "ax=sns.heatmap(data_w3_glb2.corr(),annot=True,fmt=\".3f\",linewidth=.5)\n",
    "ax.xaxis.tick_top()"
   ]
  },
  {
   "cell_type": "markdown",
   "metadata": {},
   "source": [
    "#2.a) Support Vector Classifier Kullanırsak:"
   ]
  },
  {
   "cell_type": "code",
   "execution_count": 52,
   "metadata": {},
   "outputs": [],
   "source": [
    "X=data_w3_glb2.loc[:,'F1':'F3']\n",
    "Y=data_w3_glb2['CDRGLOB']"
   ]
  },
  {
   "cell_type": "code",
   "execution_count": 53,
   "metadata": {},
   "outputs": [],
   "source": [
    "from sklearn.model_selection import train_test_split\n",
    "X1, X2, y1, y2 = train_test_split(X, Y,train_size=0.70,stratify=Y)"
   ]
  },
  {
   "cell_type": "code",
   "execution_count": 54,
   "metadata": {},
   "outputs": [],
   "source": [
    "from sklearn.svm import SVC\n",
    "from sklearn.metrics import accuracy_score\n",
    "from sklearn.metrics import classification_report\n",
    "model4=SVC()"
   ]
  },
  {
   "cell_type": "code",
   "execution_count": 55,
   "metadata": {},
   "outputs": [],
   "source": [
    "from sklearn.model_selection import GridSearchCV\n",
    "param_grid = {'kernel':['poly', 'rbf', 'sigmoid'],\n",
    "              'gamma': ['scale', 'auto'],\n",
    "              'shrinking':[True,False]}\n",
    "grid = GridSearchCV(model4, param_grid, cv=3)"
   ]
  },
  {
   "cell_type": "code",
   "execution_count": 56,
   "metadata": {},
   "outputs": [
    {
     "data": {
      "text/plain": [
       "GridSearchCV(cv=3, estimator=SVC(),\n",
       "             param_grid={'gamma': ['scale', 'auto'],\n",
       "                         'kernel': ['poly', 'rbf', 'sigmoid'],\n",
       "                         'shrinking': [True, False]})"
      ]
     },
     "execution_count": 56,
     "metadata": {},
     "output_type": "execute_result"
    }
   ],
   "source": [
    "grid.fit(X1, y1)"
   ]
  },
  {
   "cell_type": "code",
   "execution_count": 57,
   "metadata": {},
   "outputs": [
    {
     "data": {
      "text/plain": [
       "{'gamma': 'scale', 'kernel': 'rbf', 'shrinking': True}"
      ]
     },
     "execution_count": 57,
     "metadata": {},
     "output_type": "execute_result"
    }
   ],
   "source": [
    "grid.best_params_"
   ]
  },
  {
   "cell_type": "code",
   "execution_count": 58,
   "metadata": {},
   "outputs": [
    {
     "data": {
      "text/plain": [
       "0.7286049159466881"
      ]
     },
     "execution_count": 58,
     "metadata": {},
     "output_type": "execute_result"
    }
   ],
   "source": [
    "%matplotlib inline\n",
    "import matplotlib.pyplot as plt\n",
    "import seaborn; seaborn.set()  # plot formatting\n",
    "from sklearn.metrics import accuracy_score\n",
    "model4 = grid.best_estimator_\n",
    "y2_pred = model4.fit(X1, y1).predict(X2)\n",
    "score=cross_val_score(model4, X1, y1, cv=3)\n",
    "score.mean()"
   ]
  },
  {
   "cell_type": "code",
   "execution_count": 59,
   "metadata": {},
   "outputs": [
    {
     "data": {
      "text/plain": [
       "0.7223587223587223"
      ]
     },
     "execution_count": 59,
     "metadata": {},
     "output_type": "execute_result"
    }
   ],
   "source": [
    "accuracy_score(y2_pred,y2)"
   ]
  },
  {
   "cell_type": "code",
   "execution_count": 60,
   "metadata": {},
   "outputs": [
    {
     "data": {
      "image/png": "[encoded data removed]",
      "text/plain": [
       "<Figure size 432x288 with 2 Axes>"
      ]
     },
     "metadata": {},
     "output_type": "display_data"
    }
   ],
   "source": [
    "from sklearn.metrics import confusion_matrix\n",
    "mat = confusion_matrix(y2,y2_pred)\n",
    "sns.heatmap(mat, square=True, annot=True, cmap = \"PuBu_r\",cbar=True,fmt=\".1f\",linewidth=.5)\n",
    "plt.xlabel('predicted value')\n",
    "plt.ylabel('true value');"
   ]
  },
  {
   "cell_type": "markdown",
   "metadata": {},
   "source": [
    "#2.b)Random Forest Classifier kullanarak:"
   ]
  },
  {
   "cell_type": "code",
   "execution_count": null,
   "metadata": {},
   "outputs": [],
   "source": [
    "from sklearn.ensemble import RandomForestClassifier\n",
    "from sklearn.metrics import accuracy_score\n",
    "from sklearn.metrics import classification_report\n",
    "model5=RandomForestClassifier()\n",
    "\n",
    "from sklearn.model_selection import GridSearchCV\n",
    "param_grid = {'n_estimators':[100,110,120,130,140,150],\n",
    "              'criterion':['gini', 'entropy', 'log_loss'],\n",
    "              'min_samples_split':[2,3,4,5],\n",
    "              'max_features':['sqrt', 'log2', None],\n",
    "              'bootstrap':[True,False]}\n",
    "grid = GridSearchCV(model5, param_grid, cv=3)"
   ]
  },
  {
   "cell_type": "code",
   "execution_count": null,
   "metadata": {},
   "outputs": [],
   "source": [
    "grid.fit(X1, y1)"
   ]
  },
  {
   "cell_type": "code",
   "execution_count": 63,
   "metadata": {},
   "outputs": [
    {
     "data": {
      "text/plain": [
       "{'bootstrap': True,\n",
       " 'criterion': 'entropy',\n",
       " 'max_features': 'sqrt',\n",
       " 'min_samples_split': 4,\n",
       " 'n_estimators': 120}"
      ]
     },
     "execution_count": 63,
     "metadata": {},
     "output_type": "execute_result"
    }
   ],
   "source": [
    "grid.best_params_"
   ]
  },
  {
   "cell_type": "code",
   "execution_count": 64,
   "metadata": {},
   "outputs": [
    {
     "data": {
      "text/plain": [
       "0.7233340030808385"
      ]
     },
     "execution_count": 64,
     "metadata": {},
     "output_type": "execute_result"
    }
   ],
   "source": [
    "%matplotlib inline\n",
    "import matplotlib.pyplot as plt\n",
    "import seaborn; seaborn.set()  # plot formatting\n",
    "from sklearn.metrics import accuracy_score\n",
    "model5 = grid.best_estimator_\n",
    "y2_pred = model5.fit(X1, y1).predict(X2)\n",
    "score=cross_val_score(model5, X1, y1, cv=3)\n",
    "score.mean()"
   ]
  },
  {
   "cell_type": "code",
   "execution_count": 65,
   "metadata": {},
   "outputs": [
    {
     "data": {
      "text/plain": [
       "0.7027027027027027"
      ]
     },
     "execution_count": 65,
     "metadata": {},
     "output_type": "execute_result"
    }
   ],
   "source": [
    "accuracy_score(y2_pred,y2)"
   ]
  },
  {
   "cell_type": "code",
   "execution_count": 66,
   "metadata": {},
   "outputs": [
    {
     "data": {
      "image/png": "[encoded data removed]",
      "text/plain": [
       "<Figure size 432x288 with 2 Axes>"
      ]
     },
     "metadata": {},
     "output_type": "display_data"
    }
   ],
   "source": [
    "from sklearn.metrics import confusion_matrix\n",
    "mat = confusion_matrix(y2,y2_pred)\n",
    "sns.heatmap(mat, square=True, annot=True, cmap = \"PuBu_r\",cbar=True,fmt=\".1f\",linewidth=.5)\n",
    "plt.xlabel('predicted value')\n",
    "plt.ylabel('true value');"
   ]
  }
 ],
 "metadata": {
  "colab": {
   "collapsed_sections": [],
   "provenance": []
  },
  "kernelspec": {
   "display_name": "Python 3 (ipykernel)",
   "language": "python",
   "name": "python3"
  },
  "language_info": {
   "codemirror_mode": {
    "name": "ipython",
    "version": 3
   },
   "file_extension": ".py",
   "mimetype": "text/x-python",
   "name": "python",
   "nbconvert_exporter": "python",
   "pygments_lexer": "ipython3",
   "version": "3.9.12"
  }
 },
 "nbformat": 4,
 "nbformat_minor": 1
}
