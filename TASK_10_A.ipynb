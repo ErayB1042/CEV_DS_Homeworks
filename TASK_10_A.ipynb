{
  "nbformat": 4,
  "nbformat_minor": 0,
  "metadata": {
    "colab": {
      "provenance": []
    },
    "kernelspec": {
      "name": "python3",
      "display_name": "Python 3"
    },
    "language_info": {
      "name": "python"
    },
    "gpuClass": "standard"
  },
  "cells": [
    {
      "cell_type": "markdown",
      "source": [
        "TASK-10A: Please model the AD dataset using the SVM, Decision Tree, and Random Forest algorithms.\n",
        "\n",
        ">Please apply train test split (%75-%25),\n",
        "Then grid search (hyperparameter tuning),\n",
        "Then classification report and confusion matrix (on the test dataset),\n",
        "Then compare the findings from the three algorithms\n"
      ],
      "metadata": {
        "id": "g7kBOie2Zzeb"
      }
    },
    {
      "cell_type": "markdown",
      "source": [
        "Verimizi Çekiyoruz;"
      ],
      "metadata": {
        "id": "0YK6WFy3ccLx"
      }
    },
    {
      "cell_type": "code",
      "source": [
        "import pandas as pd\n",
        "from sklearn.model_selection import train_test_split\n",
        "import numpy as np\n",
        "from sklearn.model_selection import GridSearchCV\n",
        "import matplotlib.pyplot as plt\n",
        "import seaborn as sns\n",
        "\n",
        "data = pd.read_excel(\"Temporary_data3_Left_Right_Copy.xlsx\", index_col=0)\n",
        "y_data = data[\"CDRGLOB\"]\n",
        "data.drop(columns = [\"CDRGLOB\"], axis = 1, inplace = True)"
      ],
      "metadata": {
        "id": "8X_HjVmFcb8p"
      },
      "execution_count": 34,
      "outputs": []
    },
    {
      "cell_type": "markdown",
      "source": [
        "Önce Verimizi traine %75, teste %25 şeklinde ayırıyoruz."
      ],
      "metadata": {
        "id": "Kz6mksXZcQhY"
      }
    },
    {
      "cell_type": "code",
      "execution_count": 35,
      "metadata": {
        "id": "ADq7MV7YZUy3"
      },
      "outputs": [],
      "source": [
        "X_train, X_test, y_train, y_test = train_test_split(data, y_data,train_size=0.75,stratify=y_data)"
      ]
    },
    {
      "cell_type": "markdown",
      "source": [
        "Ardından Sırasıyla SVM(Support Vector Machines),Decision Tree ve Random Forest ile çalışıyoruz."
      ],
      "metadata": {
        "id": "1DJrKo8gcPIB"
      }
    },
    {
      "cell_type": "markdown",
      "source": [
        "1)SVM(Support Vector Machines) Classifier:"
      ],
      "metadata": {
        "id": "6AbEVZ3hdKZM"
      }
    },
    {
      "cell_type": "code",
      "source": [
        "from sklearn.svm import SVC\n",
        "from sklearn.model_selection import GridSearchCV\n",
        "from sklearn.metrics import accuracy_score\n",
        "from sklearn.metrics import classification_report\n",
        "from sklearn.model_selection import cross_val_score\n",
        "model1=SVC()"
      ],
      "metadata": {
        "id": "QsaGiNsUcNux"
      },
      "execution_count": 36,
      "outputs": []
    },
    {
      "cell_type": "code",
      "source": [
        "param_grid1 = {\"C\": np.linspace(2.0,5.0, num = 4),\n",
        "              'kernel':['poly', 'rbf', 'sigmoid'],\n",
        "              'shrinking':[True,False],\n",
        "              \"degree\": [3,4,5]}\n",
        "grid1 = GridSearchCV(model1, param_grid1,cv=3)"
      ],
      "metadata": {
        "id": "ku6-iDRdde10"
      },
      "execution_count": 37,
      "outputs": []
    },
    {
      "cell_type": "code",
      "source": [
        "grid1.fit(X_train, y_train)"
      ],
      "metadata": {
        "colab": {
          "base_uri": "https://localhost:8080/"
        },
        "id": "LWiurjfy81LD",
        "outputId": "2480440b-b78c-4d54-8313-3e100b287439"
      },
      "execution_count": 38,
      "outputs": [
        {
          "output_type": "execute_result",
          "data": {
            "text/plain": [
              "GridSearchCV(cv=3, estimator=SVC(),\n",
              "             param_grid={'C': array([2., 3., 4., 5.]), 'degree': [3, 4, 5],\n",
              "                         'kernel': ['poly', 'rbf', 'sigmoid'],\n",
              "                         'shrinking': [True, False]})"
            ]
          },
          "metadata": {},
          "execution_count": 38
        }
      ]
    },
    {
      "cell_type": "code",
      "source": [
        "grid1.best_params_"
      ],
      "metadata": {
        "colab": {
          "base_uri": "https://localhost:8080/"
        },
        "id": "80goFlXh9Vke",
        "outputId": "dbfb77a9-86bd-4245-9cb1-1a942a1bcca2"
      },
      "execution_count": 39,
      "outputs": [
        {
          "output_type": "execute_result",
          "data": {
            "text/plain": [
              "{'C': 5.0, 'degree': 3, 'kernel': 'poly', 'shrinking': True}"
            ]
          },
          "metadata": {},
          "execution_count": 39
        }
      ]
    },
    {
      "cell_type": "code",
      "source": [
        "%matplotlib inline\n",
        "import matplotlib.pyplot as plt\n",
        "import seaborn; seaborn.set()  # plot formatting\n",
        "from sklearn.metrics import accuracy_score\n",
        "model1 = grid1.best_estimator_\n",
        "y2_pred = model1.fit(X_train, y_train).predict(X_test)\n",
        "score=cross_val_score(model1, X_train, y_train)\n",
        "score.mean()"
      ],
      "metadata": {
        "colab": {
          "base_uri": "https://localhost:8080/"
        },
        "id": "LiMlBnR79Yci",
        "outputId": "98c5a3a9-8846-4932-d974-19347f2fbec8"
      },
      "execution_count": 40,
      "outputs": [
        {
          "output_type": "execute_result",
          "data": {
            "text/plain": [
              "0.548768472906404"
            ]
          },
          "metadata": {},
          "execution_count": 40
        }
      ]
    },
    {
      "cell_type": "code",
      "source": [
        "accuracy_score(y_test, y2_pred)"
      ],
      "metadata": {
        "colab": {
          "base_uri": "https://localhost:8080/"
        },
        "id": "GvajIAb_9mqF",
        "outputId": "17277ae6-facb-42c9-df00-053dfb55efe5"
      },
      "execution_count": 41,
      "outputs": [
        {
          "output_type": "execute_result",
          "data": {
            "text/plain": [
              "0.5575221238938053"
            ]
          },
          "metadata": {},
          "execution_count": 41
        }
      ]
    },
    {
      "cell_type": "code",
      "source": [
        "from sklearn.metrics import confusion_matrix\n",
        "mat = confusion_matrix(y_test,y2_pred)\n",
        "sns.heatmap(mat, square=True, annot=True, cmap = \"OrRd\",cbar=True,fmt=\".1f\",linewidth=.5)\n",
        "plt.xlabel('predicted value')\n",
        "plt.ylabel('true value')\n"
      ],
      "metadata": {
        "colab": {
          "base_uri": "https://localhost:8080/",
          "height": 302
        },
        "id": "392CX5Vs-Ac2",
        "outputId": "7abfadc6-bea2-4ac2-f7a5-ca4c39627c17"
      },
      "execution_count": 42,
      "outputs": [
        {
          "output_type": "execute_result",
          "data": {
            "text/plain": [
              "Text(80.90000000000006, 0.5, 'true value')"
            ]
          },
          "metadata": {},
          "execution_count": 42
        },
        {
          "output_type": "display_data",
          "data": {
            "text/plain": [
              "<Figure size 432x288 with 2 Axes>"
            ],
            "image/png": "[encoded data removed]"
          },
          "metadata": {}
        }
      ]
    },
    {
      "cell_type": "code",
      "source": [
        "from sklearn.metrics import classification_report\n",
        "target_names = ['class 0', 'class 1', 'class 2','class 3']\n",
        "print(classification_report(y_test, y2_pred, target_names=target_names))"
      ],
      "metadata": {
        "colab": {
          "base_uri": "https://localhost:8080/"
        },
        "id": "kEgGlr7u-BGO",
        "outputId": "47b49df3-f99f-4172-eb22-8fd83e10cee2"
      },
      "execution_count": 43,
      "outputs": [
        {
          "output_type": "stream",
          "name": "stdout",
          "text": [
            "              precision    recall  f1-score   support\n",
            "\n",
            "     class 0       0.63      0.78      0.70       162\n",
            "     class 1       0.45      0.50      0.48       124\n",
            "     class 2       0.00      0.00      0.00        41\n",
            "     class 3       0.00      0.00      0.00        12\n",
            "\n",
            "    accuracy                           0.56       339\n",
            "   macro avg       0.27      0.32      0.29       339\n",
            "weighted avg       0.47      0.56      0.51       339\n",
            "\n"
          ]
        },
        {
          "output_type": "stream",
          "name": "stderr",
          "text": [
            "/usr/local/lib/python3.7/dist-packages/sklearn/metrics/_classification.py:1318: UndefinedMetricWarning: Precision and F-score are ill-defined and being set to 0.0 in labels with no predicted samples. Use `zero_division` parameter to control this behavior.\n",
            "  _warn_prf(average, modifier, msg_start, len(result))\n",
            "/usr/local/lib/python3.7/dist-packages/sklearn/metrics/_classification.py:1318: UndefinedMetricWarning: Precision and F-score are ill-defined and being set to 0.0 in labels with no predicted samples. Use `zero_division` parameter to control this behavior.\n",
            "  _warn_prf(average, modifier, msg_start, len(result))\n",
            "/usr/local/lib/python3.7/dist-packages/sklearn/metrics/_classification.py:1318: UndefinedMetricWarning: Precision and F-score are ill-defined and being set to 0.0 in labels with no predicted samples. Use `zero_division` parameter to control this behavior.\n",
            "  _warn_prf(average, modifier, msg_start, len(result))\n"
          ]
        }
      ]
    },
    {
      "cell_type": "markdown",
      "source": [
        "2)Random Forest Classifier:"
      ],
      "metadata": {
        "id": "Zh5hXS0ZGRTl"
      }
    },
    {
      "cell_type": "code",
      "source": [
        "from sklearn.ensemble import RandomForestClassifier\n",
        "from sklearn.metrics import accuracy_score\n",
        "from sklearn.metrics import classification_report\n",
        "from sklearn.model_selection import GridSearchCV\n",
        "\n",
        "model2=RandomForestClassifier()\n",
        "param_grid2 = {'n_estimators':[100,110,120,130],\n",
        "              'criterion':['gini', 'entropy', 'log_loss'],\n",
        "              'min_samples_split':[2,3,4],\n",
        "              'max_features':['sqrt', 'log2']}\n",
        "grid2 = GridSearchCV(model2, param_grid2, cv=3)"
      ],
      "metadata": {
        "id": "r4kFWh0-C74k"
      },
      "execution_count": 44,
      "outputs": []
    },
    {
      "cell_type": "code",
      "source": [
        "grid2.fit(X_train, y_train)"
      ],
      "metadata": {
        "colab": {
          "base_uri": "https://localhost:8080/"
        },
        "id": "te1rkhMhDKm4",
        "outputId": "788ec85c-8e3d-4f42-927a-8eb8f01d3674"
      },
      "execution_count": 45,
      "outputs": [
        {
          "output_type": "stream",
          "name": "stderr",
          "text": [
            "/usr/local/lib/python3.7/dist-packages/sklearn/model_selection/_validation.py:372: FitFailedWarning: \n",
            "72 fits failed out of a total of 216.\n",
            "The score on these train-test partitions for these parameters will be set to nan.\n",
            "If these failures are not expected, you can try to debug them by setting error_score='raise'.\n",
            "\n",
            "Below are more details about the failures:\n",
            "--------------------------------------------------------------------------------\n",
            "72 fits failed with the following error:\n",
            "Traceback (most recent call last):\n",
            "  File \"/usr/local/lib/python3.7/dist-packages/sklearn/model_selection/_validation.py\", line 680, in _fit_and_score\n",
            "    estimator.fit(X_train, y_train, **fit_params)\n",
            "  File \"/usr/local/lib/python3.7/dist-packages/sklearn/ensemble/_forest.py\", line 467, in fit\n",
            "    for i, t in enumerate(trees)\n",
            "  File \"/usr/local/lib/python3.7/dist-packages/joblib/parallel.py\", line 1085, in __call__\n",
            "    if self.dispatch_one_batch(iterator):\n",
            "  File \"/usr/local/lib/python3.7/dist-packages/joblib/parallel.py\", line 901, in dispatch_one_batch\n",
            "    self._dispatch(tasks)\n",
            "  File \"/usr/local/lib/python3.7/dist-packages/joblib/parallel.py\", line 819, in _dispatch\n",
            "    job = self._backend.apply_async(batch, callback=cb)\n",
            "  File \"/usr/local/lib/python3.7/dist-packages/joblib/_parallel_backends.py\", line 208, in apply_async\n",
            "    result = ImmediateResult(func)\n",
            "  File \"/usr/local/lib/python3.7/dist-packages/joblib/_parallel_backends.py\", line 597, in __init__\n",
            "    self.results = batch()\n",
            "  File \"/usr/local/lib/python3.7/dist-packages/joblib/parallel.py\", line 289, in __call__\n",
            "    for func, args, kwargs in self.items]\n",
            "  File \"/usr/local/lib/python3.7/dist-packages/joblib/parallel.py\", line 289, in <listcomp>\n",
            "    for func, args, kwargs in self.items]\n",
            "  File \"/usr/local/lib/python3.7/dist-packages/sklearn/utils/fixes.py\", line 216, in __call__\n",
            "    return self.function(*args, **kwargs)\n",
            "  File \"/usr/local/lib/python3.7/dist-packages/sklearn/ensemble/_forest.py\", line 185, in _parallel_build_trees\n",
            "    tree.fit(X, y, sample_weight=curr_sample_weight, check_input=False)\n",
            "  File \"/usr/local/lib/python3.7/dist-packages/sklearn/tree/_classes.py\", line 942, in fit\n",
            "    X_idx_sorted=X_idx_sorted,\n",
            "  File \"/usr/local/lib/python3.7/dist-packages/sklearn/tree/_classes.py\", line 352, in fit\n",
            "    criterion = CRITERIA_CLF[self.criterion](\n",
            "KeyError: 'log_loss'\n",
            "\n",
            "  warnings.warn(some_fits_failed_message, FitFailedWarning)\n",
            "/usr/local/lib/python3.7/dist-packages/sklearn/model_selection/_search.py:972: UserWarning: One or more of the test scores are non-finite: [0.68668145 0.66891833 0.67187691 0.6778028  0.67287474 0.68370832\n",
            " 0.67779989 0.67583623 0.68569234 0.67977518 0.66301862 0.68075556\n",
            " 0.65514071 0.67090235 0.67288928 0.65907967 0.6521705  0.66204116\n",
            " 0.65809057 0.65710437 0.66204116 0.66004841 0.6620237  0.65709856\n",
            " 0.68863638 0.68767055 0.6935528  0.67289219 0.67189145 0.68471779\n",
            " 0.68568362 0.67091108 0.67779698 0.67288347 0.68470324 0.67878899\n",
            " 0.66104042 0.6768166  0.6649881  0.66006586 0.66301862 0.65020684\n",
            " 0.66399609 0.67090235 0.6521705  0.65413707 0.66104915 0.66105787\n",
            "        nan        nan        nan        nan        nan        nan\n",
            "        nan        nan        nan        nan        nan        nan\n",
            "        nan        nan        nan        nan        nan        nan\n",
            "        nan        nan        nan        nan        nan        nan]\n",
            "  category=UserWarning,\n"
          ]
        },
        {
          "output_type": "execute_result",
          "data": {
            "text/plain": [
              "GridSearchCV(cv=3, estimator=RandomForestClassifier(),\n",
              "             param_grid={'criterion': ['gini', 'entropy', 'log_loss'],\n",
              "                         'max_features': ['sqrt', 'log2'],\n",
              "                         'min_samples_split': [2, 3, 4],\n",
              "                         'n_estimators': [100, 110, 120, 130]})"
            ]
          },
          "metadata": {},
          "execution_count": 45
        }
      ]
    },
    {
      "cell_type": "code",
      "source": [
        "grid2.best_params_"
      ],
      "metadata": {
        "colab": {
          "base_uri": "https://localhost:8080/"
        },
        "id": "HjCKcJkIDRZm",
        "outputId": "f059e2a1-a473-4add-89de-863e1ba68ad5"
      },
      "execution_count": 46,
      "outputs": [
        {
          "output_type": "execute_result",
          "data": {
            "text/plain": [
              "{'criterion': 'entropy',\n",
              " 'max_features': 'sqrt',\n",
              " 'min_samples_split': 2,\n",
              " 'n_estimators': 120}"
            ]
          },
          "metadata": {},
          "execution_count": 46
        }
      ]
    },
    {
      "cell_type": "code",
      "source": [
        "%matplotlib inline\n",
        "import matplotlib.pyplot as plt\n",
        "import seaborn; seaborn.set() \n",
        "from sklearn.metrics import accuracy_score\n",
        "model2 = grid2.best_estimator_\n",
        "y2_pred2 = model2.fit(X_train, y_train).predict(X_test)\n",
        "score=cross_val_score(model2, X_train, y_train, cv=3)\n",
        "score.mean()"
      ],
      "metadata": {
        "colab": {
          "base_uri": "https://localhost:8080/"
        },
        "id": "EMGP7nVkDU9B",
        "outputId": "6a6dda95-1ba2-4bd2-c79d-323c847207b9"
      },
      "execution_count": 47,
      "outputs": [
        {
          "output_type": "execute_result",
          "data": {
            "text/plain": [
              "0.6945564457477325"
            ]
          },
          "metadata": {},
          "execution_count": 47
        }
      ]
    },
    {
      "cell_type": "code",
      "source": [
        "accuracy_score(y_test, y2_pred2)"
      ],
      "metadata": {
        "colab": {
          "base_uri": "https://localhost:8080/"
        },
        "id": "qSX2VrjPDctF",
        "outputId": "efc1d525-6988-447a-f909-867725292858"
      },
      "execution_count": 48,
      "outputs": [
        {
          "output_type": "execute_result",
          "data": {
            "text/plain": [
              "0.6814159292035398"
            ]
          },
          "metadata": {},
          "execution_count": 48
        }
      ]
    },
    {
      "cell_type": "code",
      "source": [
        "from sklearn.metrics import confusion_matrix\n",
        "mat = confusion_matrix(y_test,y2_pred2)\n",
        "sns.heatmap(mat, square=True, annot=True,cmap=plt.cm.Blues, cbar=True,fmt=\".1f\",linewidth=.5)\n",
        "plt.xlabel('predicted value')\n",
        "plt.ylabel('true value')\n",
        "plt.show()"
      ],
      "metadata": {
        "colab": {
          "base_uri": "https://localhost:8080/",
          "height": 286
        },
        "id": "-GOGT1xOD4uJ",
        "outputId": "4eb21f42-8c02-4e0d-9c99-2c85e6605e82"
      },
      "execution_count": 49,
      "outputs": [
        {
          "output_type": "display_data",
          "data": {
            "text/plain": [
              "<Figure size 432x288 with 2 Axes>"
            ],
            "image/png": "[encoded data removed]"
          },
          "metadata": {}
        }
      ]
    },
    {
      "cell_type": "code",
      "source": [
        "from sklearn.metrics import classification_report\n",
        "target_names = ['class 0', 'class 1', 'class 2','class 3']\n",
        "print(classification_report(y_test, y2_pred2, target_names=target_names))"
      ],
      "metadata": {
        "colab": {
          "base_uri": "https://localhost:8080/"
        },
        "id": "SByvt6iWD8fG",
        "outputId": "af1da45c-3606-4d31-b4ea-a10fcc5bce33"
      },
      "execution_count": 50,
      "outputs": [
        {
          "output_type": "stream",
          "name": "stdout",
          "text": [
            "              precision    recall  f1-score   support\n",
            "\n",
            "     class 0       0.78      0.88      0.82       162\n",
            "     class 1       0.60      0.65      0.62       124\n",
            "     class 2       0.41      0.22      0.29        41\n",
            "     class 3       0.00      0.00      0.00        12\n",
            "\n",
            "    accuracy                           0.68       339\n",
            "   macro avg       0.45      0.44      0.43       339\n",
            "weighted avg       0.64      0.68      0.65       339\n",
            "\n"
          ]
        },
        {
          "output_type": "stream",
          "name": "stderr",
          "text": [
            "/usr/local/lib/python3.7/dist-packages/sklearn/metrics/_classification.py:1318: UndefinedMetricWarning: Precision and F-score are ill-defined and being set to 0.0 in labels with no predicted samples. Use `zero_division` parameter to control this behavior.\n",
            "  _warn_prf(average, modifier, msg_start, len(result))\n",
            "/usr/local/lib/python3.7/dist-packages/sklearn/metrics/_classification.py:1318: UndefinedMetricWarning: Precision and F-score are ill-defined and being set to 0.0 in labels with no predicted samples. Use `zero_division` parameter to control this behavior.\n",
            "  _warn_prf(average, modifier, msg_start, len(result))\n",
            "/usr/local/lib/python3.7/dist-packages/sklearn/metrics/_classification.py:1318: UndefinedMetricWarning: Precision and F-score are ill-defined and being set to 0.0 in labels with no predicted samples. Use `zero_division` parameter to control this behavior.\n",
            "  _warn_prf(average, modifier, msg_start, len(result))\n"
          ]
        }
      ]
    },
    {
      "cell_type": "markdown",
      "source": [
        "3)Decision Tree Classifier:"
      ],
      "metadata": {
        "id": "Bk9dU9RdH3A5"
      }
    },
    {
      "cell_type": "code",
      "source": [
        "from sklearn.tree import DecisionTreeClassifier\n",
        "from sklearn.metrics import accuracy_score\n",
        "from sklearn.metrics import classification_report\n",
        "from sklearn.model_selection import GridSearchCV\n",
        "\n",
        "model3=DecisionTreeClassifier()\n",
        "param_grid3 = {'criterion':['gini', 'entropy', 'log_loss'],\n",
        "               'splitter':['best','random'],\n",
        "               'min_samples_split':[2,3,4,5],\n",
        "               'min_samples_leaf':[1,2,3,5],\n",
        "              'max_features':['auto','sqrt', 'log2']}\n",
        "grid3 = GridSearchCV(model3, param_grid3, cv=3)"
      ],
      "metadata": {
        "id": "3HjobuYmEvL8"
      },
      "execution_count": 59,
      "outputs": []
    },
    {
      "cell_type": "code",
      "source": [
        "grid3.fit(X_train, y_train)"
      ],
      "metadata": {
        "colab": {
          "base_uri": "https://localhost:8080/"
        },
        "id": "j-jtlyO5KrWR",
        "outputId": "3919c941-c77f-412d-9343-6721695a4a6b"
      },
      "execution_count": 60,
      "outputs": [
        {
          "output_type": "stream",
          "name": "stderr",
          "text": [
            "/usr/local/lib/python3.7/dist-packages/sklearn/model_selection/_validation.py:372: FitFailedWarning: \n",
            "288 fits failed out of a total of 864.\n",
            "The score on these train-test partitions for these parameters will be set to nan.\n",
            "If these failures are not expected, you can try to debug them by setting error_score='raise'.\n",
            "\n",
            "Below are more details about the failures:\n",
            "--------------------------------------------------------------------------------\n",
            "288 fits failed with the following error:\n",
            "Traceback (most recent call last):\n",
            "  File \"/usr/local/lib/python3.7/dist-packages/sklearn/model_selection/_validation.py\", line 680, in _fit_and_score\n",
            "    estimator.fit(X_train, y_train, **fit_params)\n",
            "  File \"/usr/local/lib/python3.7/dist-packages/sklearn/tree/_classes.py\", line 942, in fit\n",
            "    X_idx_sorted=X_idx_sorted,\n",
            "  File \"/usr/local/lib/python3.7/dist-packages/sklearn/tree/_classes.py\", line 352, in fit\n",
            "    criterion = CRITERIA_CLF[self.criterion](\n",
            "KeyError: 'log_loss'\n",
            "\n",
            "  warnings.warn(some_fits_failed_message, FitFailedWarning)\n",
            "/usr/local/lib/python3.7/dist-packages/sklearn/model_selection/_search.py:972: UserWarning: One or more of the test scores are non-finite: [0.57440959 0.51626492 0.55269589 0.55764431 0.54875402 0.5527308\n",
            " 0.54482379 0.56949608 0.59801423 0.55370244 0.57340885 0.5576094\n",
            " 0.54580417 0.57140738 0.54388415 0.55562247 0.55467118 0.55865959\n",
            " 0.56254909 0.55368208 0.56254327 0.58523445 0.5812984  0.56848371\n",
            " 0.55659702 0.61179476 0.5576414  0.54776492 0.55664939 0.56552513\n",
            " 0.58914722 0.54975185 0.5576094  0.56058543 0.53498513 0.55271043\n",
            " 0.53399021 0.554645   0.56453021 0.54873948 0.52607158 0.56748588\n",
            " 0.52609485 0.55961669 0.56155999 0.5645273  0.5763238  0.56949317\n",
            " 0.56847789 0.55566028 0.56455348 0.54476561 0.54186812 0.55765594\n",
            " 0.58917631 0.57633543 0.58918213 0.57144519 0.54682818 0.59314727\n",
            " 0.55463627 0.54973731 0.57242266 0.54385796 0.51229978 0.52114934\n",
            " 0.52612103 0.52114934 0.53890373 0.51230851 0.52706941 0.52415446\n",
            " 0.54584781 0.53102291 0.55663484 0.5477591  0.51825767 0.54385796\n",
            " 0.52904761 0.48567838 0.53694879 0.54972567 0.53492695 0.57337976\n",
            " 0.54777656 0.52210935 0.55367917 0.55272498 0.57931438 0.57927656\n",
            " 0.5695019  0.5379059  0.53203528 0.58227005 0.52804978 0.54873075\n",
            " 0.57931729 0.55369953 0.52907961 0.54680782 0.5753667  0.56455639\n",
            " 0.53397858 0.53995101 0.59310072 0.56353819 0.56252873 0.57047064\n",
            " 0.56061452 0.5507555  0.59018287 0.56649677 0.57237321 0.5457809\n",
            " 0.56945244 0.55861305 0.53298075 0.5556661  0.56455639 0.5527017\n",
            " 0.57143065 0.59600984 0.54385506 0.54185358 0.57439214 0.59013632\n",
            " 0.58227878 0.56843425 0.56061743 0.5537519  0.53593933 0.55563992\n",
            " 0.52313045 0.55072932 0.53101709 0.54286014 0.56157453 0.55171551\n",
            " 0.55661448 0.57931729 0.56158035 0.5694059  0.53104036 0.53988701\n",
            " 0.56351783 0.5457809  0.53595969 0.57233539 0.54577799 0.54972276\n",
            " 0.57831655 0.58917049 0.54777074 0.58620028 0.55957015 0.5349735\n",
            " 0.57438632 0.56355856 0.58131004 0.55467118 0.51620964 0.47982813\n",
            " 0.54580126 0.52507956 0.51825185 0.52804978 0.57237321 0.52215299\n",
            " 0.55565447 0.5438376  0.56352656 0.55660866 0.53888627 0.54975476\n",
            " 0.55367917 0.53987537 0.49852216 0.54976058 0.51030412 0.56156872\n",
            " 0.53791462 0.53890663 0.5527308  0.53299529 0.54972567 0.59897424\n",
            " 0.5300018  0.56455348 0.55662902 0.55765303 0.52614721 0.56353238\n",
            "        nan        nan        nan        nan        nan        nan\n",
            "        nan        nan        nan        nan        nan        nan\n",
            "        nan        nan        nan        nan        nan        nan\n",
            "        nan        nan        nan        nan        nan        nan\n",
            "        nan        nan        nan        nan        nan        nan\n",
            "        nan        nan        nan        nan        nan        nan\n",
            "        nan        nan        nan        nan        nan        nan\n",
            "        nan        nan        nan        nan        nan        nan\n",
            "        nan        nan        nan        nan        nan        nan\n",
            "        nan        nan        nan        nan        nan        nan\n",
            "        nan        nan        nan        nan        nan        nan\n",
            "        nan        nan        nan        nan        nan        nan\n",
            "        nan        nan        nan        nan        nan        nan\n",
            "        nan        nan        nan        nan        nan        nan\n",
            "        nan        nan        nan        nan        nan        nan\n",
            "        nan        nan        nan        nan        nan        nan]\n",
            "  category=UserWarning,\n"
          ]
        },
        {
          "output_type": "execute_result",
          "data": {
            "text/plain": [
              "GridSearchCV(cv=3, estimator=DecisionTreeClassifier(),\n",
              "             param_grid={'criterion': ['gini', 'entropy', 'log_loss'],\n",
              "                         'max_features': ['auto', 'sqrt', 'log2'],\n",
              "                         'min_samples_leaf': [1, 2, 3, 5],\n",
              "                         'min_samples_split': [2, 3, 4, 5],\n",
              "                         'splitter': ['best', 'random']})"
            ]
          },
          "metadata": {},
          "execution_count": 60
        }
      ]
    },
    {
      "cell_type": "code",
      "source": [
        "grid3.best_params_"
      ],
      "metadata": {
        "colab": {
          "base_uri": "https://localhost:8080/"
        },
        "id": "OsSFxD8vKsss",
        "outputId": "181b7950-f4b8-4db3-c048-532165650bef"
      },
      "execution_count": 61,
      "outputs": [
        {
          "output_type": "execute_result",
          "data": {
            "text/plain": [
              "{'criterion': 'gini',\n",
              " 'max_features': 'auto',\n",
              " 'min_samples_leaf': 5,\n",
              " 'min_samples_split': 2,\n",
              " 'splitter': 'random'}"
            ]
          },
          "metadata": {},
          "execution_count": 61
        }
      ]
    },
    {
      "cell_type": "code",
      "source": [
        "%matplotlib inline\n",
        "import matplotlib.pyplot as plt\n",
        "import seaborn; seaborn.set()  # plot formatting\n",
        "from sklearn.metrics import accuracy_score\n",
        "model3 = grid3.best_estimator_\n",
        "y2_pred3 = model3.fit(X_train, y_train).predict(X_test)\n",
        "score=cross_val_score(model3, X_train, y_train, cv=3)\n",
        "score.mean()"
      ],
      "metadata": {
        "colab": {
          "base_uri": "https://localhost:8080/"
        },
        "id": "ad8pY5d7Ku7P",
        "outputId": "967df8e5-9bfa-4277-a186-bea59cb6d98b"
      },
      "execution_count": 62,
      "outputs": [
        {
          "output_type": "execute_result",
          "data": {
            "text/plain": [
              "0.5881784806223199"
            ]
          },
          "metadata": {},
          "execution_count": 62
        }
      ]
    },
    {
      "cell_type": "code",
      "source": [
        "accuracy_score(y_test, y2_pred3)"
      ],
      "metadata": {
        "colab": {
          "base_uri": "https://localhost:8080/"
        },
        "id": "AxQq4AxGKz0K",
        "outputId": "d869a307-2caa-4414-f8de-4c4b4c908eed"
      },
      "execution_count": 63,
      "outputs": [
        {
          "output_type": "execute_result",
          "data": {
            "text/plain": [
              "0.5870206489675516"
            ]
          },
          "metadata": {},
          "execution_count": 63
        }
      ]
    },
    {
      "cell_type": "code",
      "source": [
        "from sklearn.metrics import confusion_matrix\n",
        "mat = confusion_matrix(y_test,y2_pred3)\n",
        "sns.heatmap(mat, square=True, annot=True, cmap = \"Greens_r\",cbar=True,fmt=\".1f\",linewidth=.5)\n",
        "plt.xlabel('predicted value')\n",
        "plt.ylabel('true value')\n",
        "plt.show()"
      ],
      "metadata": {
        "colab": {
          "base_uri": "https://localhost:8080/",
          "height": 285
        },
        "id": "Ti7perg2K1_V",
        "outputId": "ab381fec-d7f0-42e3-c218-7f651c397aa0"
      },
      "execution_count": 64,
      "outputs": [
        {
          "output_type": "display_data",
          "data": {
            "text/plain": [
              "<Figure size 432x288 with 2 Axes>"
            ],
            "image/png": "[encoded data removed]"
          },
          "metadata": {}
        }
      ]
    },
    {
      "cell_type": "code",
      "source": [
        "from sklearn.metrics import classification_report\n",
        "target_names = ['class 0', 'class 1', 'class 2','class 3']\n",
        "print(classification_report(y_test, y2_pred3, target_names=target_names))"
      ],
      "metadata": {
        "colab": {
          "base_uri": "https://localhost:8080/"
        },
        "id": "MvyoZDniK5LC",
        "outputId": "627fd389-4f59-4517-920f-70d260271ea8"
      },
      "execution_count": 65,
      "outputs": [
        {
          "output_type": "stream",
          "name": "stdout",
          "text": [
            "              precision    recall  f1-score   support\n",
            "\n",
            "     class 0       0.68      0.75      0.72       162\n",
            "     class 1       0.51      0.52      0.52       124\n",
            "     class 2       0.31      0.22      0.26        41\n",
            "     class 3       0.75      0.25      0.38        12\n",
            "\n",
            "    accuracy                           0.59       339\n",
            "   macro avg       0.56      0.44      0.47       339\n",
            "weighted avg       0.58      0.59      0.58       339\n",
            "\n"
          ]
        }
      ]
    },
    {
      "cell_type": "markdown",
      "source": [
        "Kısaca yorum yapmak gerekirse accuracy olarak 3 model içerisinde random forest en yüksek score'a sahip olmanın yanında Class-0 ve Class-1 için en yüksek precision, recall ve f1-score değerlerine yine Random Forest Classifier sahipken SVC ve Random Forest Classifier'ın confusion matrix'lerine bekıldığında ve Class-2 ile Class-3 precision,recall,f1-score değerlerine bakıldığında görülecektirki herhangi bir doğru tahmin bu sınıflar için sağlanamamıştır. Ancak Decision Tree'de bu böyle değildir. Decision Tree Classifierda her ne kadar RFC(Random Forest Classifier)'dan daha düşük accuracy ve Class-0, Class-1 ile Class-2 için precision değerlerine sahip olsada Class-3 için predictiondan'da bulunmuştur. Ancak unutulmamalıdır ki Class-3 verisi diğer class verilerine nazaran azınlıkta kalmaktadır. Bu gerçek RFC'nin Class-3 tahmininin doğru yapamaması hatasını diğer yönlerden üstünlüğü ile örtmesine neden olabilecektir."
      ],
      "metadata": {
        "id": "mNJstEaBbL9n"
      }
    }
  ]
}